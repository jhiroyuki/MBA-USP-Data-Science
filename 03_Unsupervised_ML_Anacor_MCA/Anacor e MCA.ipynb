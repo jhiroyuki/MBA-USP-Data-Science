{
 "cells": [
  {
   "cell_type": "markdown",
   "id": "ab8222f8-e728-4a6f-87f1-5113f1b1e2ad",
   "metadata": {},
   "source": [
    "# Exemplo 1: Perfil de Investidores (Anacor Simples / CA)"
   ]
  },
  {
   "cell_type": "code",
   "execution_count": 132,
   "id": "3e44b0c3-f634-4543-9cdd-340e0f2aeb7b",
   "metadata": {},
   "outputs": [],
   "source": [
    "import pandas as pd\n",
    "import prince\n",
    "from scipy.stats import chi2_contingency\n",
    "import numpy as np\n",
    "import matplotlib.pyplot as plt\n",
    "import seaborn as sns\n",
    "import math"
   ]
  },
  {
   "cell_type": "markdown",
   "id": "fba9695c-7466-4584-8c3f-f42b099a9ed3",
   "metadata": {
    "tags": [],
    "toc-hr-collapsed": true
   },
   "source": [
    "## 1.1. Base de dados"
   ]
  },
  {
   "cell_type": "code",
   "execution_count": 22,
   "id": "56fda986-9823-4d64-94d5-aef1217ec047",
   "metadata": {
    "tags": []
   },
   "outputs": [],
   "source": [
    "# Importando os dados\n",
    "\n",
    "df = pd.read_excel(\"datasets/perfil_investidor_aplicacao.xlsx\")"
   ]
  },
  {
   "cell_type": "code",
   "execution_count": 23,
   "id": "f59f206d-6023-49eb-89a2-4f50d98a1b78",
   "metadata": {},
   "outputs": [
    {
     "data": {
      "text/html": [
       "<div>\n",
       "<style scoped>\n",
       "    .dataframe tbody tr th:only-of-type {\n",
       "        vertical-align: middle;\n",
       "    }\n",
       "\n",
       "    .dataframe tbody tr th {\n",
       "        vertical-align: top;\n",
       "    }\n",
       "\n",
       "    .dataframe thead th {\n",
       "        text-align: right;\n",
       "    }\n",
       "</style>\n",
       "<table border=\"1\" class=\"dataframe\">\n",
       "  <thead>\n",
       "    <tr style=\"text-align: right;\">\n",
       "      <th></th>\n",
       "      <th>Estudante</th>\n",
       "      <th>Perfil</th>\n",
       "      <th>Tipo de Aplicação</th>\n",
       "    </tr>\n",
       "  </thead>\n",
       "  <tbody>\n",
       "    <tr>\n",
       "      <th>0</th>\n",
       "      <td>Gabriela</td>\n",
       "      <td>Conservador</td>\n",
       "      <td>Poupança</td>\n",
       "    </tr>\n",
       "    <tr>\n",
       "      <th>1</th>\n",
       "      <td>Luiz Felipe</td>\n",
       "      <td>Conservador</td>\n",
       "      <td>Poupança</td>\n",
       "    </tr>\n",
       "    <tr>\n",
       "      <th>2</th>\n",
       "      <td>Patrícia</td>\n",
       "      <td>Conservador</td>\n",
       "      <td>Poupança</td>\n",
       "    </tr>\n",
       "    <tr>\n",
       "      <th>3</th>\n",
       "      <td>Gustavo</td>\n",
       "      <td>Conservador</td>\n",
       "      <td>Poupança</td>\n",
       "    </tr>\n",
       "    <tr>\n",
       "      <th>4</th>\n",
       "      <td>Letícia</td>\n",
       "      <td>Conservador</td>\n",
       "      <td>Poupança</td>\n",
       "    </tr>\n",
       "  </tbody>\n",
       "</table>\n",
       "</div>"
      ],
      "text/plain": [
       "     Estudante       Perfil Tipo de Aplicação\n",
       "0     Gabriela  Conservador          Poupança\n",
       "1  Luiz Felipe  Conservador          Poupança\n",
       "2     Patrícia  Conservador          Poupança\n",
       "3      Gustavo  Conservador          Poupança\n",
       "4      Letícia  Conservador          Poupança"
      ]
     },
     "execution_count": 23,
     "metadata": {},
     "output_type": "execute_result"
    }
   ],
   "source": [
    "#%% Visualizando os dados e cada uma das variáveis\n",
    "\n",
    "df.head(5)\n"
   ]
  },
  {
   "cell_type": "code",
   "execution_count": 24,
   "id": "8e31a911-f9be-4547-93a7-3814e33fd99c",
   "metadata": {},
   "outputs": [
    {
     "name": "stdout",
     "output_type": "stream",
     "text": [
      "<class 'pandas.core.frame.DataFrame'>\n",
      "RangeIndex: 100 entries, 0 to 99\n",
      "Data columns (total 3 columns):\n",
      " #   Column             Non-Null Count  Dtype \n",
      "---  ------             --------------  ----- \n",
      " 0   Estudante          100 non-null    object\n",
      " 1   Perfil             100 non-null    object\n",
      " 2   Tipo de Aplicação  100 non-null    object\n",
      "dtypes: object(3)\n",
      "memory usage: 2.5+ KB\n"
     ]
    }
   ],
   "source": [
    "df.info()"
   ]
  },
  {
   "cell_type": "code",
   "execution_count": 25,
   "id": "9c92fb1b-70dc-4971-9198-7b18c991ad43",
   "metadata": {},
   "outputs": [
    {
     "data": {
      "text/html": [
       "<div>\n",
       "<style scoped>\n",
       "    .dataframe tbody tr th:only-of-type {\n",
       "        vertical-align: middle;\n",
       "    }\n",
       "\n",
       "    .dataframe tbody tr th {\n",
       "        vertical-align: top;\n",
       "    }\n",
       "\n",
       "    .dataframe thead th {\n",
       "        text-align: right;\n",
       "    }\n",
       "</style>\n",
       "<table border=\"1\" class=\"dataframe\">\n",
       "  <thead>\n",
       "    <tr style=\"text-align: right;\">\n",
       "      <th></th>\n",
       "      <th>Estudante</th>\n",
       "      <th>Perfil</th>\n",
       "      <th>Tipo de Aplicação</th>\n",
       "    </tr>\n",
       "  </thead>\n",
       "  <tbody>\n",
       "    <tr>\n",
       "      <th>count</th>\n",
       "      <td>100</td>\n",
       "      <td>100</td>\n",
       "      <td>100</td>\n",
       "    </tr>\n",
       "    <tr>\n",
       "      <th>unique</th>\n",
       "      <td>100</td>\n",
       "      <td>3</td>\n",
       "      <td>3</td>\n",
       "    </tr>\n",
       "    <tr>\n",
       "      <th>top</th>\n",
       "      <td>Gabriela</td>\n",
       "      <td>Agressivo</td>\n",
       "      <td>Ações</td>\n",
       "    </tr>\n",
       "    <tr>\n",
       "      <th>freq</th>\n",
       "      <td>1</td>\n",
       "      <td>58</td>\n",
       "      <td>45</td>\n",
       "    </tr>\n",
       "  </tbody>\n",
       "</table>\n",
       "</div>"
      ],
      "text/plain": [
       "       Estudante     Perfil Tipo de Aplicação\n",
       "count        100        100               100\n",
       "unique       100          3                 3\n",
       "top     Gabriela  Agressivo             Ações\n",
       "freq           1         58                45"
      ]
     },
     "execution_count": 25,
     "metadata": {},
     "output_type": "execute_result"
    }
   ],
   "source": [
    "# Estatísticas descritivas\n",
    "summary = df.describe(include = 'all')\n",
    "summary\n"
   ]
  },
  {
   "cell_type": "markdown",
   "id": "f72b414d-ba4a-4f79-b28a-fd6b8f1b5580",
   "metadata": {
    "tags": []
   },
   "source": [
    "## 1.2. Anacor Simples"
   ]
  },
  {
   "cell_type": "markdown",
   "id": "6eeb9468-9010-4d53-8c66-966aa5e018cd",
   "metadata": {},
   "source": [
    "### - Análises Preliminares"
   ]
  },
  {
   "cell_type": "code",
   "execution_count": 26,
   "id": "6e0e9fb1-c03a-465f-adc3-215aa546e01e",
   "metadata": {},
   "outputs": [
    {
     "data": {
      "text/html": [
       "<div>\n",
       "<style scoped>\n",
       "    .dataframe tbody tr th:only-of-type {\n",
       "        vertical-align: middle;\n",
       "    }\n",
       "\n",
       "    .dataframe tbody tr th {\n",
       "        vertical-align: top;\n",
       "    }\n",
       "\n",
       "    .dataframe thead th {\n",
       "        text-align: right;\n",
       "    }\n",
       "</style>\n",
       "<table border=\"1\" class=\"dataframe\">\n",
       "  <thead>\n",
       "    <tr style=\"text-align: right;\">\n",
       "      <th>Tipo de Aplicação</th>\n",
       "      <th>Ações</th>\n",
       "      <th>CDB</th>\n",
       "      <th>Poupança</th>\n",
       "    </tr>\n",
       "    <tr>\n",
       "      <th>Perfil</th>\n",
       "      <th></th>\n",
       "      <th></th>\n",
       "      <th></th>\n",
       "    </tr>\n",
       "  </thead>\n",
       "  <tbody>\n",
       "    <tr>\n",
       "      <th>Agressivo</th>\n",
       "      <td>36</td>\n",
       "      <td>20</td>\n",
       "      <td>2</td>\n",
       "    </tr>\n",
       "    <tr>\n",
       "      <th>Conservador</th>\n",
       "      <td>5</td>\n",
       "      <td>4</td>\n",
       "      <td>8</td>\n",
       "    </tr>\n",
       "    <tr>\n",
       "      <th>Moderado</th>\n",
       "      <td>4</td>\n",
       "      <td>16</td>\n",
       "      <td>5</td>\n",
       "    </tr>\n",
       "  </tbody>\n",
       "</table>\n",
       "</div>"
      ],
      "text/plain": [
       "Tipo de Aplicação  Ações  CDB  Poupança\n",
       "Perfil                                 \n",
       "Agressivo             36   20         2\n",
       "Conservador            5    4         8\n",
       "Moderado               4   16         5"
      ]
     },
     "execution_count": 26,
     "metadata": {},
     "output_type": "execute_result"
    }
   ],
   "source": [
    "# Tabelas de frequência das variáveis\n",
    "tabela_contingencia = pd.crosstab(index=df['Perfil'], columns=df['Tipo de Aplicação'])\n",
    "tabela_contingencia"
   ]
  },
  {
   "cell_type": "code",
   "execution_count": 27,
   "id": "0ec62066-52b3-4cbd-9a30-51c3f63ab057",
   "metadata": {},
   "outputs": [
    {
     "data": {
      "text/plain": [
       "100"
      ]
     },
     "execution_count": 27,
     "metadata": {},
     "output_type": "execute_result"
    }
   ],
   "source": [
    "# Definição da quantidade de observações na tabela de contingência\n",
    "n = tabela_contingencia.sum().sum()\n",
    "n"
   ]
  },
  {
   "cell_type": "code",
   "execution_count": 28,
   "id": "fc848909-f5ec-443a-9990-42c10ba16be4",
   "metadata": {},
   "outputs": [
    {
     "name": "stdout",
     "output_type": "stream",
     "text": [
      "estatística qui²: 31.764164976335362\n",
      "p-valor da estatística: 2.137594051381398e-06\n",
      "graus de liberdade: 4\n"
     ]
    }
   ],
   "source": [
    "#%% Analisando a significância estatística da associação (teste qui²)\n",
    "# Se o p valor é menor que 0.05 então se rejeita  hipótese nula, isto é, que as variáveis não \n",
    "# tem associação estatisticamente relevantes.\n",
    "\n",
    "chi2, pvalor, dgf, freq_esp = chi2_contingency(tabela_contingencia)\n",
    "\n",
    "print(f\"estatística qui²: {chi2}\") # estatística qui²\n",
    "print(f\"p-valor da estatística: {pvalor}\") # p-valor da estatística\n",
    "print(f\"graus de liberdade: {dgf}\") # graus de liberdade"
   ]
  },
  {
   "cell_type": "markdown",
   "id": "dd02da8e-9923-4349-9ad0-f178f9bce476",
   "metadata": {},
   "source": [
    "### - Processo manual"
   ]
  },
  {
   "cell_type": "markdown",
   "id": "33882373-e2dc-492d-8f04-f843a2cd74cb",
   "metadata": {},
   "source": [
    "O processo descrito abaixo dá um valores diferentes daqueles dados pelo Prince, apesar de serem qualitativamente iguais."
   ]
  },
  {
   "cell_type": "code",
   "execution_count": 42,
   "id": "0288d13c-ebe3-497a-820c-207ebae60b53",
   "metadata": {},
   "outputs": [
    {
     "data": {
      "text/html": [
       "<div>\n",
       "<style scoped>\n",
       "    .dataframe tbody tr th:only-of-type {\n",
       "        vertical-align: middle;\n",
       "    }\n",
       "\n",
       "    .dataframe tbody tr th {\n",
       "        vertical-align: top;\n",
       "    }\n",
       "\n",
       "    .dataframe thead th {\n",
       "        text-align: right;\n",
       "    }\n",
       "</style>\n",
       "<table border=\"1\" class=\"dataframe\">\n",
       "  <thead>\n",
       "    <tr style=\"text-align: right;\">\n",
       "      <th></th>\n",
       "      <th>Ações</th>\n",
       "      <th>CDB</th>\n",
       "      <th>Poupança</th>\n",
       "    </tr>\n",
       "  </thead>\n",
       "  <tbody>\n",
       "    <tr>\n",
       "      <th>Agressivo</th>\n",
       "      <td>26.10</td>\n",
       "      <td>23.2</td>\n",
       "      <td>8.70</td>\n",
       "    </tr>\n",
       "    <tr>\n",
       "      <th>Conservador</th>\n",
       "      <td>7.65</td>\n",
       "      <td>6.8</td>\n",
       "      <td>2.55</td>\n",
       "    </tr>\n",
       "    <tr>\n",
       "      <th>Moderado</th>\n",
       "      <td>11.25</td>\n",
       "      <td>10.0</td>\n",
       "      <td>3.75</td>\n",
       "    </tr>\n",
       "  </tbody>\n",
       "</table>\n",
       "</div>"
      ],
      "text/plain": [
       "             Ações   CDB  Poupança\n",
       "Agressivo    26.10  23.2      8.70\n",
       "Conservador   7.65   6.8      2.55\n",
       "Moderado     11.25  10.0      3.75"
      ]
     },
     "execution_count": 42,
     "metadata": {},
     "output_type": "execute_result"
    }
   ],
   "source": [
    "# Tabela de frequências esperadas\n",
    "freq_esp = pd.DataFrame(freq_esp, \n",
    "                        index = tabela_contingencia.index.values, \n",
    "                        columns = tabela_contingencia.columns.values)\n",
    "freq_esp"
   ]
  },
  {
   "cell_type": "code",
   "execution_count": 44,
   "id": "d359fc0b-ae2d-4453-b0b1-bfb377323bf6",
   "metadata": {},
   "outputs": [
    {
     "data": {
      "text/html": [
       "<div>\n",
       "<style scoped>\n",
       "    .dataframe tbody tr th:only-of-type {\n",
       "        vertical-align: middle;\n",
       "    }\n",
       "\n",
       "    .dataframe tbody tr th {\n",
       "        vertical-align: top;\n",
       "    }\n",
       "\n",
       "    .dataframe thead th {\n",
       "        text-align: right;\n",
       "    }\n",
       "</style>\n",
       "<table border=\"1\" class=\"dataframe\">\n",
       "  <thead>\n",
       "    <tr style=\"text-align: right;\">\n",
       "      <th>Tipo de Aplicação</th>\n",
       "      <th>Ações</th>\n",
       "      <th>CDB</th>\n",
       "      <th>Poupança</th>\n",
       "    </tr>\n",
       "    <tr>\n",
       "      <th>Perfil</th>\n",
       "      <th></th>\n",
       "      <th></th>\n",
       "      <th></th>\n",
       "    </tr>\n",
       "  </thead>\n",
       "  <tbody>\n",
       "    <tr>\n",
       "      <th>Agressivo</th>\n",
       "      <td>9.90</td>\n",
       "      <td>-3.2</td>\n",
       "      <td>-6.70</td>\n",
       "    </tr>\n",
       "    <tr>\n",
       "      <th>Conservador</th>\n",
       "      <td>-2.65</td>\n",
       "      <td>-2.8</td>\n",
       "      <td>5.45</td>\n",
       "    </tr>\n",
       "    <tr>\n",
       "      <th>Moderado</th>\n",
       "      <td>-7.25</td>\n",
       "      <td>6.0</td>\n",
       "      <td>1.25</td>\n",
       "    </tr>\n",
       "  </tbody>\n",
       "</table>\n",
       "</div>"
      ],
      "text/plain": [
       "Tipo de Aplicação  Ações  CDB  Poupança\n",
       "Perfil                                 \n",
       "Agressivo           9.90 -3.2     -6.70\n",
       "Conservador        -2.65 -2.8      5.45\n",
       "Moderado           -7.25  6.0      1.25"
      ]
     },
     "execution_count": 44,
     "metadata": {},
     "output_type": "execute_result"
    }
   ],
   "source": [
    "#%%\n",
    "# Resíduos – diferenças entre frequências absolutas observadas e esperadas\n",
    "residues = tabela_contingencia  -freq_esp\n",
    "residues"
   ]
  },
  {
   "cell_type": "code",
   "execution_count": 45,
   "id": "62921fa1-2892-4ef8-a2a5-ec43aa934b25",
   "metadata": {},
   "outputs": [
    {
     "data": {
      "text/html": [
       "<div>\n",
       "<style scoped>\n",
       "    .dataframe tbody tr th:only-of-type {\n",
       "        vertical-align: middle;\n",
       "    }\n",
       "\n",
       "    .dataframe tbody tr th {\n",
       "        vertical-align: top;\n",
       "    }\n",
       "\n",
       "    .dataframe thead th {\n",
       "        text-align: right;\n",
       "    }\n",
       "</style>\n",
       "<table border=\"1\" class=\"dataframe\">\n",
       "  <thead>\n",
       "    <tr style=\"text-align: right;\">\n",
       "      <th>Tipo de Aplicação</th>\n",
       "      <th>Ações</th>\n",
       "      <th>CDB</th>\n",
       "      <th>Poupança</th>\n",
       "    </tr>\n",
       "    <tr>\n",
       "      <th>Perfil</th>\n",
       "      <th></th>\n",
       "      <th></th>\n",
       "      <th></th>\n",
       "    </tr>\n",
       "  </thead>\n",
       "  <tbody>\n",
       "    <tr>\n",
       "      <th>Agressivo</th>\n",
       "      <td>3.755172</td>\n",
       "      <td>0.441379</td>\n",
       "      <td>5.159770</td>\n",
       "    </tr>\n",
       "    <tr>\n",
       "      <th>Conservador</th>\n",
       "      <td>0.917974</td>\n",
       "      <td>1.152941</td>\n",
       "      <td>11.648039</td>\n",
       "    </tr>\n",
       "    <tr>\n",
       "      <th>Moderado</th>\n",
       "      <td>4.672222</td>\n",
       "      <td>3.600000</td>\n",
       "      <td>0.416667</td>\n",
       "    </tr>\n",
       "  </tbody>\n",
       "</table>\n",
       "</div>"
      ],
      "text/plain": [
       "Tipo de Aplicação     Ações       CDB   Poupança\n",
       "Perfil                                          \n",
       "Agressivo          3.755172  0.441379   5.159770\n",
       "Conservador        0.917974  1.152941  11.648039\n",
       "Moderado           4.672222  3.600000   0.416667"
      ]
     },
     "execution_count": 45,
     "metadata": {},
     "output_type": "execute_result"
    }
   ],
   "source": [
    "# Valores de qui-quadrado por célula\n",
    "chi2_table = (tabela_contingencia  -freq_esp)**2/freq_esp\n",
    "chi2_table"
   ]
  },
  {
   "cell_type": "code",
   "execution_count": 48,
   "id": "9a8934fd-5c3e-46f3-b922-ee4d09a5ac09",
   "metadata": {},
   "outputs": [
    {
     "data": {
      "text/html": [
       "<div>\n",
       "<style scoped>\n",
       "    .dataframe tbody tr th:only-of-type {\n",
       "        vertical-align: middle;\n",
       "    }\n",
       "\n",
       "    .dataframe tbody tr th {\n",
       "        vertical-align: top;\n",
       "    }\n",
       "\n",
       "    .dataframe thead th {\n",
       "        text-align: right;\n",
       "    }\n",
       "</style>\n",
       "<table border=\"1\" class=\"dataframe\">\n",
       "  <thead>\n",
       "    <tr style=\"text-align: right;\">\n",
       "      <th>Tipo de Aplicação</th>\n",
       "      <th>Ações</th>\n",
       "      <th>CDB</th>\n",
       "      <th>Poupança</th>\n",
       "    </tr>\n",
       "    <tr>\n",
       "      <th>Perfil</th>\n",
       "      <th></th>\n",
       "      <th></th>\n",
       "      <th></th>\n",
       "    </tr>\n",
       "  </thead>\n",
       "  <tbody>\n",
       "    <tr>\n",
       "      <th>Agressivo</th>\n",
       "      <td>1.937827</td>\n",
       "      <td>-0.664364</td>\n",
       "      <td>-2.271513</td>\n",
       "    </tr>\n",
       "    <tr>\n",
       "      <th>Conservador</th>\n",
       "      <td>-0.958110</td>\n",
       "      <td>-1.073751</td>\n",
       "      <td>3.412922</td>\n",
       "    </tr>\n",
       "    <tr>\n",
       "      <th>Moderado</th>\n",
       "      <td>-2.161532</td>\n",
       "      <td>1.897367</td>\n",
       "      <td>0.645497</td>\n",
       "    </tr>\n",
       "  </tbody>\n",
       "</table>\n",
       "</div>"
      ],
      "text/plain": [
       "Tipo de Aplicação     Ações       CDB  Poupança\n",
       "Perfil                                         \n",
       "Agressivo          1.937827 -0.664364 -2.271513\n",
       "Conservador       -0.958110 -1.073751  3.412922\n",
       "Moderado          -2.161532  1.897367  0.645497"
      ]
     },
     "execution_count": 48,
     "metadata": {},
     "output_type": "execute_result"
    }
   ],
   "source": [
    "# Resíduos padronizados\n",
    "std_residuals = (tabela_contingencia - freq_esp) / np.sqrt(freq_esp)\n",
    "std_residuals"
   ]
  },
  {
   "cell_type": "code",
   "execution_count": 50,
   "id": "20af3874-d147-4547-8d11-fa8813801606",
   "metadata": {},
   "outputs": [
    {
     "data": {
      "text/html": [
       "<div>\n",
       "<style scoped>\n",
       "    .dataframe tbody tr th:only-of-type {\n",
       "        vertical-align: middle;\n",
       "    }\n",
       "\n",
       "    .dataframe tbody tr th {\n",
       "        vertical-align: top;\n",
       "    }\n",
       "\n",
       "    .dataframe thead th {\n",
       "        text-align: right;\n",
       "    }\n",
       "</style>\n",
       "<table border=\"1\" class=\"dataframe\">\n",
       "  <thead>\n",
       "    <tr style=\"text-align: right;\">\n",
       "      <th>Tipo de Aplicação</th>\n",
       "      <th>Ações</th>\n",
       "      <th>CDB</th>\n",
       "      <th>Poupança</th>\n",
       "    </tr>\n",
       "    <tr>\n",
       "      <th>Perfil</th>\n",
       "      <th></th>\n",
       "      <th></th>\n",
       "      <th></th>\n",
       "    </tr>\n",
       "  </thead>\n",
       "  <tbody>\n",
       "    <tr>\n",
       "      <th>Agressivo</th>\n",
       "      <td>4.031893</td>\n",
       "      <td>-1.323444</td>\n",
       "      <td>-3.801728</td>\n",
       "    </tr>\n",
       "    <tr>\n",
       "      <th>Conservador</th>\n",
       "      <td>-1.418061</td>\n",
       "      <td>-1.521559</td>\n",
       "      <td>4.063291</td>\n",
       "    </tr>\n",
       "    <tr>\n",
       "      <th>Moderado</th>\n",
       "      <td>-3.365501</td>\n",
       "      <td>2.828427</td>\n",
       "      <td>0.808452</td>\n",
       "    </tr>\n",
       "  </tbody>\n",
       "</table>\n",
       "</div>"
      ],
      "text/plain": [
       "Tipo de Aplicação     Ações       CDB  Poupança\n",
       "Perfil                                         \n",
       "Agressivo          4.031893 -1.323444 -3.801728\n",
       "Conservador       -1.418061 -1.521559  4.063291\n",
       "Moderado          -3.365501  2.828427  0.808452"
      ]
     },
     "execution_count": 50,
     "metadata": {},
     "output_type": "execute_result"
    }
   ],
   "source": [
    "# Resíduos padronizados ajustados\n",
    "from scipy.stats.contingency import margins\n",
    "\n",
    "rsum, csum = margins(tabela_contingencia)\n",
    "rsum = rsum.astype(np.float64)\n",
    "csum = csum.astype(np.float64)\n",
    "v = csum * rsum * (n - rsum) * (n - csum) / n**3\n",
    "adjusted_residuals = (tabela_contingencia - freq_esp) / np.sqrt(v)\n",
    "\n",
    "\n",
    "adjusted_residuals"
   ]
  },
  {
   "cell_type": "code",
   "execution_count": 55,
   "id": "9a0b26b5-7840-4a53-8892-0478c0e6f578",
   "metadata": {},
   "outputs": [
    {
     "data": {
      "text/plain": [
       "[Text(0.5, 0, 'Ações'), Text(1.5, 0, 'CDB'), Text(2.5, 0, 'Poupança')]"
      ]
     },
     "execution_count": 55,
     "metadata": {},
     "output_type": "execute_result"
    },
    {
     "data": {
      "image/png": "[encoded data removed]",
      "text/plain": [
       "<Figure size 1000x1000 with 2 Axes>"
      ]
     },
     "metadata": {},
     "output_type": "display_data"
    }
   ],
   "source": [
    "#%%\n",
    "# Mapa de calor dos resíduos padronizados ajustados  \n",
    "# Não é tão necessaŕio assim, o mais interessante aqui é conseguir ajustar o midpoint do colormap pra conseguir vizualisar os valores maiores que 1.96, em que há associação significativa entre as categorias que interagem na célula.\n",
    "# A referência de 1.96 é o valor crítico da normal padrão para o nível de significância de 5%\n",
    "fig = plt.subplots(figsize=(10,10)) \n",
    "ax = sns.heatmap(\n",
    "    adjusted_residuals, \n",
    "    vmin=-1, vmax=1, center=0,\n",
    "    cmap=sns.diverging_palette(20, 220, n=200),\n",
    "    square=True,\n",
    "    annot=True, \n",
    "    fmt='.3f')\n",
    "\n",
    "ax.set_xticklabels(\n",
    "    ax.get_xticklabels(),   \n",
    "    rotation=45,\n",
    "    horizontalalignment='right'\n",
    ")"
   ]
  },
  {
   "cell_type": "code",
   "execution_count": 56,
   "id": "499234b9-6932-49a3-a095-2bc088a1f245",
   "metadata": {},
   "outputs": [
    {
     "data": {
      "text/plain": [
       "array([[ 0.19378267, -0.06643638, -0.22715127],\n",
       "       [-0.09581095, -0.1073751 ,  0.34129224],\n",
       "       [-0.21615324,  0.18973666,  0.06454972]])"
      ]
     },
     "execution_count": 56,
     "metadata": {},
     "output_type": "execute_result"
    }
   ],
   "source": [
    "# Definição da matriz A\n",
    "# Resíduos padronizados (qui2$residuals) divididos pela raiz quadrada do tamanho da amostra (n)\n",
    "\n",
    "matrizA = std_residuals/np.sqrt(n)\n",
    "matrizA = matrizA.values\n",
    "matrizA"
   ]
  },
  {
   "cell_type": "code",
   "execution_count": 57,
   "id": "ab19b92b-1111-4e34-b31d-805a9c212a43",
   "metadata": {},
   "outputs": [
    {
     "data": {
      "text/plain": [
       "array([[ 0.09345368, -0.0435987 , -0.09067015],\n",
       "       [-0.0435987 ,  0.0519432 , -0.00930773],\n",
       "       [-0.09067015, -0.00930773,  0.17224476]])"
      ]
     },
     "execution_count": 57,
     "metadata": {},
     "output_type": "execute_result"
    }
   ],
   "source": [
    "# Definição da matriz W\n",
    "# Multiplicação da matriz A transposta pela matriz A\n",
    "\n",
    "matrizW = np.matmul(matrizA.T, matrizA)\n",
    "matrizW"
   ]
  },
  {
   "cell_type": "code",
   "execution_count": 58,
   "id": "9953e807-2ba4-4ad0-8458-ab859d3b3bfa",
   "metadata": {},
   "outputs": [
    {
     "data": {
      "text/plain": [
       "2"
      ]
     },
     "execution_count": 58,
     "metadata": {},
     "output_type": "execute_result"
    }
   ],
   "source": [
    "\n",
    "# Definição da quantidade de dimensões\n",
    "nrow = len(matrizW)\n",
    "ncol = len(matrizW[0])\n",
    "qtde_dimensoes = min(nrow - 1, ncol - 1)\n",
    "qtde_dimensoes\n"
   ]
  },
  {
   "cell_type": "code",
   "execution_count": 59,
   "id": "a0f496a2-2d90-4bd7-86f3-4841964937d8",
   "metadata": {},
   "outputs": [
    {
     "data": {
      "text/plain": [
       "array([4.82923258e-01, 2.90562862e-01, 9.41508110e-18])"
      ]
     },
     "execution_count": 59,
     "metadata": {},
     "output_type": "execute_result"
    }
   ],
   "source": [
    "\n",
    "# Singular Value Decomposition\n",
    "u, valores_singulares, vt = np.linalg.svd(matrizA)\n",
    "v = vt.T\n",
    "idx = valores_singulares.argsort()[::-1] # Arrumar valores singulares de maneira decrescente\n",
    "valores_singulares = valores_singulares[idx]\n",
    "u = u[:,idx]\n",
    "v = v[:,idx] \n",
    "\n",
    "\n",
    "valores_singulares\n",
    "\n"
   ]
  },
  {
   "cell_type": "code",
   "execution_count": 60,
   "id": "70607fc7-d9d8-47a2-8f17-ac70fcb2878e",
   "metadata": {},
   "outputs": [
    {
     "data": {
      "text/plain": [
       "array([2.33214873e-01, 8.44267769e-02, 8.86437520e-35])"
      ]
     },
     "execution_count": 60,
     "metadata": {},
     "output_type": "execute_result"
    }
   ],
   "source": [
    "# Autovalores\n",
    "eigenvalues = valores_singulares**2\n",
    "eigenvalues\n"
   ]
  },
  {
   "cell_type": "code",
   "execution_count": 62,
   "id": "b400a1fc-57e9-4243-8247-d408006e9cba",
   "metadata": {},
   "outputs": [],
   "source": [
    "# Valores singulares truncado para o número de dimensões\n",
    "eigenvalues_truncated = eigenvalues[:qtde_dimensoes]\n",
    "singular_truncated = valores_singulares[:qtde_dimensoes]"
   ]
  },
  {
   "cell_type": "code",
   "execution_count": 64,
   "id": "ff77134c-492e-40e7-b27e-025219d4268a",
   "metadata": {},
   "outputs": [
    {
     "data": {
      "text/plain": [
       "0.31764164976335363"
      ]
     },
     "execution_count": 64,
     "metadata": {},
     "output_type": "execute_result"
    }
   ],
   "source": [
    "# Cálculo da inércia principal total (a partir do qui-quadrado)\n",
    "# Esse valor é a soma dos autovalores\n",
    "inercia_total = chi2/n\n",
    "inercia_total"
   ]
  },
  {
   "cell_type": "code",
   "execution_count": 65,
   "id": "001be761-ef0f-4cb6-b0e7-f9a03e35be81",
   "metadata": {},
   "outputs": [
    {
     "data": {
      "text/plain": [
       "array([0.73420747, 0.26579253])"
      ]
     },
     "execution_count": 65,
     "metadata": {},
     "output_type": "execute_result"
    }
   ],
   "source": [
    "# Cálculo da variância explicada em cada dimensão\n",
    "# Esse o valor da porcentagem dos autovalores\n",
    "variancia_explicada = eigenvalues_truncated / inercia_total\n",
    "\n",
    "variancia_explicada\n"
   ]
  },
  {
   "cell_type": "code",
   "execution_count": 66,
   "id": "4d9afc2f-eb3d-40b0-aa57-29f962a822b8",
   "metadata": {},
   "outputs": [
    {
     "data": {
      "text/plain": [
       "Perfil\n",
       "Agressivo      0.58\n",
       "Conservador    0.17\n",
       "Moderado       0.25\n",
       "dtype: float64"
      ]
     },
     "execution_count": 66,
     "metadata": {},
     "output_type": "execute_result"
    }
   ],
   "source": [
    "# Cálculo das massas das colunas (column profiles)\n",
    "soma_colunas = np.sum(tabela_contingencia, axis = 1)\n",
    "massa_colunas = soma_colunas / n\n",
    "\n",
    "massa_colunas"
   ]
  },
  {
   "cell_type": "code",
   "execution_count": 67,
   "id": "e72f22c9-90f9-4dfe-a994-d9d6214ec487",
   "metadata": {},
   "outputs": [
    {
     "data": {
      "text/plain": [
       "Tipo de Aplicação\n",
       "Ações       0.45\n",
       "CDB         0.40\n",
       "Poupança    0.15\n",
       "dtype: float64"
      ]
     },
     "execution_count": 67,
     "metadata": {},
     "output_type": "execute_result"
    }
   ],
   "source": [
    "# Cálculo das massas das linhas (row profiles)\n",
    "soma_linhas  = np.sum(tabela_contingencia, axis = 0)\n",
    "massa_linhas = soma_linhas / n\n",
    "massa_linhas\n"
   ]
  },
  {
   "cell_type": "code",
   "execution_count": 68,
   "id": "62d44787-b6d0-465e-bfb4-3ebe2a5f8fc2",
   "metadata": {},
   "outputs": [
    {
     "data": {
      "text/plain": [
       "array([[-0.62491193, -0.17171219],\n",
       "       [ 0.67162481, -0.61556487],\n",
       "       [ 0.39800149,  0.76915201]])"
      ]
     },
     "execution_count": 68,
     "metadata": {},
     "output_type": "execute_result"
    }
   ],
   "source": [
    "# Autovetores u e v das dimensões\n",
    "autovetor_u = u[:,:qtde_dimensoes]\n",
    "autovetor_v = v[:,:qtde_dimensoes]\n",
    "\n",
    "autovetor_u\n",
    "\n"
   ]
  },
  {
   "cell_type": "code",
   "execution_count": 69,
   "id": "b663c46a-8138-4c29-a3de-0df28c824422",
   "metadata": {},
   "outputs": [
    {
     "data": {
      "text/plain": [
       "array([[-0.56215025, -0.48372213],\n",
       "       [ 0.09300977,  0.76899232],\n",
       "       [ 0.82178847, -0.41792789]])"
      ]
     },
     "execution_count": 69,
     "metadata": {},
     "output_type": "execute_result"
    }
   ],
   "source": [
    "autovetor_v"
   ]
  },
  {
   "cell_type": "code",
   "execution_count": 70,
   "id": "d5fe563c-b587-45bd-8431-598a20e2c8b5",
   "metadata": {},
   "outputs": [],
   "source": [
    "# Calculando as coordenadas para plotar as categorias no mapa perceptual\n",
    "\n",
    "# Variável em linha na tabela de contingência ('perfil')\n",
    "# Coordenadas das abcissas\n",
    "coord_abcissas_perfil = np.sqrt(valores_singulares[0]) * (massa_colunas**(-0.5)) * autovetor_u[:,0]\n",
    "# Coordenadas das ordenadas\n",
    "coord_ordenadas_perfil = np.sqrt(valores_singulares[1]) * (massa_colunas**(-0.5)) * autovetor_u[:,1]\n",
    "\n",
    "# Variável em coluna na tabela de contingência ('aplicacao')\n",
    "# Coordenadas das abcissas\n",
    "coord_abcissas_aplicacao = np.sqrt(valores_singulares[0]) * (massa_linhas**(-0.5)) * autovetor_v[:,0]\n",
    "# Coordenadas das ordenadas\n",
    "coord_ordenadas_aplicacao = np.sqrt(valores_singulares[1]) * (massa_linhas**(-0.5)) * autovetor_v[:,1]\n",
    "\n"
   ]
  },
  {
   "cell_type": "code",
   "execution_count": 71,
   "id": "04ad743c-f9ec-48cc-94c5-c88c0beae30e",
   "metadata": {},
   "outputs": [
    {
     "data": {
      "text/html": [
       "<div>\n",
       "<style scoped>\n",
       "    .dataframe tbody tr th:only-of-type {\n",
       "        vertical-align: middle;\n",
       "    }\n",
       "\n",
       "    .dataframe tbody tr th {\n",
       "        vertical-align: top;\n",
       "    }\n",
       "\n",
       "    .dataframe thead th {\n",
       "        text-align: right;\n",
       "    }\n",
       "</style>\n",
       "<table border=\"1\" class=\"dataframe\">\n",
       "  <thead>\n",
       "    <tr style=\"text-align: right;\">\n",
       "      <th></th>\n",
       "      <th>x</th>\n",
       "      <th>y</th>\n",
       "    </tr>\n",
       "  </thead>\n",
       "  <tbody>\n",
       "    <tr>\n",
       "      <th>Agressivo</th>\n",
       "      <td>-0.570222</td>\n",
       "      <td>-0.121537</td>\n",
       "    </tr>\n",
       "    <tr>\n",
       "      <th>Conservador</th>\n",
       "      <td>1.131987</td>\n",
       "      <td>-0.804766</td>\n",
       "    </tr>\n",
       "    <tr>\n",
       "      <th>Moderado</th>\n",
       "      <td>0.553164</td>\n",
       "      <td>0.829206</td>\n",
       "    </tr>\n",
       "  </tbody>\n",
       "</table>\n",
       "</div>"
      ],
      "text/plain": [
       "                    x         y\n",
       "Agressivo   -0.570222 -0.121537\n",
       "Conservador  1.131987 -0.804766\n",
       "Moderado     0.553164  0.829206"
      ]
     },
     "execution_count": 71,
     "metadata": {},
     "output_type": "execute_result"
    }
   ],
   "source": [
    "coord_perfil = pd.DataFrame({'x': coord_abcissas_perfil.values, 'y' : coord_ordenadas_perfil.values},\n",
    "                            index = coord_abcissas_perfil.index.values)\n",
    "coord_perfil"
   ]
  },
  {
   "cell_type": "code",
   "execution_count": 72,
   "id": "9d3003b8-e691-4a10-9dcc-6f6eef31c51d",
   "metadata": {},
   "outputs": [
    {
     "data": {
      "text/html": [
       "<div>\n",
       "<style scoped>\n",
       "    .dataframe tbody tr th:only-of-type {\n",
       "        vertical-align: middle;\n",
       "    }\n",
       "\n",
       "    .dataframe tbody tr th {\n",
       "        vertical-align: top;\n",
       "    }\n",
       "\n",
       "    .dataframe thead th {\n",
       "        text-align: right;\n",
       "    }\n",
       "</style>\n",
       "<table border=\"1\" class=\"dataframe\">\n",
       "  <thead>\n",
       "    <tr style=\"text-align: right;\">\n",
       "      <th></th>\n",
       "      <th>x</th>\n",
       "      <th>y</th>\n",
       "    </tr>\n",
       "  </thead>\n",
       "  <tbody>\n",
       "    <tr>\n",
       "      <th>Ações</th>\n",
       "      <td>-0.582352</td>\n",
       "      <td>-0.388696</td>\n",
       "    </tr>\n",
       "    <tr>\n",
       "      <th>CDB</th>\n",
       "      <td>0.102197</td>\n",
       "      <td>0.655408</td>\n",
       "    </tr>\n",
       "    <tr>\n",
       "      <th>Poupança</th>\n",
       "      <td>1.474530</td>\n",
       "      <td>-0.581669</td>\n",
       "    </tr>\n",
       "  </tbody>\n",
       "</table>\n",
       "</div>"
      ],
      "text/plain": [
       "                 x         y\n",
       "Ações    -0.582352 -0.388696\n",
       "CDB       0.102197  0.655408\n",
       "Poupança  1.474530 -0.581669"
      ]
     },
     "execution_count": 72,
     "metadata": {},
     "output_type": "execute_result"
    }
   ],
   "source": [
    "\n",
    "coord_aplicacao = pd.DataFrame({'x': coord_abcissas_aplicacao.values, 'y' : coord_ordenadas_aplicacao.values},\n",
    "                            index = coord_abcissas_aplicacao.index.values)\n",
    "coord_aplicacao"
   ]
  },
  {
   "cell_type": "code",
   "execution_count": 73,
   "id": "7656334d-24f8-4396-984b-22f9e5355c9c",
   "metadata": {},
   "outputs": [
    {
     "data": {
      "image/png": "[encoded data removed]",
      "text/plain": [
       "<Figure size 1200x800 with 1 Axes>"
      ]
     },
     "metadata": {},
     "output_type": "display_data"
    }
   ],
   "source": [
    "# Mapa perceptual\n",
    "\n",
    "fig = plt.figure(figsize=(12, 8))\n",
    "ax = fig.add_subplot(1, 1, 1)\n",
    "ax.scatter(coord_abcissas_perfil, \n",
    "           coord_ordenadas_perfil,\n",
    "           color = 'black')\n",
    "ax.scatter(coord_abcissas_aplicacao, \n",
    "           coord_ordenadas_aplicacao,\n",
    "           color = 'red')\n",
    "\n",
    "ax.axhline(0, ls='--', color = 'grey')\n",
    "ax.axvline(0, ls='--', color = 'grey')\n",
    "ax.set_xlabel('Dim 1 ('+  str(round(variancia_explicada[0]*100,2)) +'%)')\n",
    "ax.set_ylabel('Dim 1 ('+  str(round(variancia_explicada[1]*100,2)) +'%)')\n",
    "ax.grid(alpha = 0.3)\n",
    "\n",
    "\n",
    "for i, txt in enumerate(coord_abcissas_aplicacao.index.values):\n",
    "    ax.annotate(txt, (coord_abcissas_aplicacao[i], coord_ordenadas_aplicacao[i]))\n",
    "    \n",
    "for i, txt in enumerate(coord_abcissas_perfil.index.values):\n",
    "    ax.annotate(txt, (coord_abcissas_perfil[i], coord_ordenadas_perfil[i]))\n",
    "    \n",
    "plt.show()\n"
   ]
  },
  {
   "cell_type": "markdown",
   "id": "29ce41d7-d6f0-4de3-8c9f-d15ccd0d2416",
   "metadata": {},
   "source": [
    "### - Processo pelo Prince"
   ]
  },
  {
   "cell_type": "code",
   "execution_count": 29,
   "id": "e8ffa435-ca93-4ba4-a349-0b3dfd25a613",
   "metadata": {},
   "outputs": [],
   "source": [
    "#%% Elaborando a ANACOR\n",
    "\n",
    "# Inicializando a instância da Anacor\n",
    "ca = prince.CA()"
   ]
  },
  {
   "cell_type": "code",
   "execution_count": 30,
   "id": "d9d0da0f-9d4a-41f1-b10c-d76def29bdbb",
   "metadata": {},
   "outputs": [],
   "source": [
    "#%% Fit do modelo\n",
    "\n",
    "# Note que o input é a tabela de contingência criada antes\n",
    "\n",
    "ca = ca.fit(tabela_contingencia)\n"
   ]
  },
  {
   "cell_type": "code",
   "execution_count": 31,
   "id": "a172f32b-ef3f-4217-bbd6-37fb317c7983",
   "metadata": {},
   "outputs": [
    {
     "data": {
      "text/html": [
       "<div>\n",
       "<style scoped>\n",
       "    .dataframe tbody tr th:only-of-type {\n",
       "        vertical-align: middle;\n",
       "    }\n",
       "\n",
       "    .dataframe tbody tr th {\n",
       "        vertical-align: top;\n",
       "    }\n",
       "\n",
       "    .dataframe thead th {\n",
       "        text-align: right;\n",
       "    }\n",
       "</style>\n",
       "<table border=\"1\" class=\"dataframe\">\n",
       "  <thead>\n",
       "    <tr style=\"text-align: right;\">\n",
       "      <th></th>\n",
       "      <th>0</th>\n",
       "      <th>1</th>\n",
       "    </tr>\n",
       "  </thead>\n",
       "  <tbody>\n",
       "    <tr>\n",
       "      <th>Agressivo</th>\n",
       "      <td>-0.396262</td>\n",
       "      <td>-0.065513</td>\n",
       "    </tr>\n",
       "    <tr>\n",
       "      <th>Conservador</th>\n",
       "      <td>0.786648</td>\n",
       "      <td>-0.433800</td>\n",
       "    </tr>\n",
       "    <tr>\n",
       "      <th>Moderado</th>\n",
       "      <td>0.384408</td>\n",
       "      <td>0.446974</td>\n",
       "    </tr>\n",
       "  </tbody>\n",
       "</table>\n",
       "</div>"
      ],
      "text/plain": [
       "                    0         1\n",
       "Agressivo   -0.396262 -0.065513\n",
       "Conservador  0.786648 -0.433800\n",
       "Moderado     0.384408  0.446974"
      ]
     },
     "execution_count": 31,
     "metadata": {},
     "output_type": "execute_result"
    }
   ],
   "source": [
    "#%% Obtendo as coordenadas em linha \n",
    "ca.row_coordinates(tabela_contingencia)"
   ]
  },
  {
   "cell_type": "code",
   "execution_count": 32,
   "id": "d88d26dc-bb62-420b-a1ca-0486a9ef48a9",
   "metadata": {},
   "outputs": [
    {
     "data": {
      "text/html": [
       "<div>\n",
       "<style scoped>\n",
       "    .dataframe tbody tr th:only-of-type {\n",
       "        vertical-align: middle;\n",
       "    }\n",
       "\n",
       "    .dataframe tbody tr th {\n",
       "        vertical-align: top;\n",
       "    }\n",
       "\n",
       "    .dataframe thead th {\n",
       "        text-align: right;\n",
       "    }\n",
       "</style>\n",
       "<table border=\"1\" class=\"dataframe\">\n",
       "  <thead>\n",
       "    <tr style=\"text-align: right;\">\n",
       "      <th></th>\n",
       "      <th>0</th>\n",
       "      <th>1</th>\n",
       "    </tr>\n",
       "  </thead>\n",
       "  <tbody>\n",
       "    <tr>\n",
       "      <th>Ações</th>\n",
       "      <td>-0.404692</td>\n",
       "      <td>-0.209522</td>\n",
       "    </tr>\n",
       "    <tr>\n",
       "      <th>CDB</th>\n",
       "      <td>0.071019</td>\n",
       "      <td>0.353291</td>\n",
       "    </tr>\n",
       "    <tr>\n",
       "      <th>Poupança</th>\n",
       "      <td>1.024690</td>\n",
       "      <td>-0.313542</td>\n",
       "    </tr>\n",
       "  </tbody>\n",
       "</table>\n",
       "</div>"
      ],
      "text/plain": [
       "                 0         1\n",
       "Ações    -0.404692 -0.209522\n",
       "CDB       0.071019  0.353291\n",
       "Poupança  1.024690 -0.313542"
      ]
     },
     "execution_count": 32,
     "metadata": {},
     "output_type": "execute_result"
    }
   ],
   "source": [
    "#%% Obtendo as coordenadas em coluna\n",
    "\n",
    "ca.column_coordinates(tabela_contingencia)"
   ]
  },
  {
   "cell_type": "code",
   "execution_count": 33,
   "id": "4a554452-8c8c-44cb-91d0-e8cdfb9decc3",
   "metadata": {},
   "outputs": [
    {
     "data": {
      "text/plain": [
       "[0.2332148728258384, 0.08442677693751505]"
      ]
     },
     "execution_count": 33,
     "metadata": {},
     "output_type": "execute_result"
    }
   ],
   "source": [
    "#%% Obtendo os eigenvalues\n",
    "\n",
    "ca.eigenvalues_\n"
   ]
  },
  {
   "cell_type": "code",
   "execution_count": 34,
   "id": "2a83f022-0342-413e-b88e-99fdfed76507",
   "metadata": {},
   "outputs": [
    {
     "data": {
      "text/plain": [
       "0.3176416497633535"
      ]
     },
     "execution_count": 34,
     "metadata": {},
     "output_type": "execute_result"
    }
   ],
   "source": [
    "#%% Obtendo a inércia principal total\n",
    "\n",
    "# É a soma dos eigenvalues (também é a divisão: estat. qui² / N)\n",
    "# Quanto maior a inércia principal total, maior é a associação entre categorias\n",
    "\n",
    "ca.total_inertia_"
   ]
  },
  {
   "cell_type": "code",
   "execution_count": 35,
   "id": "f1f6d4c2-42cb-408a-adcf-f6ec21c72fd4",
   "metadata": {},
   "outputs": [
    {
     "data": {
      "text/plain": [
       "[0.7342074724759363, 0.2657925275240634]"
      ]
     },
     "execution_count": 35,
     "metadata": {},
     "output_type": "execute_result"
    }
   ],
   "source": [
    "#%% Inércia explicada por dimensão\n",
    "\n",
    "# Indica o percentual da a inércia principal total explicado por cada dimensão\n",
    "\n",
    "ca.explained_inertia_"
   ]
  },
  {
   "cell_type": "code",
   "execution_count": 36,
   "id": "824bab1d-2e37-43ce-92e3-6c6a61314870",
   "metadata": {},
   "outputs": [
    {
     "data": {
      "text/plain": [
       "Agressivo      0.58\n",
       "Conservador    0.17\n",
       "Moderado       0.25\n",
       "dtype: float64"
      ]
     },
     "execution_count": 36,
     "metadata": {},
     "output_type": "execute_result"
    }
   ],
   "source": [
    "#%% Massas em linhas\n",
    "\n",
    "ca.row_masses_\n"
   ]
  },
  {
   "cell_type": "code",
   "execution_count": 37,
   "id": "32f0feb0-95cc-4efe-b044-a8367063b5d5",
   "metadata": {},
   "outputs": [
    {
     "data": {
      "text/plain": [
       "Ações       0.45\n",
       "CDB         0.40\n",
       "Poupança    0.15\n",
       "dtype: float64"
      ]
     },
     "execution_count": 37,
     "metadata": {},
     "output_type": "execute_result"
    }
   ],
   "source": [
    "#%% Massas em colunas\n",
    "\n",
    "ca.col_masses_"
   ]
  },
  {
   "cell_type": "code",
   "execution_count": 38,
   "id": "0992fe88-c3c9-41dd-85d6-fff3519803b8",
   "metadata": {},
   "outputs": [
    {
     "data": {
      "image/png": "[encoded data removed]",
      "text/plain": [
       "<Figure size 1000x1000 with 1 Axes>"
      ]
     },
     "metadata": {},
     "output_type": "display_data"
    }
   ],
   "source": [
    "ax = ca.plot_coordinates(X=tabela_contingencia,\n",
    "                         ax=None,\n",
    "                         figsize=(10,10),\n",
    "                         x_component=0,\n",
    "                         y_component=1,\n",
    "                         show_row_labels=True,\n",
    "                         show_col_labels=True)\n"
   ]
  },
  {
   "cell_type": "code",
   "execution_count": 39,
   "id": "a7f8a314-66de-495b-bd1a-2472d2bf4c34",
   "metadata": {},
   "outputs": [],
   "source": [
    "\n",
    "#%% Plotando o mapa percentual interativo\n",
    "\n",
    "import plotly.graph_objects as go\n",
    "import plotly.io as pio\n",
    "\n",
    "pio.renderers.default='browser'\n",
    "\n",
    "chart_df = pd.DataFrame({'obs_x':ca.row_coordinates(tabela_contingencia)[0].values,\n",
    "                         'obs_y': ca.row_coordinates(tabela_contingencia)[1].values})\n",
    "\n",
    "fig = go.Figure(data=go.Scatter(x=chart_df['obs_x'],\n",
    "                                y=chart_df['obs_y'],\n",
    "                                name=tabela_contingencia.index.name,\n",
    "                                textposition=\"top center\",\n",
    "                                text=tabela_contingencia.index,\n",
    "                                mode=\"markers+text\",))\n",
    "\n",
    "fig.add_trace(go.Scatter(\n",
    "    x=ca.column_coordinates(tabela_contingencia)[0].values,\n",
    "    mode=\"markers+text\",\n",
    "    name=tabela_contingencia.columns.name,\n",
    "    textposition=\"top center\",\n",
    "    y=ca.column_coordinates(tabela_contingencia)[1].values,\n",
    "    text=ca.column_coordinates(tabela_contingencia).index\n",
    "))\n",
    "\n",
    "fig.update_layout(\n",
    "    autosize=False,\n",
    "    width=800,\n",
    "    height=800,\n",
    "    title_text='Coordenadas principais'\n",
    "\n",
    ")\n",
    "\n",
    "fig.show()\n"
   ]
  },
  {
   "cell_type": "markdown",
   "id": "0acba7de-424f-4514-87df-ff734082488d",
   "metadata": {},
   "source": [
    "# Exemplo 2: Perfil de Investidores (Anacor Múltipla / MCA)"
   ]
  },
  {
   "cell_type": "markdown",
   "id": "c3fe3249-8073-48b7-847c-37e11471fbcd",
   "metadata": {
    "tags": [],
    "toc-hr-collapsed": true
   },
   "source": [
    "## 2.1. Base de dados"
   ]
  },
  {
   "cell_type": "code",
   "execution_count": 107,
   "id": "3c6e71a5-35d5-423b-b30d-004413a6ced4",
   "metadata": {
    "tags": []
   },
   "outputs": [],
   "source": [
    "# Importando os dados\n",
    "\n",
    "df = pd.read_excel(\"datasets/perfil_investidor_aplicacao_estadocivil.xlsx\")"
   ]
  },
  {
   "cell_type": "code",
   "execution_count": 108,
   "id": "cba30e21-f261-46b6-9e57-6afed8ee7b71",
   "metadata": {},
   "outputs": [
    {
     "data": {
      "text/html": [
       "<div>\n",
       "<style scoped>\n",
       "    .dataframe tbody tr th:only-of-type {\n",
       "        vertical-align: middle;\n",
       "    }\n",
       "\n",
       "    .dataframe tbody tr th {\n",
       "        vertical-align: top;\n",
       "    }\n",
       "\n",
       "    .dataframe thead th {\n",
       "        text-align: right;\n",
       "    }\n",
       "</style>\n",
       "<table border=\"1\" class=\"dataframe\">\n",
       "  <thead>\n",
       "    <tr style=\"text-align: right;\">\n",
       "      <th></th>\n",
       "      <th>estudante</th>\n",
       "      <th>perfil</th>\n",
       "      <th>aplicacao</th>\n",
       "      <th>estado_civil</th>\n",
       "    </tr>\n",
       "  </thead>\n",
       "  <tbody>\n",
       "    <tr>\n",
       "      <th>0</th>\n",
       "      <td>Gabriela</td>\n",
       "      <td>Conservador</td>\n",
       "      <td>Poupanca</td>\n",
       "      <td>Casado</td>\n",
       "    </tr>\n",
       "    <tr>\n",
       "      <th>1</th>\n",
       "      <td>Luiz Felipe</td>\n",
       "      <td>Conservador</td>\n",
       "      <td>Poupanca</td>\n",
       "      <td>Casado</td>\n",
       "    </tr>\n",
       "    <tr>\n",
       "      <th>2</th>\n",
       "      <td>Patrícia</td>\n",
       "      <td>Conservador</td>\n",
       "      <td>Poupanca</td>\n",
       "      <td>Casado</td>\n",
       "    </tr>\n",
       "    <tr>\n",
       "      <th>3</th>\n",
       "      <td>Gustavo</td>\n",
       "      <td>Conservador</td>\n",
       "      <td>Poupanca</td>\n",
       "      <td>Solteiro</td>\n",
       "    </tr>\n",
       "    <tr>\n",
       "      <th>4</th>\n",
       "      <td>Letícia</td>\n",
       "      <td>Conservador</td>\n",
       "      <td>Poupanca</td>\n",
       "      <td>Casado</td>\n",
       "    </tr>\n",
       "  </tbody>\n",
       "</table>\n",
       "</div>"
      ],
      "text/plain": [
       "     estudante       perfil aplicacao estado_civil\n",
       "0     Gabriela  Conservador  Poupanca       Casado\n",
       "1  Luiz Felipe  Conservador  Poupanca       Casado\n",
       "2     Patrícia  Conservador  Poupanca       Casado\n",
       "3      Gustavo  Conservador  Poupanca     Solteiro\n",
       "4      Letícia  Conservador  Poupanca       Casado"
      ]
     },
     "execution_count": 108,
     "metadata": {},
     "output_type": "execute_result"
    }
   ],
   "source": [
    "#%% Visualizando os dados e cada uma das variáveis\n",
    "\n",
    "df.head(5)\n"
   ]
  },
  {
   "cell_type": "code",
   "execution_count": 109,
   "id": "410954ee-92fc-4cc1-8628-2668b4a0bee6",
   "metadata": {},
   "outputs": [
    {
     "name": "stdout",
     "output_type": "stream",
     "text": [
      "<class 'pandas.core.frame.DataFrame'>\n",
      "RangeIndex: 100 entries, 0 to 99\n",
      "Data columns (total 4 columns):\n",
      " #   Column        Non-Null Count  Dtype \n",
      "---  ------        --------------  ----- \n",
      " 0   estudante     100 non-null    object\n",
      " 1   perfil        100 non-null    object\n",
      " 2   aplicacao     100 non-null    object\n",
      " 3   estado_civil  100 non-null    object\n",
      "dtypes: object(4)\n",
      "memory usage: 3.2+ KB\n"
     ]
    }
   ],
   "source": [
    "df.info()"
   ]
  },
  {
   "cell_type": "code",
   "execution_count": 110,
   "id": "c8b17406-ed07-45aa-883d-98a4c41a61b6",
   "metadata": {},
   "outputs": [
    {
     "data": {
      "text/html": [
       "<div>\n",
       "<style scoped>\n",
       "    .dataframe tbody tr th:only-of-type {\n",
       "        vertical-align: middle;\n",
       "    }\n",
       "\n",
       "    .dataframe tbody tr th {\n",
       "        vertical-align: top;\n",
       "    }\n",
       "\n",
       "    .dataframe thead th {\n",
       "        text-align: right;\n",
       "    }\n",
       "</style>\n",
       "<table border=\"1\" class=\"dataframe\">\n",
       "  <thead>\n",
       "    <tr style=\"text-align: right;\">\n",
       "      <th></th>\n",
       "      <th>estudante</th>\n",
       "      <th>perfil</th>\n",
       "      <th>aplicacao</th>\n",
       "      <th>estado_civil</th>\n",
       "    </tr>\n",
       "  </thead>\n",
       "  <tbody>\n",
       "    <tr>\n",
       "      <th>count</th>\n",
       "      <td>100</td>\n",
       "      <td>100</td>\n",
       "      <td>100</td>\n",
       "      <td>100</td>\n",
       "    </tr>\n",
       "    <tr>\n",
       "      <th>unique</th>\n",
       "      <td>100</td>\n",
       "      <td>3</td>\n",
       "      <td>3</td>\n",
       "      <td>2</td>\n",
       "    </tr>\n",
       "    <tr>\n",
       "      <th>top</th>\n",
       "      <td>Gabriela</td>\n",
       "      <td>Agressivo</td>\n",
       "      <td>Acoes</td>\n",
       "      <td>Solteiro</td>\n",
       "    </tr>\n",
       "    <tr>\n",
       "      <th>freq</th>\n",
       "      <td>1</td>\n",
       "      <td>58</td>\n",
       "      <td>45</td>\n",
       "      <td>57</td>\n",
       "    </tr>\n",
       "  </tbody>\n",
       "</table>\n",
       "</div>"
      ],
      "text/plain": [
       "       estudante     perfil aplicacao estado_civil\n",
       "count        100        100       100          100\n",
       "unique       100          3         3            2\n",
       "top     Gabriela  Agressivo     Acoes     Solteiro\n",
       "freq           1         58        45           57"
      ]
     },
     "execution_count": 110,
     "metadata": {},
     "output_type": "execute_result"
    }
   ],
   "source": [
    "# Estatísticas descritivas\n",
    "summary = df.describe(include = 'all')\n",
    "summary\n"
   ]
  },
  {
   "cell_type": "code",
   "execution_count": 111,
   "id": "2bfdf018-e1f5-49d2-938e-c833825b25cb",
   "metadata": {},
   "outputs": [
    {
     "data": {
      "text/html": [
       "<div>\n",
       "<style scoped>\n",
       "    .dataframe tbody tr th:only-of-type {\n",
       "        vertical-align: middle;\n",
       "    }\n",
       "\n",
       "    .dataframe tbody tr th {\n",
       "        vertical-align: top;\n",
       "    }\n",
       "\n",
       "    .dataframe thead th {\n",
       "        text-align: right;\n",
       "    }\n",
       "</style>\n",
       "<table border=\"1\" class=\"dataframe\">\n",
       "  <thead>\n",
       "    <tr style=\"text-align: right;\">\n",
       "      <th></th>\n",
       "      <th>perfil</th>\n",
       "      <th>aplicacao</th>\n",
       "      <th>estado_civil</th>\n",
       "    </tr>\n",
       "  </thead>\n",
       "  <tbody>\n",
       "    <tr>\n",
       "      <th>0</th>\n",
       "      <td>Conservador</td>\n",
       "      <td>Poupanca</td>\n",
       "      <td>Casado</td>\n",
       "    </tr>\n",
       "    <tr>\n",
       "      <th>1</th>\n",
       "      <td>Conservador</td>\n",
       "      <td>Poupanca</td>\n",
       "      <td>Casado</td>\n",
       "    </tr>\n",
       "    <tr>\n",
       "      <th>2</th>\n",
       "      <td>Conservador</td>\n",
       "      <td>Poupanca</td>\n",
       "      <td>Casado</td>\n",
       "    </tr>\n",
       "    <tr>\n",
       "      <th>3</th>\n",
       "      <td>Conservador</td>\n",
       "      <td>Poupanca</td>\n",
       "      <td>Solteiro</td>\n",
       "    </tr>\n",
       "    <tr>\n",
       "      <th>4</th>\n",
       "      <td>Conservador</td>\n",
       "      <td>Poupanca</td>\n",
       "      <td>Casado</td>\n",
       "    </tr>\n",
       "  </tbody>\n",
       "</table>\n",
       "</div>"
      ],
      "text/plain": [
       "        perfil aplicacao estado_civil\n",
       "0  Conservador  Poupanca       Casado\n",
       "1  Conservador  Poupanca       Casado\n",
       "2  Conservador  Poupanca       Casado\n",
       "3  Conservador  Poupanca     Solteiro\n",
       "4  Conservador  Poupanca       Casado"
      ]
     },
     "execution_count": 111,
     "metadata": {},
     "output_type": "execute_result"
    }
   ],
   "source": [
    "#%% Separando somente as variáveis quantitativas do banco de dados\n",
    "\n",
    "df_mca = df[[\"perfil\", \"aplicacao\", \"estado_civil\"]]\n",
    "\n",
    "df_mca.head(5)"
   ]
  },
  {
   "cell_type": "markdown",
   "id": "bcf4f45f-1619-49b2-8526-0dbefec61a21",
   "metadata": {
    "tags": []
   },
   "source": [
    "## 2.2. Anacor Múltipla"
   ]
  },
  {
   "cell_type": "markdown",
   "id": "9cea4eae-27db-4ae1-904c-43c59280531a",
   "metadata": {},
   "source": [
    "### - Análises Preliminares"
   ]
  },
  {
   "cell_type": "code",
   "execution_count": 112,
   "id": "11d3d549-5522-4c20-8cda-034d59f71e9b",
   "metadata": {},
   "outputs": [
    {
     "data": {
      "text/html": [
       "<div>\n",
       "<style scoped>\n",
       "    .dataframe tbody tr th:only-of-type {\n",
       "        vertical-align: middle;\n",
       "    }\n",
       "\n",
       "    .dataframe tbody tr th {\n",
       "        vertical-align: top;\n",
       "    }\n",
       "\n",
       "    .dataframe thead th {\n",
       "        text-align: right;\n",
       "    }\n",
       "</style>\n",
       "<table border=\"1\" class=\"dataframe\">\n",
       "  <thead>\n",
       "    <tr style=\"text-align: right;\">\n",
       "      <th>aplicacao</th>\n",
       "      <th>Acoes</th>\n",
       "      <th>CDB</th>\n",
       "      <th>Poupanca</th>\n",
       "    </tr>\n",
       "    <tr>\n",
       "      <th>perfil</th>\n",
       "      <th></th>\n",
       "      <th></th>\n",
       "      <th></th>\n",
       "    </tr>\n",
       "  </thead>\n",
       "  <tbody>\n",
       "    <tr>\n",
       "      <th>Agressivo</th>\n",
       "      <td>36</td>\n",
       "      <td>20</td>\n",
       "      <td>2</td>\n",
       "    </tr>\n",
       "    <tr>\n",
       "      <th>Conservador</th>\n",
       "      <td>5</td>\n",
       "      <td>4</td>\n",
       "      <td>8</td>\n",
       "    </tr>\n",
       "    <tr>\n",
       "      <th>Moderado</th>\n",
       "      <td>4</td>\n",
       "      <td>16</td>\n",
       "      <td>5</td>\n",
       "    </tr>\n",
       "  </tbody>\n",
       "</table>\n",
       "</div>"
      ],
      "text/plain": [
       "aplicacao    Acoes  CDB  Poupanca\n",
       "perfil                           \n",
       "Agressivo       36   20         2\n",
       "Conservador      5    4         8\n",
       "Moderado         4   16         5"
      ]
     },
     "execution_count": 112,
     "metadata": {},
     "output_type": "execute_result"
    }
   ],
   "source": [
    "tabela_contingencia1 = pd.crosstab(index=df['perfil'], columns=df['aplicacao'])\n",
    "tabela_contingencia1"
   ]
  },
  {
   "cell_type": "code",
   "execution_count": 113,
   "id": "b97fffc1-adfc-44d4-8233-98a73bab3407",
   "metadata": {},
   "outputs": [
    {
     "data": {
      "text/html": [
       "<div>\n",
       "<style scoped>\n",
       "    .dataframe tbody tr th:only-of-type {\n",
       "        vertical-align: middle;\n",
       "    }\n",
       "\n",
       "    .dataframe tbody tr th {\n",
       "        vertical-align: top;\n",
       "    }\n",
       "\n",
       "    .dataframe thead th {\n",
       "        text-align: right;\n",
       "    }\n",
       "</style>\n",
       "<table border=\"1\" class=\"dataframe\">\n",
       "  <thead>\n",
       "    <tr style=\"text-align: right;\">\n",
       "      <th>estado_civil</th>\n",
       "      <th>Casado</th>\n",
       "      <th>Solteiro</th>\n",
       "    </tr>\n",
       "    <tr>\n",
       "      <th>perfil</th>\n",
       "      <th></th>\n",
       "      <th></th>\n",
       "    </tr>\n",
       "  </thead>\n",
       "  <tbody>\n",
       "    <tr>\n",
       "      <th>Agressivo</th>\n",
       "      <td>17</td>\n",
       "      <td>41</td>\n",
       "    </tr>\n",
       "    <tr>\n",
       "      <th>Conservador</th>\n",
       "      <td>12</td>\n",
       "      <td>5</td>\n",
       "    </tr>\n",
       "    <tr>\n",
       "      <th>Moderado</th>\n",
       "      <td>14</td>\n",
       "      <td>11</td>\n",
       "    </tr>\n",
       "  </tbody>\n",
       "</table>\n",
       "</div>"
      ],
      "text/plain": [
       "estado_civil  Casado  Solteiro\n",
       "perfil                        \n",
       "Agressivo         17        41\n",
       "Conservador       12         5\n",
       "Moderado          14        11"
      ]
     },
     "execution_count": 113,
     "metadata": {},
     "output_type": "execute_result"
    }
   ],
   "source": [
    "tabela_contingencia2 = pd.crosstab(index=df['perfil'], columns=df['estado_civil'])\n",
    "tabela_contingencia2"
   ]
  },
  {
   "cell_type": "code",
   "execution_count": 114,
   "id": "ed6262f5-aa40-402b-b34d-a005e6363d4d",
   "metadata": {},
   "outputs": [
    {
     "data": {
      "text/html": [
       "<div>\n",
       "<style scoped>\n",
       "    .dataframe tbody tr th:only-of-type {\n",
       "        vertical-align: middle;\n",
       "    }\n",
       "\n",
       "    .dataframe tbody tr th {\n",
       "        vertical-align: top;\n",
       "    }\n",
       "\n",
       "    .dataframe thead th {\n",
       "        text-align: right;\n",
       "    }\n",
       "</style>\n",
       "<table border=\"1\" class=\"dataframe\">\n",
       "  <thead>\n",
       "    <tr style=\"text-align: right;\">\n",
       "      <th>estado_civil</th>\n",
       "      <th>Casado</th>\n",
       "      <th>Solteiro</th>\n",
       "    </tr>\n",
       "    <tr>\n",
       "      <th>aplicacao</th>\n",
       "      <th></th>\n",
       "      <th></th>\n",
       "    </tr>\n",
       "  </thead>\n",
       "  <tbody>\n",
       "    <tr>\n",
       "      <th>Acoes</th>\n",
       "      <td>9</td>\n",
       "      <td>36</td>\n",
       "    </tr>\n",
       "    <tr>\n",
       "      <th>CDB</th>\n",
       "      <td>24</td>\n",
       "      <td>16</td>\n",
       "    </tr>\n",
       "    <tr>\n",
       "      <th>Poupanca</th>\n",
       "      <td>10</td>\n",
       "      <td>5</td>\n",
       "    </tr>\n",
       "  </tbody>\n",
       "</table>\n",
       "</div>"
      ],
      "text/plain": [
       "estado_civil  Casado  Solteiro\n",
       "aplicacao                     \n",
       "Acoes              9        36\n",
       "CDB               24        16\n",
       "Poupanca          10         5"
      ]
     },
     "execution_count": 114,
     "metadata": {},
     "output_type": "execute_result"
    }
   ],
   "source": [
    "tabela_contingencia3 = pd.crosstab(index=df['aplicacao'], columns=df['estado_civil'])\n",
    "tabela_contingencia3"
   ]
  },
  {
   "cell_type": "code",
   "execution_count": 115,
   "id": "2693c305-e899-4024-a864-f2b26461b000",
   "metadata": {},
   "outputs": [
    {
     "name": "stdout",
     "output_type": "stream",
     "text": [
      "estatística qui²: 31.764164976335362\n",
      "p-valor da estatística: 2.137594051381398e-06\n",
      "graus de liberdade: 4 \n",
      "\n",
      "estatística qui²: 11.437563671904417\n",
      "p-valor da estatística: 0.0032837085626606414\n",
      "graus de liberdade: 2 \n",
      "\n",
      "estatística qui²: 17.856657146742826\n",
      "p-valor da estatística: 0.00013257943624182006\n",
      "graus de liberdade: 2 \n"
     ]
    }
   ],
   "source": [
    "#%% Analisando a significância estatística da associação (teste qui²)\n",
    "# Se o p valor é menor que 0.05 então se rejeita  hipótese nula, isto é, que as variáveis não \n",
    "# tem associação estatisticamente relevantes.\n",
    "\n",
    "chi2, pvalor, dgf, freq_esp = chi2_contingency(tabela_contingencia1)\n",
    "\n",
    "print(f\"estatística qui²: {chi2}\") # estatística qui²\n",
    "print(f\"p-valor da estatística: {pvalor}\") # p-valor da estatística\n",
    "print(f\"graus de liberdade: {dgf} \\n\") # graus de liberdade\n",
    "\n",
    "chi2, pvalor, dgf, freq_esp = chi2_contingency(tabela_contingencia2)\n",
    "\n",
    "print(f\"estatística qui²: {chi2}\") # estatística qui²\n",
    "print(f\"p-valor da estatística: {pvalor}\") # p-valor da estatística\n",
    "print(f\"graus de liberdade: {dgf} \\n\") # graus de liberdade\n",
    "\n",
    "chi2, pvalor, dgf, freq_esp = chi2_contingency(tabela_contingencia3)\n",
    "\n",
    "print(f\"estatística qui²: {chi2}\") # estatística qui²\n",
    "print(f\"p-valor da estatística: {pvalor}\") # p-valor da estatística\n",
    "print(f\"graus de liberdade: {dgf} \") # graus de liberdade"
   ]
  },
  {
   "cell_type": "markdown",
   "id": "658d33f3-372f-45ac-b5fc-0d54125b6a4e",
   "metadata": {},
   "source": [
    "### - Processo pelo Prince"
   ]
  },
  {
   "cell_type": "code",
   "execution_count": 116,
   "id": "645e992f-e1be-48d7-8562-7366f1a57f39",
   "metadata": {},
   "outputs": [],
   "source": [
    "#%% Elaborando a MCA \n",
    "\n",
    "## Utiliza o método da matriz de Burt\n",
    "\n",
    "mca = prince.MCA()\n",
    "mca = mca.fit(df_mca)"
   ]
  },
  {
   "cell_type": "code",
   "execution_count": 117,
   "id": "78517c0c-5ed3-4c6e-8650-b46e6a4261e4",
   "metadata": {},
   "outputs": [
    {
     "data": {
      "text/html": [
       "<div>\n",
       "<style scoped>\n",
       "    .dataframe tbody tr th:only-of-type {\n",
       "        vertical-align: middle;\n",
       "    }\n",
       "\n",
       "    .dataframe tbody tr th {\n",
       "        vertical-align: top;\n",
       "    }\n",
       "\n",
       "    .dataframe thead th {\n",
       "        text-align: right;\n",
       "    }\n",
       "</style>\n",
       "<table border=\"1\" class=\"dataframe\">\n",
       "  <thead>\n",
       "    <tr style=\"text-align: right;\">\n",
       "      <th></th>\n",
       "      <th>0</th>\n",
       "      <th>1</th>\n",
       "    </tr>\n",
       "  </thead>\n",
       "  <tbody>\n",
       "    <tr>\n",
       "      <th>perfil_Agressivo</th>\n",
       "      <td>-0.653069</td>\n",
       "      <td>-0.014732</td>\n",
       "    </tr>\n",
       "    <tr>\n",
       "      <th>perfil_Conservador</th>\n",
       "      <td>1.129970</td>\n",
       "      <td>1.483614</td>\n",
       "    </tr>\n",
       "    <tr>\n",
       "      <th>perfil_Moderado</th>\n",
       "      <td>0.746741</td>\n",
       "      <td>-0.974679</td>\n",
       "    </tr>\n",
       "    <tr>\n",
       "      <th>aplicacao_Acoes</th>\n",
       "      <td>-0.831258</td>\n",
       "      <td>0.387515</td>\n",
       "    </tr>\n",
       "    <tr>\n",
       "      <th>aplicacao_CDB</th>\n",
       "      <td>0.417184</td>\n",
       "      <td>-0.935143</td>\n",
       "    </tr>\n",
       "    <tr>\n",
       "      <th>aplicacao_Poupanca</th>\n",
       "      <td>1.381285</td>\n",
       "      <td>1.331169</td>\n",
       "    </tr>\n",
       "    <tr>\n",
       "      <th>estado_civil_Casado</th>\n",
       "      <td>0.843172</td>\n",
       "      <td>-0.131145</td>\n",
       "    </tr>\n",
       "    <tr>\n",
       "      <th>estado_civil_Solteiro</th>\n",
       "      <td>-0.636077</td>\n",
       "      <td>0.098934</td>\n",
       "    </tr>\n",
       "  </tbody>\n",
       "</table>\n",
       "</div>"
      ],
      "text/plain": [
       "                              0         1\n",
       "perfil_Agressivo      -0.653069 -0.014732\n",
       "perfil_Conservador     1.129970  1.483614\n",
       "perfil_Moderado        0.746741 -0.974679\n",
       "aplicacao_Acoes       -0.831258  0.387515\n",
       "aplicacao_CDB          0.417184 -0.935143\n",
       "aplicacao_Poupanca     1.381285  1.331169\n",
       "estado_civil_Casado    0.843172 -0.131145\n",
       "estado_civil_Solteiro -0.636077  0.098934"
      ]
     },
     "execution_count": 117,
     "metadata": {},
     "output_type": "execute_result"
    }
   ],
   "source": [
    "#%% Obtendo as coordenadas nas duas dimensões do mapa\n",
    "\n",
    "mca.column_coordinates(df_mca)"
   ]
  },
  {
   "cell_type": "code",
   "execution_count": 118,
   "id": "b023608a-47e1-47ef-a27e-e0f7ab0b2c38",
   "metadata": {},
   "outputs": [
    {
     "data": {
      "text/html": [
       "<div>\n",
       "<style scoped>\n",
       "    .dataframe tbody tr th:only-of-type {\n",
       "        vertical-align: middle;\n",
       "    }\n",
       "\n",
       "    .dataframe tbody tr th {\n",
       "        vertical-align: top;\n",
       "    }\n",
       "\n",
       "    .dataframe thead th {\n",
       "        text-align: right;\n",
       "    }\n",
       "</style>\n",
       "<table border=\"1\" class=\"dataframe\">\n",
       "  <thead>\n",
       "    <tr style=\"text-align: right;\">\n",
       "      <th></th>\n",
       "      <th>0</th>\n",
       "      <th>1</th>\n",
       "    </tr>\n",
       "  </thead>\n",
       "  <tbody>\n",
       "    <tr>\n",
       "      <th>0</th>\n",
       "      <td>1.440751</td>\n",
       "      <td>1.354770</td>\n",
       "    </tr>\n",
       "    <tr>\n",
       "      <th>1</th>\n",
       "      <td>1.440751</td>\n",
       "      <td>1.354770</td>\n",
       "    </tr>\n",
       "    <tr>\n",
       "      <th>2</th>\n",
       "      <td>1.440751</td>\n",
       "      <td>1.354770</td>\n",
       "    </tr>\n",
       "    <tr>\n",
       "      <th>3</th>\n",
       "      <td>0.805403</td>\n",
       "      <td>1.470920</td>\n",
       "    </tr>\n",
       "    <tr>\n",
       "      <th>4</th>\n",
       "      <td>1.440751</td>\n",
       "      <td>1.354770</td>\n",
       "    </tr>\n",
       "    <tr>\n",
       "      <th>...</th>\n",
       "      <td>...</td>\n",
       "      <td>...</td>\n",
       "    </tr>\n",
       "    <tr>\n",
       "      <th>95</th>\n",
       "      <td>-0.910729</td>\n",
       "      <td>0.238135</td>\n",
       "    </tr>\n",
       "    <tr>\n",
       "      <th>96</th>\n",
       "      <td>-0.910729</td>\n",
       "      <td>0.238135</td>\n",
       "    </tr>\n",
       "    <tr>\n",
       "      <th>97</th>\n",
       "      <td>-0.910729</td>\n",
       "      <td>0.238135</td>\n",
       "    </tr>\n",
       "    <tr>\n",
       "      <th>98</th>\n",
       "      <td>-0.910729</td>\n",
       "      <td>0.238135</td>\n",
       "    </tr>\n",
       "    <tr>\n",
       "      <th>99</th>\n",
       "      <td>-0.910729</td>\n",
       "      <td>0.238135</td>\n",
       "    </tr>\n",
       "  </tbody>\n",
       "</table>\n",
       "<p>100 rows × 2 columns</p>\n",
       "</div>"
      ],
      "text/plain": [
       "           0         1\n",
       "0   1.440751  1.354770\n",
       "1   1.440751  1.354770\n",
       "2   1.440751  1.354770\n",
       "3   0.805403  1.470920\n",
       "4   1.440751  1.354770\n",
       "..       ...       ...\n",
       "95 -0.910729  0.238135\n",
       "96 -0.910729  0.238135\n",
       "97 -0.910729  0.238135\n",
       "98 -0.910729  0.238135\n",
       "99 -0.910729  0.238135\n",
       "\n",
       "[100 rows x 2 columns]"
      ]
     },
     "execution_count": 118,
     "metadata": {},
     "output_type": "execute_result"
    }
   ],
   "source": [
    "#%% Obtendo as coordenadas de cada um das observações\n",
    "\n",
    "mca.row_coordinates(df_mca)\n",
    "\n",
    "\n"
   ]
  },
  {
   "cell_type": "code",
   "execution_count": 119,
   "id": "291ef4fc-4c1b-4691-91b6-820a44085ba6",
   "metadata": {},
   "outputs": [
    {
     "data": {
      "text/plain": [
       "[0.6023045112620065, 0.4359878227115962]"
      ]
     },
     "execution_count": 119,
     "metadata": {},
     "output_type": "execute_result"
    }
   ],
   "source": [
    "#%% Obtendo os eigenvalues\n",
    "\n",
    "mca.eigenvalues_\n",
    "\n"
   ]
  },
  {
   "cell_type": "code",
   "execution_count": 120,
   "id": "77ff3f5d-77d1-45b2-94a2-e7077bea1879",
   "metadata": {},
   "outputs": [
    {
     "data": {
      "text/plain": [
       "1.6666666666666667"
      ]
     },
     "execution_count": 120,
     "metadata": {},
     "output_type": "execute_result"
    }
   ],
   "source": [
    "#%% Inércia principal total\n",
    "\n",
    "mca.total_inertia_\n",
    "\n"
   ]
  },
  {
   "cell_type": "code",
   "execution_count": 121,
   "id": "d254e1d7-a14c-4221-89ce-7ab43f0e7c14",
   "metadata": {},
   "outputs": [
    {
     "data": {
      "text/plain": [
       "[0.36138270675720385, 0.2615926936269577]"
      ]
     },
     "execution_count": 121,
     "metadata": {},
     "output_type": "execute_result"
    }
   ],
   "source": [
    "#%% Obtendo a variância\n",
    "\n",
    "mca.explained_inertia_"
   ]
  },
  {
   "cell_type": "code",
   "execution_count": 122,
   "id": "d175c300-d027-4c86-a727-72c362bfdced",
   "metadata": {},
   "outputs": [
    {
     "data": {
      "image/png": "[encoded data removed]",
      "text/plain": [
       "<Figure size 1200x1200 with 1 Axes>"
      ]
     },
     "metadata": {},
     "output_type": "display_data"
    }
   ],
   "source": [
    "#%% Plotando o mapa perceptual\n",
    "\n",
    "mp_mca = mca.plot_coordinates(\n",
    "             X = df_mca,\n",
    "             figsize=(12,12),\n",
    "             show_row_points = True,\n",
    "             show_column_points = True,\n",
    "             show_row_labels=False,\n",
    "             column_points_size = 100,\n",
    "             show_column_labels = True,\n",
    "             legend_n_cols = 2)"
   ]
  },
  {
   "cell_type": "code",
   "execution_count": 125,
   "id": "5d1e121a-9b61-4db1-a37c-883a629b476e",
   "metadata": {},
   "outputs": [],
   "source": [
    "#%% Plotando o mapa perceptual interativo\n",
    "\n",
    "import plotly.graph_objects as go\n",
    "import plotly.io as pio\n",
    "\n",
    "pio.renderers.default='browser'\n",
    "\n",
    "chart_df = pd.DataFrame({'obs_x':mca.row_coordinates(df_mca)[0],\n",
    "                         'estudante': df['estudante'],\n",
    "                         'obs_y': mca.row_coordinates(df_mca)[1]})\n",
    "\n",
    "fig = go.Figure(data=go.Scatter(x=chart_df['obs_x'],\n",
    "                                y=chart_df['obs_y'],\n",
    "                                mode='markers',\n",
    "                                name=\"Estudante\",\n",
    "                                text=chart_df['estudante']))\n",
    "\n",
    "fig.add_trace(go.Scatter(\n",
    "    x=mca.column_coordinates(df_mca)[0],\n",
    "    mode='markers+text',\n",
    "    name=\"Associação\",\n",
    "    marker={'size':12},\n",
    "    y=mca.column_coordinates(df_mca)[1],\n",
    "    textposition=\"top center\",\n",
    "    text=mca.column_coordinates(df_mca).index\n",
    "))\n",
    "\n",
    "fig.update_layout(\n",
    "    autosize=False,\n",
    "    width=800,\n",
    "    height=800,\n",
    "    title_text='Coordenadas das linhas e colunas'\n",
    ")\n",
    "\n",
    "fig.show()"
   ]
  },
  {
   "cell_type": "markdown",
   "id": "b128045e-0795-4423-ac06-06e5146f48fb",
   "metadata": {},
   "source": [
    "# Exemplo 3: Doença cardiaca (Anacor Múltipla / MCA)"
   ]
  },
  {
   "cell_type": "markdown",
   "id": "057d9068-5cb3-483c-8a3b-c17405602a41",
   "metadata": {
    "tags": [],
    "toc-hr-collapsed": true
   },
   "source": [
    "## 3.1. Base de dados"
   ]
  },
  {
   "cell_type": "code",
   "execution_count": 127,
   "id": "c161f3e7-ebd0-40e4-9aa6-447703f83bf5",
   "metadata": {
    "tags": []
   },
   "outputs": [],
   "source": [
    "# Importando os dados\n",
    "\n",
    "df = pd.read_excel(\"datasets/dados_cor_acm.xlsx\")"
   ]
  },
  {
   "cell_type": "code",
   "execution_count": 128,
   "id": "8ca77a03-f82f-4a2d-a5ba-8181de7c40d9",
   "metadata": {},
   "outputs": [
    {
     "data": {
      "text/html": [
       "<div>\n",
       "<style scoped>\n",
       "    .dataframe tbody tr th:only-of-type {\n",
       "        vertical-align: middle;\n",
       "    }\n",
       "\n",
       "    .dataframe tbody tr th {\n",
       "        vertical-align: top;\n",
       "    }\n",
       "\n",
       "    .dataframe thead th {\n",
       "        text-align: right;\n",
       "    }\n",
       "</style>\n",
       "<table border=\"1\" class=\"dataframe\">\n",
       "  <thead>\n",
       "    <tr style=\"text-align: right;\">\n",
       "      <th></th>\n",
       "      <th>Idade</th>\n",
       "      <th>Sexo</th>\n",
       "      <th>Tipo_Dor_Peito</th>\n",
       "      <th>PS_Descanso</th>\n",
       "      <th>Colesterol</th>\n",
       "      <th>Açucar_Sangue</th>\n",
       "      <th>ECG_Descanso</th>\n",
       "      <th>BC_Max</th>\n",
       "      <th>Angina_Exerc</th>\n",
       "      <th>Doença_Card</th>\n",
       "    </tr>\n",
       "  </thead>\n",
       "  <tbody>\n",
       "    <tr>\n",
       "      <th>0</th>\n",
       "      <td>40</td>\n",
       "      <td>Masculino</td>\n",
       "      <td>Atipica</td>\n",
       "      <td>140</td>\n",
       "      <td>289</td>\n",
       "      <td>Normal</td>\n",
       "      <td>Normal</td>\n",
       "      <td>172</td>\n",
       "      <td>Nao</td>\n",
       "      <td>Nao</td>\n",
       "    </tr>\n",
       "    <tr>\n",
       "      <th>1</th>\n",
       "      <td>49</td>\n",
       "      <td>Feminino</td>\n",
       "      <td>Sem_Dor</td>\n",
       "      <td>160</td>\n",
       "      <td>180</td>\n",
       "      <td>Normal</td>\n",
       "      <td>Normal</td>\n",
       "      <td>156</td>\n",
       "      <td>Nao</td>\n",
       "      <td>Sim</td>\n",
       "    </tr>\n",
       "    <tr>\n",
       "      <th>2</th>\n",
       "      <td>37</td>\n",
       "      <td>Masculino</td>\n",
       "      <td>Atipica</td>\n",
       "      <td>130</td>\n",
       "      <td>283</td>\n",
       "      <td>Normal</td>\n",
       "      <td>Anormal_ST</td>\n",
       "      <td>98</td>\n",
       "      <td>Nao</td>\n",
       "      <td>Nao</td>\n",
       "    </tr>\n",
       "    <tr>\n",
       "      <th>3</th>\n",
       "      <td>48</td>\n",
       "      <td>Feminino</td>\n",
       "      <td>Assintomatico</td>\n",
       "      <td>138</td>\n",
       "      <td>214</td>\n",
       "      <td>Normal</td>\n",
       "      <td>Normal</td>\n",
       "      <td>108</td>\n",
       "      <td>Sim</td>\n",
       "      <td>Sim</td>\n",
       "    </tr>\n",
       "    <tr>\n",
       "      <th>4</th>\n",
       "      <td>54</td>\n",
       "      <td>Masculino</td>\n",
       "      <td>Sem_Dor</td>\n",
       "      <td>150</td>\n",
       "      <td>195</td>\n",
       "      <td>Normal</td>\n",
       "      <td>Normal</td>\n",
       "      <td>122</td>\n",
       "      <td>Nao</td>\n",
       "      <td>Nao</td>\n",
       "    </tr>\n",
       "  </tbody>\n",
       "</table>\n",
       "</div>"
      ],
      "text/plain": [
       "   Idade       Sexo Tipo_Dor_Peito  PS_Descanso  Colesterol Açucar_Sangue  \\\n",
       "0     40  Masculino        Atipica          140         289        Normal   \n",
       "1     49   Feminino        Sem_Dor          160         180        Normal   \n",
       "2     37  Masculino        Atipica          130         283        Normal   \n",
       "3     48   Feminino  Assintomatico          138         214        Normal   \n",
       "4     54  Masculino        Sem_Dor          150         195        Normal   \n",
       "\n",
       "  ECG_Descanso  BC_Max Angina_Exerc Doença_Card  \n",
       "0       Normal     172          Nao         Nao  \n",
       "1       Normal     156          Nao         Sim  \n",
       "2   Anormal_ST      98          Nao         Nao  \n",
       "3       Normal     108          Sim         Sim  \n",
       "4       Normal     122          Nao         Nao  "
      ]
     },
     "execution_count": 128,
     "metadata": {},
     "output_type": "execute_result"
    }
   ],
   "source": [
    "#%% Visualizando os dados e cada uma das variáveis\n",
    "\n",
    "df.head(5)\n"
   ]
  },
  {
   "cell_type": "code",
   "execution_count": 129,
   "id": "d12133bb-9662-4807-a311-7e61944d0e40",
   "metadata": {},
   "outputs": [
    {
     "name": "stdout",
     "output_type": "stream",
     "text": [
      "<class 'pandas.core.frame.DataFrame'>\n",
      "RangeIndex: 918 entries, 0 to 917\n",
      "Data columns (total 10 columns):\n",
      " #   Column          Non-Null Count  Dtype \n",
      "---  ------          --------------  ----- \n",
      " 0   Idade           918 non-null    int64 \n",
      " 1   Sexo            918 non-null    object\n",
      " 2   Tipo_Dor_Peito  918 non-null    object\n",
      " 3   PS_Descanso     918 non-null    int64 \n",
      " 4   Colesterol      918 non-null    int64 \n",
      " 5   Açucar_Sangue   918 non-null    object\n",
      " 6   ECG_Descanso    918 non-null    object\n",
      " 7   BC_Max          918 non-null    int64 \n",
      " 8   Angina_Exerc    918 non-null    object\n",
      " 9   Doença_Card     918 non-null    object\n",
      "dtypes: int64(4), object(6)\n",
      "memory usage: 71.8+ KB\n"
     ]
    }
   ],
   "source": [
    "df.info()"
   ]
  },
  {
   "cell_type": "code",
   "execution_count": 130,
   "id": "bc79fa89-6b18-4ee0-ae44-486287df89ea",
   "metadata": {},
   "outputs": [
    {
     "data": {
      "text/html": [
       "<div>\n",
       "<style scoped>\n",
       "    .dataframe tbody tr th:only-of-type {\n",
       "        vertical-align: middle;\n",
       "    }\n",
       "\n",
       "    .dataframe tbody tr th {\n",
       "        vertical-align: top;\n",
       "    }\n",
       "\n",
       "    .dataframe thead th {\n",
       "        text-align: right;\n",
       "    }\n",
       "</style>\n",
       "<table border=\"1\" class=\"dataframe\">\n",
       "  <thead>\n",
       "    <tr style=\"text-align: right;\">\n",
       "      <th></th>\n",
       "      <th>Idade</th>\n",
       "      <th>Sexo</th>\n",
       "      <th>Tipo_Dor_Peito</th>\n",
       "      <th>PS_Descanso</th>\n",
       "      <th>Colesterol</th>\n",
       "      <th>Açucar_Sangue</th>\n",
       "      <th>ECG_Descanso</th>\n",
       "      <th>BC_Max</th>\n",
       "      <th>Angina_Exerc</th>\n",
       "      <th>Doença_Card</th>\n",
       "    </tr>\n",
       "  </thead>\n",
       "  <tbody>\n",
       "    <tr>\n",
       "      <th>count</th>\n",
       "      <td>918.000000</td>\n",
       "      <td>918</td>\n",
       "      <td>918</td>\n",
       "      <td>918.000000</td>\n",
       "      <td>918.000000</td>\n",
       "      <td>918</td>\n",
       "      <td>918</td>\n",
       "      <td>918.000000</td>\n",
       "      <td>918</td>\n",
       "      <td>918</td>\n",
       "    </tr>\n",
       "    <tr>\n",
       "      <th>unique</th>\n",
       "      <td>NaN</td>\n",
       "      <td>2</td>\n",
       "      <td>4</td>\n",
       "      <td>NaN</td>\n",
       "      <td>NaN</td>\n",
       "      <td>2</td>\n",
       "      <td>3</td>\n",
       "      <td>NaN</td>\n",
       "      <td>2</td>\n",
       "      <td>2</td>\n",
       "    </tr>\n",
       "    <tr>\n",
       "      <th>top</th>\n",
       "      <td>NaN</td>\n",
       "      <td>Masculino</td>\n",
       "      <td>Assintomatico</td>\n",
       "      <td>NaN</td>\n",
       "      <td>NaN</td>\n",
       "      <td>Normal</td>\n",
       "      <td>Normal</td>\n",
       "      <td>NaN</td>\n",
       "      <td>Nao</td>\n",
       "      <td>Sim</td>\n",
       "    </tr>\n",
       "    <tr>\n",
       "      <th>freq</th>\n",
       "      <td>NaN</td>\n",
       "      <td>725</td>\n",
       "      <td>496</td>\n",
       "      <td>NaN</td>\n",
       "      <td>NaN</td>\n",
       "      <td>704</td>\n",
       "      <td>552</td>\n",
       "      <td>NaN</td>\n",
       "      <td>547</td>\n",
       "      <td>508</td>\n",
       "    </tr>\n",
       "    <tr>\n",
       "      <th>mean</th>\n",
       "      <td>53.510893</td>\n",
       "      <td>NaN</td>\n",
       "      <td>NaN</td>\n",
       "      <td>132.396514</td>\n",
       "      <td>198.799564</td>\n",
       "      <td>NaN</td>\n",
       "      <td>NaN</td>\n",
       "      <td>136.809368</td>\n",
       "      <td>NaN</td>\n",
       "      <td>NaN</td>\n",
       "    </tr>\n",
       "    <tr>\n",
       "      <th>std</th>\n",
       "      <td>9.432617</td>\n",
       "      <td>NaN</td>\n",
       "      <td>NaN</td>\n",
       "      <td>18.514154</td>\n",
       "      <td>109.384145</td>\n",
       "      <td>NaN</td>\n",
       "      <td>NaN</td>\n",
       "      <td>25.460334</td>\n",
       "      <td>NaN</td>\n",
       "      <td>NaN</td>\n",
       "    </tr>\n",
       "    <tr>\n",
       "      <th>min</th>\n",
       "      <td>28.000000</td>\n",
       "      <td>NaN</td>\n",
       "      <td>NaN</td>\n",
       "      <td>0.000000</td>\n",
       "      <td>0.000000</td>\n",
       "      <td>NaN</td>\n",
       "      <td>NaN</td>\n",
       "      <td>60.000000</td>\n",
       "      <td>NaN</td>\n",
       "      <td>NaN</td>\n",
       "    </tr>\n",
       "    <tr>\n",
       "      <th>25%</th>\n",
       "      <td>47.000000</td>\n",
       "      <td>NaN</td>\n",
       "      <td>NaN</td>\n",
       "      <td>120.000000</td>\n",
       "      <td>173.250000</td>\n",
       "      <td>NaN</td>\n",
       "      <td>NaN</td>\n",
       "      <td>120.000000</td>\n",
       "      <td>NaN</td>\n",
       "      <td>NaN</td>\n",
       "    </tr>\n",
       "    <tr>\n",
       "      <th>50%</th>\n",
       "      <td>54.000000</td>\n",
       "      <td>NaN</td>\n",
       "      <td>NaN</td>\n",
       "      <td>130.000000</td>\n",
       "      <td>223.000000</td>\n",
       "      <td>NaN</td>\n",
       "      <td>NaN</td>\n",
       "      <td>138.000000</td>\n",
       "      <td>NaN</td>\n",
       "      <td>NaN</td>\n",
       "    </tr>\n",
       "    <tr>\n",
       "      <th>75%</th>\n",
       "      <td>60.000000</td>\n",
       "      <td>NaN</td>\n",
       "      <td>NaN</td>\n",
       "      <td>140.000000</td>\n",
       "      <td>267.000000</td>\n",
       "      <td>NaN</td>\n",
       "      <td>NaN</td>\n",
       "      <td>156.000000</td>\n",
       "      <td>NaN</td>\n",
       "      <td>NaN</td>\n",
       "    </tr>\n",
       "    <tr>\n",
       "      <th>max</th>\n",
       "      <td>77.000000</td>\n",
       "      <td>NaN</td>\n",
       "      <td>NaN</td>\n",
       "      <td>200.000000</td>\n",
       "      <td>603.000000</td>\n",
       "      <td>NaN</td>\n",
       "      <td>NaN</td>\n",
       "      <td>202.000000</td>\n",
       "      <td>NaN</td>\n",
       "      <td>NaN</td>\n",
       "    </tr>\n",
       "  </tbody>\n",
       "</table>\n",
       "</div>"
      ],
      "text/plain": [
       "             Idade       Sexo Tipo_Dor_Peito  PS_Descanso  Colesterol  \\\n",
       "count   918.000000        918            918   918.000000  918.000000   \n",
       "unique         NaN          2              4          NaN         NaN   \n",
       "top            NaN  Masculino  Assintomatico          NaN         NaN   \n",
       "freq           NaN        725            496          NaN         NaN   \n",
       "mean     53.510893        NaN            NaN   132.396514  198.799564   \n",
       "std       9.432617        NaN            NaN    18.514154  109.384145   \n",
       "min      28.000000        NaN            NaN     0.000000    0.000000   \n",
       "25%      47.000000        NaN            NaN   120.000000  173.250000   \n",
       "50%      54.000000        NaN            NaN   130.000000  223.000000   \n",
       "75%      60.000000        NaN            NaN   140.000000  267.000000   \n",
       "max      77.000000        NaN            NaN   200.000000  603.000000   \n",
       "\n",
       "       Açucar_Sangue ECG_Descanso      BC_Max Angina_Exerc Doença_Card  \n",
       "count            918          918  918.000000          918         918  \n",
       "unique             2            3         NaN            2           2  \n",
       "top           Normal       Normal         NaN          Nao         Sim  \n",
       "freq             704          552         NaN          547         508  \n",
       "mean             NaN          NaN  136.809368          NaN         NaN  \n",
       "std              NaN          NaN   25.460334          NaN         NaN  \n",
       "min              NaN          NaN   60.000000          NaN         NaN  \n",
       "25%              NaN          NaN  120.000000          NaN         NaN  \n",
       "50%              NaN          NaN  138.000000          NaN         NaN  \n",
       "75%              NaN          NaN  156.000000          NaN         NaN  \n",
       "max              NaN          NaN  202.000000          NaN         NaN  "
      ]
     },
     "execution_count": 130,
     "metadata": {},
     "output_type": "execute_result"
    }
   ],
   "source": [
    "# Estatísticas descritivas\n",
    "summary = df.describe(include = 'all')\n",
    "summary\n"
   ]
  },
  {
   "cell_type": "code",
   "execution_count": 133,
   "id": "7898df86-f52b-4ba9-b0c0-eb84ec246ded",
   "metadata": {},
   "outputs": [
    {
     "data": {
      "text/html": [
       "<div>\n",
       "<style scoped>\n",
       "    .dataframe tbody tr th:only-of-type {\n",
       "        vertical-align: middle;\n",
       "    }\n",
       "\n",
       "    .dataframe tbody tr th {\n",
       "        vertical-align: top;\n",
       "    }\n",
       "\n",
       "    .dataframe thead th {\n",
       "        text-align: right;\n",
       "    }\n",
       "</style>\n",
       "<table border=\"1\" class=\"dataframe\">\n",
       "  <thead>\n",
       "    <tr style=\"text-align: right;\">\n",
       "      <th></th>\n",
       "      <th>Sexo</th>\n",
       "      <th>Tipo_Dor_Peito</th>\n",
       "      <th>Açucar_Sangue</th>\n",
       "      <th>ECG_Descanso</th>\n",
       "      <th>Angina_Exerc</th>\n",
       "      <th>Doença_Card</th>\n",
       "      <th>Categ_Idade</th>\n",
       "      <th>Categ_PS_Descanso</th>\n",
       "      <th>Categ_Colesterol</th>\n",
       "      <th>Categ_BC_Max</th>\n",
       "    </tr>\n",
       "  </thead>\n",
       "  <tbody>\n",
       "    <tr>\n",
       "      <th>0</th>\n",
       "      <td>Masculino</td>\n",
       "      <td>Atipica</td>\n",
       "      <td>Normal</td>\n",
       "      <td>Normal</td>\n",
       "      <td>Nao</td>\n",
       "      <td>Nao</td>\n",
       "      <td>Idade_baixa</td>\n",
       "      <td>PS_Descanso_média</td>\n",
       "      <td>Colesterol_alta</td>\n",
       "      <td>BC_Max_alta</td>\n",
       "    </tr>\n",
       "    <tr>\n",
       "      <th>1</th>\n",
       "      <td>Feminino</td>\n",
       "      <td>Sem_Dor</td>\n",
       "      <td>Normal</td>\n",
       "      <td>Normal</td>\n",
       "      <td>Nao</td>\n",
       "      <td>Sim</td>\n",
       "      <td>Idade_média</td>\n",
       "      <td>PS_Descanso_alta</td>\n",
       "      <td>Colesterol_média</td>\n",
       "      <td>BC_Max_média</td>\n",
       "    </tr>\n",
       "    <tr>\n",
       "      <th>2</th>\n",
       "      <td>Masculino</td>\n",
       "      <td>Atipica</td>\n",
       "      <td>Normal</td>\n",
       "      <td>Anormal_ST</td>\n",
       "      <td>Nao</td>\n",
       "      <td>Nao</td>\n",
       "      <td>Idade_baixa</td>\n",
       "      <td>PS_Descanso_média</td>\n",
       "      <td>Colesterol_alta</td>\n",
       "      <td>BC_Max_baixa</td>\n",
       "    </tr>\n",
       "    <tr>\n",
       "      <th>3</th>\n",
       "      <td>Feminino</td>\n",
       "      <td>Assintomatico</td>\n",
       "      <td>Normal</td>\n",
       "      <td>Normal</td>\n",
       "      <td>Sim</td>\n",
       "      <td>Sim</td>\n",
       "      <td>Idade_média</td>\n",
       "      <td>PS_Descanso_média</td>\n",
       "      <td>Colesterol_média</td>\n",
       "      <td>BC_Max_baixa</td>\n",
       "    </tr>\n",
       "    <tr>\n",
       "      <th>4</th>\n",
       "      <td>Masculino</td>\n",
       "      <td>Sem_Dor</td>\n",
       "      <td>Normal</td>\n",
       "      <td>Normal</td>\n",
       "      <td>Nao</td>\n",
       "      <td>Nao</td>\n",
       "      <td>Idade_média</td>\n",
       "      <td>PS_Descanso_alta</td>\n",
       "      <td>Colesterol_média</td>\n",
       "      <td>BC_Max_média</td>\n",
       "    </tr>\n",
       "  </tbody>\n",
       "</table>\n",
       "</div>"
      ],
      "text/plain": [
       "        Sexo Tipo_Dor_Peito Açucar_Sangue ECG_Descanso Angina_Exerc  \\\n",
       "0  Masculino        Atipica        Normal       Normal          Nao   \n",
       "1   Feminino        Sem_Dor        Normal       Normal          Nao   \n",
       "2  Masculino        Atipica        Normal   Anormal_ST          Nao   \n",
       "3   Feminino  Assintomatico        Normal       Normal          Sim   \n",
       "4  Masculino        Sem_Dor        Normal       Normal          Nao   \n",
       "\n",
       "  Doença_Card  Categ_Idade  Categ_PS_Descanso  Categ_Colesterol  Categ_BC_Max  \n",
       "0         Nao  Idade_baixa  PS_Descanso_média   Colesterol_alta   BC_Max_alta  \n",
       "1         Sim  Idade_média   PS_Descanso_alta  Colesterol_média  BC_Max_média  \n",
       "2         Nao  Idade_baixa  PS_Descanso_média   Colesterol_alta  BC_Max_baixa  \n",
       "3         Sim  Idade_média  PS_Descanso_média  Colesterol_média  BC_Max_baixa  \n",
       "4         Nao  Idade_média   PS_Descanso_alta  Colesterol_média  BC_Max_média  "
      ]
     },
     "execution_count": 133,
     "metadata": {},
     "output_type": "execute_result"
    }
   ],
   "source": [
    "## Algumas variáveis são qualitativas e outras quantitativas\n",
    "\n",
    "# Vamos categorizar as variáveis quanti (por critério estatístico)\n",
    "# Vamos remover as variáveis que não utilizaremos (quantitativas)\n",
    "to_categorize = ['Idade', 'PS_Descanso', 'Colesterol','BC_Max']\n",
    "for variable in to_categorize:\n",
    "    values = df[variable].values\n",
    "    categorizado = pd.cut(df[variable], bins=[-math.inf, np.quantile(values, 0.25),np.quantile(values, 0.75), math.inf], include_lowest=True,labels=[variable + '_baixa',variable + '_média', variable + '_alta']).to_frame()\n",
    "    categorizado = categorizado.rename(columns={variable: str('Categ_') + variable}  )\n",
    "    df.insert(len(df.keys()), str('Categ_') + variable,categorizado.values)\n",
    "    df.drop(variable, inplace=True, axis=1)\n",
    "    \n",
    "df.head(5)"
   ]
  },
  {
   "cell_type": "markdown",
   "id": "c3e7bf80-db81-4ac2-88aa-3d1f7b6dfd19",
   "metadata": {
    "tags": []
   },
   "source": [
    "## 3.2. Anacor Múltipla"
   ]
  },
  {
   "cell_type": "markdown",
   "id": "8ff0352d-782a-4f2b-8137-7af1a3297ade",
   "metadata": {},
   "source": [
    "### - Análises Preliminares"
   ]
  },
  {
   "cell_type": "code",
   "execution_count": 140,
   "id": "71e7d316-e913-4814-a590-da86c1cbcd94",
   "metadata": {},
   "outputs": [
    {
     "data": {
      "text/html": [
       "<div>\n",
       "<style scoped>\n",
       "    .dataframe tbody tr th:only-of-type {\n",
       "        vertical-align: middle;\n",
       "    }\n",
       "\n",
       "    .dataframe tbody tr th {\n",
       "        vertical-align: top;\n",
       "    }\n",
       "\n",
       "    .dataframe thead th {\n",
       "        text-align: right;\n",
       "    }\n",
       "</style>\n",
       "<table border=\"1\" class=\"dataframe\">\n",
       "  <thead>\n",
       "    <tr style=\"text-align: right;\">\n",
       "      <th>Tipo_Dor_Peito</th>\n",
       "      <th>Assintomatico</th>\n",
       "      <th>Atipica</th>\n",
       "      <th>Sem_Dor</th>\n",
       "      <th>Tipica</th>\n",
       "    </tr>\n",
       "    <tr>\n",
       "      <th>Doença_Card</th>\n",
       "      <th></th>\n",
       "      <th></th>\n",
       "      <th></th>\n",
       "      <th></th>\n",
       "    </tr>\n",
       "  </thead>\n",
       "  <tbody>\n",
       "    <tr>\n",
       "      <th>Nao</th>\n",
       "      <td>104</td>\n",
       "      <td>149</td>\n",
       "      <td>131</td>\n",
       "      <td>26</td>\n",
       "    </tr>\n",
       "    <tr>\n",
       "      <th>Sim</th>\n",
       "      <td>392</td>\n",
       "      <td>24</td>\n",
       "      <td>72</td>\n",
       "      <td>20</td>\n",
       "    </tr>\n",
       "  </tbody>\n",
       "</table>\n",
       "</div>"
      ],
      "text/plain": [
       "Tipo_Dor_Peito  Assintomatico  Atipica  Sem_Dor  Tipica\n",
       "Doença_Card                                            \n",
       "Nao                       104      149      131      26\n",
       "Sim                       392       24       72      20"
      ]
     },
     "execution_count": 140,
     "metadata": {},
     "output_type": "execute_result"
    }
   ],
   "source": [
    "# Tabelas de contingência (todas apresentam associação com alguma variável?)\n",
    "tabela_contingencia = pd.crosstab(index=df['Doença_Card'], columns=df['Tipo_Dor_Peito'])\n",
    "tabela_contingencia"
   ]
  },
  {
   "cell_type": "code",
   "execution_count": 134,
   "id": "8d8bef6c-0f44-4f3b-8370-140bb228b35e",
   "metadata": {},
   "outputs": [
    {
     "data": {
      "text/html": [
       "<div>\n",
       "<style scoped>\n",
       "    .dataframe tbody tr th:only-of-type {\n",
       "        vertical-align: middle;\n",
       "    }\n",
       "\n",
       "    .dataframe tbody tr th {\n",
       "        vertical-align: top;\n",
       "    }\n",
       "\n",
       "    .dataframe thead th {\n",
       "        text-align: right;\n",
       "    }\n",
       "</style>\n",
       "<table border=\"1\" class=\"dataframe\">\n",
       "  <thead>\n",
       "    <tr style=\"text-align: right;\">\n",
       "      <th>Açucar_Sangue</th>\n",
       "      <th>Diabetes</th>\n",
       "      <th>Normal</th>\n",
       "    </tr>\n",
       "    <tr>\n",
       "      <th>Doença_Card</th>\n",
       "      <th></th>\n",
       "      <th></th>\n",
       "    </tr>\n",
       "  </thead>\n",
       "  <tbody>\n",
       "    <tr>\n",
       "      <th>Nao</th>\n",
       "      <td>44</td>\n",
       "      <td>366</td>\n",
       "    </tr>\n",
       "    <tr>\n",
       "      <th>Sim</th>\n",
       "      <td>170</td>\n",
       "      <td>338</td>\n",
       "    </tr>\n",
       "  </tbody>\n",
       "</table>\n",
       "</div>"
      ],
      "text/plain": [
       "Açucar_Sangue  Diabetes  Normal\n",
       "Doença_Card                    \n",
       "Nao                  44     366\n",
       "Sim                 170     338"
      ]
     },
     "execution_count": 134,
     "metadata": {},
     "output_type": "execute_result"
    }
   ],
   "source": [
    "tabela_contingencia = pd.crosstab(index=df['Doença_Card'], columns=df['Açucar_Sangue'])\n",
    "tabela_contingencia"
   ]
  },
  {
   "cell_type": "code",
   "execution_count": 135,
   "id": "db95b704-050a-412c-ba0d-af5be2c54d37",
   "metadata": {},
   "outputs": [
    {
     "data": {
      "text/html": [
       "<div>\n",
       "<style scoped>\n",
       "    .dataframe tbody tr th:only-of-type {\n",
       "        vertical-align: middle;\n",
       "    }\n",
       "\n",
       "    .dataframe tbody tr th {\n",
       "        vertical-align: top;\n",
       "    }\n",
       "\n",
       "    .dataframe thead th {\n",
       "        text-align: right;\n",
       "    }\n",
       "</style>\n",
       "<table border=\"1\" class=\"dataframe\">\n",
       "  <thead>\n",
       "    <tr style=\"text-align: right;\">\n",
       "      <th>Angina_Exerc</th>\n",
       "      <th>Nao</th>\n",
       "      <th>Sim</th>\n",
       "    </tr>\n",
       "    <tr>\n",
       "      <th>Doença_Card</th>\n",
       "      <th></th>\n",
       "      <th></th>\n",
       "    </tr>\n",
       "  </thead>\n",
       "  <tbody>\n",
       "    <tr>\n",
       "      <th>Nao</th>\n",
       "      <td>355</td>\n",
       "      <td>55</td>\n",
       "    </tr>\n",
       "    <tr>\n",
       "      <th>Sim</th>\n",
       "      <td>192</td>\n",
       "      <td>316</td>\n",
       "    </tr>\n",
       "  </tbody>\n",
       "</table>\n",
       "</div>"
      ],
      "text/plain": [
       "Angina_Exerc  Nao  Sim\n",
       "Doença_Card           \n",
       "Nao           355   55\n",
       "Sim           192  316"
      ]
     },
     "execution_count": 135,
     "metadata": {},
     "output_type": "execute_result"
    }
   ],
   "source": [
    "tabela_contingencia = pd.crosstab(index=df['Doença_Card'], columns=df['Angina_Exerc'])\n",
    "tabela_contingencia"
   ]
  },
  {
   "cell_type": "code",
   "execution_count": 136,
   "id": "6703895d-2a17-4f07-bdec-38d12956cfbb",
   "metadata": {},
   "outputs": [
    {
     "data": {
      "text/html": [
       "<div>\n",
       "<style scoped>\n",
       "    .dataframe tbody tr th:only-of-type {\n",
       "        vertical-align: middle;\n",
       "    }\n",
       "\n",
       "    .dataframe tbody tr th {\n",
       "        vertical-align: top;\n",
       "    }\n",
       "\n",
       "    .dataframe thead th {\n",
       "        text-align: right;\n",
       "    }\n",
       "</style>\n",
       "<table border=\"1\" class=\"dataframe\">\n",
       "  <thead>\n",
       "    <tr style=\"text-align: right;\">\n",
       "      <th>Categ_Idade</th>\n",
       "      <th>Idade_alta</th>\n",
       "      <th>Idade_baixa</th>\n",
       "      <th>Idade_média</th>\n",
       "    </tr>\n",
       "    <tr>\n",
       "      <th>Doença_Card</th>\n",
       "      <th></th>\n",
       "      <th></th>\n",
       "      <th></th>\n",
       "    </tr>\n",
       "  </thead>\n",
       "  <tbody>\n",
       "    <tr>\n",
       "      <th>Nao</th>\n",
       "      <td>60</td>\n",
       "      <td>154</td>\n",
       "      <td>196</td>\n",
       "    </tr>\n",
       "    <tr>\n",
       "      <th>Sim</th>\n",
       "      <td>161</td>\n",
       "      <td>85</td>\n",
       "      <td>262</td>\n",
       "    </tr>\n",
       "  </tbody>\n",
       "</table>\n",
       "</div>"
      ],
      "text/plain": [
       "Categ_Idade  Idade_alta  Idade_baixa  Idade_média\n",
       "Doença_Card                                      \n",
       "Nao                  60          154          196\n",
       "Sim                 161           85          262"
      ]
     },
     "execution_count": 136,
     "metadata": {},
     "output_type": "execute_result"
    }
   ],
   "source": [
    "tabela_contingencia = pd.crosstab(index=df['Doença_Card'], columns=df['Categ_Idade'])\n",
    "tabela_contingencia"
   ]
  },
  {
   "cell_type": "code",
   "execution_count": 137,
   "id": "fc98719a-34b9-454f-9bad-a7fd9068aec1",
   "metadata": {},
   "outputs": [
    {
     "data": {
      "text/html": [
       "<div>\n",
       "<style scoped>\n",
       "    .dataframe tbody tr th:only-of-type {\n",
       "        vertical-align: middle;\n",
       "    }\n",
       "\n",
       "    .dataframe tbody tr th {\n",
       "        vertical-align: top;\n",
       "    }\n",
       "\n",
       "    .dataframe thead th {\n",
       "        text-align: right;\n",
       "    }\n",
       "</style>\n",
       "<table border=\"1\" class=\"dataframe\">\n",
       "  <thead>\n",
       "    <tr style=\"text-align: right;\">\n",
       "      <th>Categ_PS_Descanso</th>\n",
       "      <th>PS_Descanso_alta</th>\n",
       "      <th>PS_Descanso_baixa</th>\n",
       "      <th>PS_Descanso_média</th>\n",
       "    </tr>\n",
       "    <tr>\n",
       "      <th>Doença_Card</th>\n",
       "      <th></th>\n",
       "      <th></th>\n",
       "      <th></th>\n",
       "    </tr>\n",
       "  </thead>\n",
       "  <tbody>\n",
       "    <tr>\n",
       "      <th>Nao</th>\n",
       "      <td>70</td>\n",
       "      <td>150</td>\n",
       "      <td>190</td>\n",
       "    </tr>\n",
       "    <tr>\n",
       "      <th>Sim</th>\n",
       "      <td>150</td>\n",
       "      <td>143</td>\n",
       "      <td>215</td>\n",
       "    </tr>\n",
       "  </tbody>\n",
       "</table>\n",
       "</div>"
      ],
      "text/plain": [
       "Categ_PS_Descanso  PS_Descanso_alta  PS_Descanso_baixa  PS_Descanso_média\n",
       "Doença_Card                                                              \n",
       "Nao                              70                150                190\n",
       "Sim                             150                143                215"
      ]
     },
     "execution_count": 137,
     "metadata": {},
     "output_type": "execute_result"
    }
   ],
   "source": [
    "tabela_contingencia = pd.crosstab(index=df['Doença_Card'], columns=df['Categ_PS_Descanso'])\n",
    "tabela_contingencia"
   ]
  },
  {
   "cell_type": "code",
   "execution_count": 138,
   "id": "218d3e80-3d4b-4b4b-83ea-6856d6d82a4d",
   "metadata": {},
   "outputs": [
    {
     "data": {
      "text/html": [
       "<div>\n",
       "<style scoped>\n",
       "    .dataframe tbody tr th:only-of-type {\n",
       "        vertical-align: middle;\n",
       "    }\n",
       "\n",
       "    .dataframe tbody tr th {\n",
       "        vertical-align: top;\n",
       "    }\n",
       "\n",
       "    .dataframe thead th {\n",
       "        text-align: right;\n",
       "    }\n",
       "</style>\n",
       "<table border=\"1\" class=\"dataframe\">\n",
       "  <thead>\n",
       "    <tr style=\"text-align: right;\">\n",
       "      <th>Categ_Colesterol</th>\n",
       "      <th>Colesterol_alta</th>\n",
       "      <th>Colesterol_baixa</th>\n",
       "      <th>Colesterol_média</th>\n",
       "    </tr>\n",
       "    <tr>\n",
       "      <th>Doença_Card</th>\n",
       "      <th></th>\n",
       "      <th></th>\n",
       "      <th></th>\n",
       "    </tr>\n",
       "  </thead>\n",
       "  <tbody>\n",
       "    <tr>\n",
       "      <th>Nao</th>\n",
       "      <td>102</td>\n",
       "      <td>51</td>\n",
       "      <td>257</td>\n",
       "    </tr>\n",
       "    <tr>\n",
       "      <th>Sim</th>\n",
       "      <td>125</td>\n",
       "      <td>179</td>\n",
       "      <td>204</td>\n",
       "    </tr>\n",
       "  </tbody>\n",
       "</table>\n",
       "</div>"
      ],
      "text/plain": [
       "Categ_Colesterol  Colesterol_alta  Colesterol_baixa  Colesterol_média\n",
       "Doença_Card                                                          \n",
       "Nao                           102                51               257\n",
       "Sim                           125               179               204"
      ]
     },
     "execution_count": 138,
     "metadata": {},
     "output_type": "execute_result"
    }
   ],
   "source": [
    "tabela_contingencia = pd.crosstab(index=df['Doença_Card'], columns=df['Categ_Colesterol'])\n",
    "tabela_contingencia"
   ]
  },
  {
   "cell_type": "code",
   "execution_count": 139,
   "id": "10c123a2-467b-4596-a233-a4ed182eded6",
   "metadata": {},
   "outputs": [
    {
     "data": {
      "text/html": [
       "<div>\n",
       "<style scoped>\n",
       "    .dataframe tbody tr th:only-of-type {\n",
       "        vertical-align: middle;\n",
       "    }\n",
       "\n",
       "    .dataframe tbody tr th {\n",
       "        vertical-align: top;\n",
       "    }\n",
       "\n",
       "    .dataframe thead th {\n",
       "        text-align: right;\n",
       "    }\n",
       "</style>\n",
       "<table border=\"1\" class=\"dataframe\">\n",
       "  <thead>\n",
       "    <tr style=\"text-align: right;\">\n",
       "      <th>Categ_BC_Max</th>\n",
       "      <th>BC_Max_alta</th>\n",
       "      <th>BC_Max_baixa</th>\n",
       "      <th>BC_Max_média</th>\n",
       "    </tr>\n",
       "    <tr>\n",
       "      <th>Doença_Card</th>\n",
       "      <th></th>\n",
       "      <th></th>\n",
       "      <th></th>\n",
       "    </tr>\n",
       "  </thead>\n",
       "  <tbody>\n",
       "    <tr>\n",
       "      <th>Nao</th>\n",
       "      <td>163</td>\n",
       "      <td>59</td>\n",
       "      <td>188</td>\n",
       "    </tr>\n",
       "    <tr>\n",
       "      <th>Sim</th>\n",
       "      <td>58</td>\n",
       "      <td>202</td>\n",
       "      <td>248</td>\n",
       "    </tr>\n",
       "  </tbody>\n",
       "</table>\n",
       "</div>"
      ],
      "text/plain": [
       "Categ_BC_Max  BC_Max_alta  BC_Max_baixa  BC_Max_média\n",
       "Doença_Card                                          \n",
       "Nao                   163            59           188\n",
       "Sim                    58           202           248"
      ]
     },
     "execution_count": 139,
     "metadata": {},
     "output_type": "execute_result"
    }
   ],
   "source": [
    "tabela_contingencia = pd.crosstab(index=df['Doença_Card'], columns=df['Categ_BC_Max'])\n",
    "tabela_contingencia"
   ]
  },
  {
   "cell_type": "markdown",
   "id": "ad19fec9-45c0-4c33-93de-2d5621112ecb",
   "metadata": {},
   "source": [
    "### - Processo pelo Prince"
   ]
  },
  {
   "cell_type": "code",
   "execution_count": 141,
   "id": "929f7828-fe3d-4e70-aba4-f46757d39611",
   "metadata": {},
   "outputs": [],
   "source": [
    "#%% Elaborando a MCA \n",
    "\n",
    "## Utiliza o método da matriz de Burt\n",
    "\n",
    "mca = prince.MCA()\n",
    "mca = mca.fit(df)"
   ]
  },
  {
   "cell_type": "code",
   "execution_count": 142,
   "id": "8a0510e8-c26d-4392-bb95-6d8b48993380",
   "metadata": {},
   "outputs": [
    {
     "data": {
      "text/html": [
       "<div>\n",
       "<style scoped>\n",
       "    .dataframe tbody tr th:only-of-type {\n",
       "        vertical-align: middle;\n",
       "    }\n",
       "\n",
       "    .dataframe tbody tr th {\n",
       "        vertical-align: top;\n",
       "    }\n",
       "\n",
       "    .dataframe thead th {\n",
       "        text-align: right;\n",
       "    }\n",
       "</style>\n",
       "<table border=\"1\" class=\"dataframe\">\n",
       "  <thead>\n",
       "    <tr style=\"text-align: right;\">\n",
       "      <th></th>\n",
       "      <th>0</th>\n",
       "      <th>1</th>\n",
       "    </tr>\n",
       "  </thead>\n",
       "  <tbody>\n",
       "    <tr>\n",
       "      <th>Sexo_Feminino</th>\n",
       "      <td>0.800671</td>\n",
       "      <td>0.644256</td>\n",
       "    </tr>\n",
       "    <tr>\n",
       "      <th>Sexo_Masculino</th>\n",
       "      <td>-0.213144</td>\n",
       "      <td>-0.171505</td>\n",
       "    </tr>\n",
       "    <tr>\n",
       "      <th>Tipo_Dor_Peito_Assintomatico</th>\n",
       "      <td>-0.605817</td>\n",
       "      <td>-0.075738</td>\n",
       "    </tr>\n",
       "    <tr>\n",
       "      <th>Tipo_Dor_Peito_Atipica</th>\n",
       "      <td>1.093728</td>\n",
       "      <td>-0.176119</td>\n",
       "    </tr>\n",
       "    <tr>\n",
       "      <th>Tipo_Dor_Peito_Sem_Dor</th>\n",
       "      <td>0.468364</td>\n",
       "      <td>0.069916</td>\n",
       "    </tr>\n",
       "    <tr>\n",
       "      <th>Tipo_Dor_Peito_Tipica</th>\n",
       "      <td>0.352002</td>\n",
       "      <td>1.170474</td>\n",
       "    </tr>\n",
       "    <tr>\n",
       "      <th>Açucar_Sangue_Diabetes</th>\n",
       "      <td>-0.703626</td>\n",
       "      <td>-0.064105</td>\n",
       "    </tr>\n",
       "    <tr>\n",
       "      <th>Açucar_Sangue_Normal</th>\n",
       "      <td>0.213886</td>\n",
       "      <td>0.019486</td>\n",
       "    </tr>\n",
       "    <tr>\n",
       "      <th>ECG_Descanso_Anormal_ST</th>\n",
       "      <td>-0.576767</td>\n",
       "      <td>0.024347</td>\n",
       "    </tr>\n",
       "    <tr>\n",
       "      <th>ECG_Descanso_Hipertrofia_VE</th>\n",
       "      <td>0.060661</td>\n",
       "      <td>1.168212</td>\n",
       "    </tr>\n",
       "    <tr>\n",
       "      <th>ECG_Descanso_Normal</th>\n",
       "      <td>0.165327</td>\n",
       "      <td>-0.405720</td>\n",
       "    </tr>\n",
       "    <tr>\n",
       "      <th>Angina_Exerc_Nao</th>\n",
       "      <td>0.545160</td>\n",
       "      <td>-0.042819</td>\n",
       "    </tr>\n",
       "    <tr>\n",
       "      <th>Angina_Exerc_Sim</th>\n",
       "      <td>-0.803780</td>\n",
       "      <td>0.063132</td>\n",
       "    </tr>\n",
       "    <tr>\n",
       "      <th>Doença_Card_Nao</th>\n",
       "      <td>0.884310</td>\n",
       "      <td>0.058128</td>\n",
       "    </tr>\n",
       "    <tr>\n",
       "      <th>Doença_Card_Sim</th>\n",
       "      <td>-0.713715</td>\n",
       "      <td>-0.046914</td>\n",
       "    </tr>\n",
       "    <tr>\n",
       "      <th>Categ_Idade_Idade_alta</th>\n",
       "      <td>-0.664267</td>\n",
       "      <td>0.567514</td>\n",
       "    </tr>\n",
       "    <tr>\n",
       "      <th>Categ_Idade_Idade_baixa</th>\n",
       "      <td>0.725201</td>\n",
       "      <td>-0.636936</td>\n",
       "    </tr>\n",
       "    <tr>\n",
       "      <th>Categ_Idade_Idade_média</th>\n",
       "      <td>-0.057904</td>\n",
       "      <td>0.058531</td>\n",
       "    </tr>\n",
       "    <tr>\n",
       "      <th>Categ_PS_Descanso_PS_Descanso_alta</th>\n",
       "      <td>-0.492175</td>\n",
       "      <td>0.685125</td>\n",
       "    </tr>\n",
       "    <tr>\n",
       "      <th>Categ_PS_Descanso_PS_Descanso_baixa</th>\n",
       "      <td>0.321781</td>\n",
       "      <td>-0.729509</td>\n",
       "    </tr>\n",
       "    <tr>\n",
       "      <th>Categ_PS_Descanso_PS_Descanso_média</th>\n",
       "      <td>0.034560</td>\n",
       "      <td>0.155601</td>\n",
       "    </tr>\n",
       "    <tr>\n",
       "      <th>Categ_Colesterol_Colesterol_alta</th>\n",
       "      <td>0.043378</td>\n",
       "      <td>0.803020</td>\n",
       "    </tr>\n",
       "    <tr>\n",
       "      <th>Categ_Colesterol_Colesterol_baixa</th>\n",
       "      <td>-0.696434</td>\n",
       "      <td>-0.778252</td>\n",
       "    </tr>\n",
       "    <tr>\n",
       "      <th>Categ_Colesterol_Colesterol_média</th>\n",
       "      <td>0.326102</td>\n",
       "      <td>-0.007131</td>\n",
       "    </tr>\n",
       "    <tr>\n",
       "      <th>Categ_BC_Max_BC_Max_alta</th>\n",
       "      <td>1.003032</td>\n",
       "      <td>0.119747</td>\n",
       "    </tr>\n",
       "    <tr>\n",
       "      <th>Categ_BC_Max_BC_Max_baixa</th>\n",
       "      <td>-0.788107</td>\n",
       "      <td>-0.219598</td>\n",
       "    </tr>\n",
       "    <tr>\n",
       "      <th>Categ_BC_Max_BC_Max_média</th>\n",
       "      <td>-0.036638</td>\n",
       "      <td>0.070759</td>\n",
       "    </tr>\n",
       "  </tbody>\n",
       "</table>\n",
       "</div>"
      ],
      "text/plain": [
       "                                            0         1\n",
       "Sexo_Feminino                        0.800671  0.644256\n",
       "Sexo_Masculino                      -0.213144 -0.171505\n",
       "Tipo_Dor_Peito_Assintomatico        -0.605817 -0.075738\n",
       "Tipo_Dor_Peito_Atipica               1.093728 -0.176119\n",
       "Tipo_Dor_Peito_Sem_Dor               0.468364  0.069916\n",
       "Tipo_Dor_Peito_Tipica                0.352002  1.170474\n",
       "Açucar_Sangue_Diabetes              -0.703626 -0.064105\n",
       "Açucar_Sangue_Normal                 0.213886  0.019486\n",
       "ECG_Descanso_Anormal_ST             -0.576767  0.024347\n",
       "ECG_Descanso_Hipertrofia_VE          0.060661  1.168212\n",
       "ECG_Descanso_Normal                  0.165327 -0.405720\n",
       "Angina_Exerc_Nao                     0.545160 -0.042819\n",
       "Angina_Exerc_Sim                    -0.803780  0.063132\n",
       "Doença_Card_Nao                      0.884310  0.058128\n",
       "Doença_Card_Sim                     -0.713715 -0.046914\n",
       "Categ_Idade_Idade_alta              -0.664267  0.567514\n",
       "Categ_Idade_Idade_baixa              0.725201 -0.636936\n",
       "Categ_Idade_Idade_média             -0.057904  0.058531\n",
       "Categ_PS_Descanso_PS_Descanso_alta  -0.492175  0.685125\n",
       "Categ_PS_Descanso_PS_Descanso_baixa  0.321781 -0.729509\n",
       "Categ_PS_Descanso_PS_Descanso_média  0.034560  0.155601\n",
       "Categ_Colesterol_Colesterol_alta     0.043378  0.803020\n",
       "Categ_Colesterol_Colesterol_baixa   -0.696434 -0.778252\n",
       "Categ_Colesterol_Colesterol_média    0.326102 -0.007131\n",
       "Categ_BC_Max_BC_Max_alta             1.003032  0.119747\n",
       "Categ_BC_Max_BC_Max_baixa           -0.788107 -0.219598\n",
       "Categ_BC_Max_BC_Max_média           -0.036638  0.070759"
      ]
     },
     "execution_count": 142,
     "metadata": {},
     "output_type": "execute_result"
    }
   ],
   "source": [
    "#%% Obtendo as coordenadas nas duas dimensões do mapa\n",
    "\n",
    "mca.column_coordinates(df)"
   ]
  },
  {
   "cell_type": "code",
   "execution_count": 143,
   "id": "6f8a0a70-eab1-4c97-8c91-d62273abaf13",
   "metadata": {},
   "outputs": [
    {
     "data": {
      "text/html": [
       "<div>\n",
       "<style scoped>\n",
       "    .dataframe tbody tr th:only-of-type {\n",
       "        vertical-align: middle;\n",
       "    }\n",
       "\n",
       "    .dataframe tbody tr th {\n",
       "        vertical-align: top;\n",
       "    }\n",
       "\n",
       "    .dataframe thead th {\n",
       "        text-align: right;\n",
       "    }\n",
       "</style>\n",
       "<table border=\"1\" class=\"dataframe\">\n",
       "  <thead>\n",
       "    <tr style=\"text-align: right;\">\n",
       "      <th></th>\n",
       "      <th>0</th>\n",
       "      <th>1</th>\n",
       "    </tr>\n",
       "  </thead>\n",
       "  <tbody>\n",
       "    <tr>\n",
       "      <th>0</th>\n",
       "      <td>0.837399</td>\n",
       "      <td>-0.074514</td>\n",
       "    </tr>\n",
       "    <tr>\n",
       "      <th>1</th>\n",
       "      <td>0.227087</td>\n",
       "      <td>0.281121</td>\n",
       "    </tr>\n",
       "    <tr>\n",
       "      <th>2</th>\n",
       "      <td>0.365515</td>\n",
       "      <td>-0.050120</td>\n",
       "    </tr>\n",
       "    <tr>\n",
       "      <th>3</th>\n",
       "      <td>-0.266149</td>\n",
       "      <td>0.049988</td>\n",
       "    </tr>\n",
       "    <tr>\n",
       "      <th>4</th>\n",
       "      <td>0.335912</td>\n",
       "      <td>0.090016</td>\n",
       "    </tr>\n",
       "    <tr>\n",
       "      <th>...</th>\n",
       "      <td>...</td>\n",
       "      <td>...</td>\n",
       "    </tr>\n",
       "    <tr>\n",
       "      <th>913</th>\n",
       "      <td>0.314057</td>\n",
       "      <td>-0.209684</td>\n",
       "    </tr>\n",
       "    <tr>\n",
       "      <th>914</th>\n",
       "      <td>-0.445724</td>\n",
       "      <td>0.136990</td>\n",
       "    </tr>\n",
       "    <tr>\n",
       "      <th>915</th>\n",
       "      <td>-0.645476</td>\n",
       "      <td>-0.376709</td>\n",
       "    </tr>\n",
       "    <tr>\n",
       "      <th>916</th>\n",
       "      <td>0.615867</td>\n",
       "      <td>0.508968</td>\n",
       "    </tr>\n",
       "    <tr>\n",
       "      <th>917</th>\n",
       "      <td>0.773573</td>\n",
       "      <td>-0.226199</td>\n",
       "    </tr>\n",
       "  </tbody>\n",
       "</table>\n",
       "<p>918 rows × 2 columns</p>\n",
       "</div>"
      ],
      "text/plain": [
       "            0         1\n",
       "0    0.837399 -0.074514\n",
       "1    0.227087  0.281121\n",
       "2    0.365515 -0.050120\n",
       "3   -0.266149  0.049988\n",
       "4    0.335912  0.090016\n",
       "..        ...       ...\n",
       "913  0.314057 -0.209684\n",
       "914 -0.445724  0.136990\n",
       "915 -0.645476 -0.376709\n",
       "916  0.615867  0.508968\n",
       "917  0.773573 -0.226199\n",
       "\n",
       "[918 rows x 2 columns]"
      ]
     },
     "execution_count": 143,
     "metadata": {},
     "output_type": "execute_result"
    }
   ],
   "source": [
    "#%% Obtendo as coordenadas de cada um das observações\n",
    "\n",
    "mca.row_coordinates(df)\n",
    "\n",
    "\n"
   ]
  },
  {
   "cell_type": "code",
   "execution_count": 144,
   "id": "f2cb4106-a994-496e-a534-6871d82d7af1",
   "metadata": {},
   "outputs": [
    {
     "data": {
      "text/plain": [
       "[0.28818996534545366, 0.1383095057961798]"
      ]
     },
     "execution_count": 144,
     "metadata": {},
     "output_type": "execute_result"
    }
   ],
   "source": [
    "#%% Obtendo os eigenvalues\n",
    "\n",
    "mca.eigenvalues_\n",
    "\n"
   ]
  },
  {
   "cell_type": "code",
   "execution_count": 145,
   "id": "86d60a5c-fbb6-44bb-9eb8-b0a9e3de54b6",
   "metadata": {},
   "outputs": [
    {
     "data": {
      "text/plain": [
       "1.7"
      ]
     },
     "execution_count": 145,
     "metadata": {},
     "output_type": "execute_result"
    }
   ],
   "source": [
    "#%% Inércia principal total\n",
    "\n",
    "mca.total_inertia_\n",
    "\n"
   ]
  },
  {
   "cell_type": "code",
   "execution_count": 146,
   "id": "74d3bee4-bfdc-4fbc-a97b-fff757fd26c0",
   "metadata": {},
   "outputs": [
    {
     "data": {
      "text/plain": [
       "[0.16952350902673746, 0.08135853282128223]"
      ]
     },
     "execution_count": 146,
     "metadata": {},
     "output_type": "execute_result"
    }
   ],
   "source": [
    "#%% Obtendo a variância\n",
    "\n",
    "mca.explained_inertia_"
   ]
  },
  {
   "cell_type": "code",
   "execution_count": 147,
   "id": "d9ba527c-6797-45bc-b72b-873ea2004055",
   "metadata": {},
   "outputs": [
    {
     "data": {
      "image/png": "[encoded data removed]",
      "text/plain": [
       "<Figure size 1200x1200 with 1 Axes>"
      ]
     },
     "metadata": {},
     "output_type": "display_data"
    }
   ],
   "source": [
    "#%% Plotando o mapa perceptual\n",
    "\n",
    "mp_mca = mca.plot_coordinates(\n",
    "             X = df,\n",
    "             figsize=(12,12),\n",
    "             show_row_points = True,\n",
    "             show_column_points = True,\n",
    "             show_row_labels=False,\n",
    "             column_points_size = 100,\n",
    "             show_column_labels = True,\n",
    "             legend_n_cols = 2)"
   ]
  },
  {
   "cell_type": "markdown",
   "id": "3a10c8fb-c129-42bd-b622-f7b80da70b1e",
   "metadata": {},
   "source": [
    "# Exemplo 4: Gestão municipal(Anacor Simples / CA)"
   ]
  },
  {
   "cell_type": "markdown",
   "id": "95b5226f-abe6-430b-b83d-0f38554fd016",
   "metadata": {
    "tags": [],
    "toc-hr-collapsed": true
   },
   "source": [
    "## 4.1. Base de dados"
   ]
  },
  {
   "cell_type": "code",
   "execution_count": 163,
   "id": "2a19be4b-2516-42f0-b124-d23526711a65",
   "metadata": {},
   "outputs": [],
   "source": [
    "# pip install pyreadr"
   ]
  },
  {
   "cell_type": "code",
   "execution_count": 164,
   "id": "47aff72c-5207-4082-8cc1-747448ddedf4",
   "metadata": {},
   "outputs": [
    {
     "name": "stdout",
     "output_type": "stream",
     "text": [
      "odict_keys(['gestao_municipal'])\n"
     ]
    }
   ],
   "source": [
    "# Importando os dados\n",
    "import pyreadr\n",
    "\n",
    "result = pyreadr.read_r('datasets/gestao_municipal.RData') \n",
    "print(result.keys())"
   ]
  },
  {
   "cell_type": "code",
   "execution_count": 165,
   "id": "d6862a54-e04f-4108-9b1c-1387552c9f64",
   "metadata": {},
   "outputs": [],
   "source": [
    "df = result[\"gestao_municipal\"]\n",
    "\n",
    "df = df.rename(columns={'avaliaÃ§Ã£o': 'avaliação'})"
   ]
  },
  {
   "cell_type": "code",
   "execution_count": 166,
   "id": "98a678e0-9b0c-4ac9-9dec-4b60be1315c6",
   "metadata": {},
   "outputs": [
    {
     "data": {
      "text/html": [
       "<div>\n",
       "<style scoped>\n",
       "    .dataframe tbody tr th:only-of-type {\n",
       "        vertical-align: middle;\n",
       "    }\n",
       "\n",
       "    .dataframe tbody tr th {\n",
       "        vertical-align: top;\n",
       "    }\n",
       "\n",
       "    .dataframe thead th {\n",
       "        text-align: right;\n",
       "    }\n",
       "</style>\n",
       "<table border=\"1\" class=\"dataframe\">\n",
       "  <thead>\n",
       "    <tr style=\"text-align: right;\">\n",
       "      <th></th>\n",
       "      <th>avaliação</th>\n",
       "      <th>ano</th>\n",
       "    </tr>\n",
       "  </thead>\n",
       "  <tbody>\n",
       "    <tr>\n",
       "      <th>0</th>\n",
       "      <td>Concordo Totalmente</td>\n",
       "      <td>20X1</td>\n",
       "    </tr>\n",
       "    <tr>\n",
       "      <th>1</th>\n",
       "      <td>Concordo Totalmente</td>\n",
       "      <td>20X1</td>\n",
       "    </tr>\n",
       "    <tr>\n",
       "      <th>2</th>\n",
       "      <td>Concordo Totalmente</td>\n",
       "      <td>20X1</td>\n",
       "    </tr>\n",
       "    <tr>\n",
       "      <th>3</th>\n",
       "      <td>Concordo Parcialmente</td>\n",
       "      <td>20X1</td>\n",
       "    </tr>\n",
       "    <tr>\n",
       "      <th>4</th>\n",
       "      <td>Concordo Totalmente</td>\n",
       "      <td>20X1</td>\n",
       "    </tr>\n",
       "  </tbody>\n",
       "</table>\n",
       "</div>"
      ],
      "text/plain": [
       "               avaliação   ano\n",
       "0    Concordo Totalmente  20X1\n",
       "1    Concordo Totalmente  20X1\n",
       "2    Concordo Totalmente  20X1\n",
       "3  Concordo Parcialmente  20X1\n",
       "4    Concordo Totalmente  20X1"
      ]
     },
     "execution_count": 166,
     "metadata": {},
     "output_type": "execute_result"
    }
   ],
   "source": [
    "#%% Visualizando os dados e cada uma das variáveis\n",
    "\n",
    "df.head(5)\n"
   ]
  },
  {
   "cell_type": "code",
   "execution_count": 167,
   "id": "08ca12ea-fc94-4b31-b077-0a7b022de4a1",
   "metadata": {},
   "outputs": [
    {
     "name": "stdout",
     "output_type": "stream",
     "text": [
      "<class 'pandas.core.frame.DataFrame'>\n",
      "RangeIndex: 9000 entries, 0 to 8999\n",
      "Data columns (total 2 columns):\n",
      " #   Column     Non-Null Count  Dtype   \n",
      "---  ------     --------------  -----   \n",
      " 0   avaliação  9000 non-null   category\n",
      " 1   ano        9000 non-null   category\n",
      "dtypes: category(2)\n",
      "memory usage: 18.0 KB\n"
     ]
    }
   ],
   "source": [
    "df.info()"
   ]
  },
  {
   "cell_type": "code",
   "execution_count": 168,
   "id": "6bda4590-7288-4a06-bb36-d587ab02f0d9",
   "metadata": {},
   "outputs": [
    {
     "data": {
      "text/html": [
       "<div>\n",
       "<style scoped>\n",
       "    .dataframe tbody tr th:only-of-type {\n",
       "        vertical-align: middle;\n",
       "    }\n",
       "\n",
       "    .dataframe tbody tr th {\n",
       "        vertical-align: top;\n",
       "    }\n",
       "\n",
       "    .dataframe thead th {\n",
       "        text-align: right;\n",
       "    }\n",
       "</style>\n",
       "<table border=\"1\" class=\"dataframe\">\n",
       "  <thead>\n",
       "    <tr style=\"text-align: right;\">\n",
       "      <th></th>\n",
       "      <th>avaliação</th>\n",
       "      <th>ano</th>\n",
       "    </tr>\n",
       "  </thead>\n",
       "  <tbody>\n",
       "    <tr>\n",
       "      <th>count</th>\n",
       "      <td>9000</td>\n",
       "      <td>9000</td>\n",
       "    </tr>\n",
       "    <tr>\n",
       "      <th>unique</th>\n",
       "      <td>5</td>\n",
       "      <td>3</td>\n",
       "    </tr>\n",
       "    <tr>\n",
       "      <th>top</th>\n",
       "      <td>Nem Concordo, Nem Discordo</td>\n",
       "      <td>20X1</td>\n",
       "    </tr>\n",
       "    <tr>\n",
       "      <th>freq</th>\n",
       "      <td>2970</td>\n",
       "      <td>3000</td>\n",
       "    </tr>\n",
       "  </tbody>\n",
       "</table>\n",
       "</div>"
      ],
      "text/plain": [
       "                         avaliação   ano\n",
       "count                         9000  9000\n",
       "unique                           5     3\n",
       "top     Nem Concordo, Nem Discordo  20X1\n",
       "freq                          2970  3000"
      ]
     },
     "execution_count": 168,
     "metadata": {},
     "output_type": "execute_result"
    }
   ],
   "source": [
    "# Estatísticas descritivas\n",
    "summary = df.describe(include = 'all')\n",
    "summary\n"
   ]
  },
  {
   "cell_type": "markdown",
   "id": "980a61ae-38b5-4ead-8099-cc1f039a8d74",
   "metadata": {
    "tags": []
   },
   "source": [
    "## 4.2. Anacor Simples"
   ]
  },
  {
   "cell_type": "markdown",
   "id": "e254509d-697b-4089-8e4d-a13c60eb3a62",
   "metadata": {},
   "source": [
    "### - Análises Preliminares"
   ]
  },
  {
   "cell_type": "code",
   "execution_count": 169,
   "id": "e5f7314f-61a2-4e1e-a028-7648c73938b2",
   "metadata": {},
   "outputs": [
    {
     "data": {
      "text/html": [
       "<div>\n",
       "<style scoped>\n",
       "    .dataframe tbody tr th:only-of-type {\n",
       "        vertical-align: middle;\n",
       "    }\n",
       "\n",
       "    .dataframe tbody tr th {\n",
       "        vertical-align: top;\n",
       "    }\n",
       "\n",
       "    .dataframe thead th {\n",
       "        text-align: right;\n",
       "    }\n",
       "</style>\n",
       "<table border=\"1\" class=\"dataframe\">\n",
       "  <thead>\n",
       "    <tr style=\"text-align: right;\">\n",
       "      <th>ano</th>\n",
       "      <th>20X1</th>\n",
       "      <th>20X2</th>\n",
       "      <th>20X3</th>\n",
       "    </tr>\n",
       "    <tr>\n",
       "      <th>avaliação</th>\n",
       "      <th></th>\n",
       "      <th></th>\n",
       "      <th></th>\n",
       "    </tr>\n",
       "  </thead>\n",
       "  <tbody>\n",
       "    <tr>\n",
       "      <th>Concordo Parcialmente</th>\n",
       "      <td>1066</td>\n",
       "      <td>996</td>\n",
       "      <td>0</td>\n",
       "    </tr>\n",
       "    <tr>\n",
       "      <th>Concordo Totalmente</th>\n",
       "      <td>966</td>\n",
       "      <td>0</td>\n",
       "      <td>0</td>\n",
       "    </tr>\n",
       "    <tr>\n",
       "      <th>Discordo Parcialmente</th>\n",
       "      <td>1</td>\n",
       "      <td>998</td>\n",
       "      <td>1005</td>\n",
       "    </tr>\n",
       "    <tr>\n",
       "      <th>Discordo Totalmente</th>\n",
       "      <td>0</td>\n",
       "      <td>1</td>\n",
       "      <td>997</td>\n",
       "    </tr>\n",
       "    <tr>\n",
       "      <th>Nem Concordo, Nem Discordo</th>\n",
       "      <td>967</td>\n",
       "      <td>1005</td>\n",
       "      <td>998</td>\n",
       "    </tr>\n",
       "  </tbody>\n",
       "</table>\n",
       "</div>"
      ],
      "text/plain": [
       "ano                         20X1  20X2  20X3\n",
       "avaliação                                   \n",
       "Concordo Parcialmente       1066   996     0\n",
       "Concordo Totalmente          966     0     0\n",
       "Discordo Parcialmente          1   998  1005\n",
       "Discordo Totalmente            0     1   997\n",
       "Nem Concordo, Nem Discordo   967  1005   998"
      ]
     },
     "execution_count": 169,
     "metadata": {},
     "output_type": "execute_result"
    }
   ],
   "source": [
    "# Tabelas de frequência das variáveis\n",
    "tabela_contingencia = pd.crosstab(index=df['avaliação'], columns=df['ano'])\n",
    "tabela_contingencia"
   ]
  },
  {
   "cell_type": "code",
   "execution_count": 170,
   "id": "ee95bf96-7622-42cf-9c66-f5429b98dfab",
   "metadata": {},
   "outputs": [
    {
     "data": {
      "text/plain": [
       "9000"
      ]
     },
     "execution_count": 170,
     "metadata": {},
     "output_type": "execute_result"
    }
   ],
   "source": [
    "# Definição da quantidade de observações na tabela de contingência\n",
    "n = tabela_contingencia.sum().sum()\n",
    "n"
   ]
  },
  {
   "cell_type": "code",
   "execution_count": 171,
   "id": "8c8be273-fcff-4a25-b6d0-7cb167412b4d",
   "metadata": {},
   "outputs": [
    {
     "name": "stdout",
     "output_type": "stream",
     "text": [
      "estatística qui²: 5956.4356972909645\n",
      "p-valor da estatística: 0.0\n",
      "graus de liberdade: 8\n"
     ]
    }
   ],
   "source": [
    "#%% Analisando a significância estatística da associação (teste qui²)\n",
    "# Se o p valor é menor que 0.05 então se rejeita  hipótese nula, isto é, que as variáveis não \n",
    "# tem associação estatisticamente relevantes.\n",
    "\n",
    "chi2, pvalor, dgf, freq_esp = chi2_contingency(tabela_contingencia)\n",
    "\n",
    "print(f\"estatística qui²: {chi2}\") # estatística qui²\n",
    "print(f\"p-valor da estatística: {pvalor}\") # p-valor da estatística\n",
    "print(f\"graus de liberdade: {dgf}\") # graus de liberdade"
   ]
  },
  {
   "cell_type": "markdown",
   "id": "514be789-ee01-4c1c-bca5-a372771a8e0b",
   "metadata": {},
   "source": [
    "### - Processo pelo Prince"
   ]
  },
  {
   "cell_type": "code",
   "execution_count": 173,
   "id": "64c75e7b-65de-4872-b542-7d1985a6bb6e",
   "metadata": {},
   "outputs": [],
   "source": [
    "#%% Elaborando a ANACOR\n",
    "\n",
    "# Inicializando a instância da Anacor\n",
    "ca = prince.CA()"
   ]
  },
  {
   "cell_type": "code",
   "execution_count": 174,
   "id": "a8bdb8ca-5008-4ef3-a902-0d8e17cfdb6d",
   "metadata": {},
   "outputs": [],
   "source": [
    "#%% Fit do modelo\n",
    "\n",
    "# Note que o input é a tabela de contingência criada antes\n",
    "\n",
    "ca = ca.fit(tabela_contingencia)\n"
   ]
  },
  {
   "cell_type": "code",
   "execution_count": 175,
   "id": "36fafde0-5d31-479f-a47c-61bdaf7da9e7",
   "metadata": {},
   "outputs": [
    {
     "data": {
      "text/html": [
       "<div>\n",
       "<style scoped>\n",
       "    .dataframe tbody tr th:only-of-type {\n",
       "        vertical-align: middle;\n",
       "    }\n",
       "\n",
       "    .dataframe tbody tr th {\n",
       "        vertical-align: top;\n",
       "    }\n",
       "\n",
       "    .dataframe thead th {\n",
       "        text-align: right;\n",
       "    }\n",
       "</style>\n",
       "<table border=\"1\" class=\"dataframe\">\n",
       "  <thead>\n",
       "    <tr style=\"text-align: right;\">\n",
       "      <th></th>\n",
       "      <th>0</th>\n",
       "      <th>1</th>\n",
       "    </tr>\n",
       "  </thead>\n",
       "  <tbody>\n",
       "    <tr>\n",
       "      <th>Concordo Parcialmente</th>\n",
       "      <td>-0.634071</td>\n",
       "      <td>-0.315726</td>\n",
       "    </tr>\n",
       "    <tr>\n",
       "      <th>Concordo Totalmente</th>\n",
       "      <td>-1.222708</td>\n",
       "      <td>0.710623</td>\n",
       "    </tr>\n",
       "    <tr>\n",
       "      <th>Discordo Parcialmente</th>\n",
       "      <td>0.612588</td>\n",
       "      <td>-0.351081</td>\n",
       "    </tr>\n",
       "    <tr>\n",
       "      <th>Discordo Totalmente</th>\n",
       "      <td>1.225539</td>\n",
       "      <td>0.701462</td>\n",
       "    </tr>\n",
       "    <tr>\n",
       "      <th>Nem Concordo, Nem Discordo</th>\n",
       "      <td>0.012753</td>\n",
       "      <td>-0.010750</td>\n",
       "    </tr>\n",
       "  </tbody>\n",
       "</table>\n",
       "</div>"
      ],
      "text/plain": [
       "                                   0         1\n",
       "Concordo Parcialmente      -0.634071 -0.315726\n",
       "Concordo Totalmente        -1.222708  0.710623\n",
       "Discordo Parcialmente       0.612588 -0.351081\n",
       "Discordo Totalmente         1.225539  0.701462\n",
       "Nem Concordo, Nem Discordo  0.012753 -0.010750"
      ]
     },
     "execution_count": 175,
     "metadata": {},
     "output_type": "execute_result"
    }
   ],
   "source": [
    "#%% Obtendo as coordenadas em linha \n",
    "ca.row_coordinates(tabela_contingencia)"
   ]
  },
  {
   "cell_type": "code",
   "execution_count": 176,
   "id": "125132c3-619a-4d18-ad09-b353e93a7442",
   "metadata": {},
   "outputs": [
    {
     "data": {
      "text/html": [
       "<div>\n",
       "<style scoped>\n",
       "    .dataframe tbody tr th:only-of-type {\n",
       "        vertical-align: middle;\n",
       "    }\n",
       "\n",
       "    .dataframe tbody tr th {\n",
       "        vertical-align: top;\n",
       "    }\n",
       "\n",
       "    .dataframe thead th {\n",
       "        text-align: right;\n",
       "    }\n",
       "</style>\n",
       "<table border=\"1\" class=\"dataframe\">\n",
       "  <thead>\n",
       "    <tr style=\"text-align: right;\">\n",
       "      <th></th>\n",
       "      <th>0</th>\n",
       "      <th>1</th>\n",
       "    </tr>\n",
       "  </thead>\n",
       "  <tbody>\n",
       "    <tr>\n",
       "      <th>20X1</th>\n",
       "      <td>-0.866950</td>\n",
       "      <td>0.283437</td>\n",
       "    </tr>\n",
       "    <tr>\n",
       "      <th>20X2</th>\n",
       "      <td>-0.002882</td>\n",
       "      <td>-0.564066</td>\n",
       "    </tr>\n",
       "    <tr>\n",
       "      <th>20X3</th>\n",
       "      <td>0.869832</td>\n",
       "      <td>0.280629</td>\n",
       "    </tr>\n",
       "  </tbody>\n",
       "</table>\n",
       "</div>"
      ],
      "text/plain": [
       "             0         1\n",
       "20X1 -0.866950  0.283437\n",
       "20X2 -0.002882 -0.564066\n",
       "20X3  0.869832  0.280629"
      ]
     },
     "execution_count": 176,
     "metadata": {},
     "output_type": "execute_result"
    }
   ],
   "source": [
    "#%% Obtendo as coordenadas em coluna\n",
    "\n",
    "ca.column_coordinates(tabela_contingencia)"
   ]
  },
  {
   "cell_type": "code",
   "execution_count": 177,
   "id": "3006eac3-6cf7-4cc1-b11d-36f925e54b53",
   "metadata": {},
   "outputs": [
    {
     "data": {
      "text/plain": [
       "[0.5027396130675039, 0.1590865755203808]"
      ]
     },
     "execution_count": 177,
     "metadata": {},
     "output_type": "execute_result"
    }
   ],
   "source": [
    "#%% Obtendo os eigenvalues\n",
    "\n",
    "ca.eigenvalues_\n"
   ]
  },
  {
   "cell_type": "code",
   "execution_count": 178,
   "id": "bc835036-5346-49d6-962a-04fb89c29da1",
   "metadata": {},
   "outputs": [
    {
     "data": {
      "text/plain": [
       "0.6618261885878851"
      ]
     },
     "execution_count": 178,
     "metadata": {},
     "output_type": "execute_result"
    }
   ],
   "source": [
    "#%% Obtendo a inércia principal total\n",
    "\n",
    "# É a soma dos eigenvalues (também é a divisão: estat. qui² / N)\n",
    "# Quanto maior a inércia principal total, maior é a associação entre categorias\n",
    "\n",
    "ca.total_inertia_"
   ]
  },
  {
   "cell_type": "code",
   "execution_count": 179,
   "id": "d4850c47-5f7d-44ff-9504-5070d72f4dfa",
   "metadata": {},
   "outputs": [
    {
     "data": {
      "text/plain": [
       "[0.7596248406854094, 0.24037515931459005]"
      ]
     },
     "execution_count": 179,
     "metadata": {},
     "output_type": "execute_result"
    }
   ],
   "source": [
    "#%% Inércia explicada por dimensão\n",
    "\n",
    "# Indica o percentual da a inércia principal total explicado por cada dimensão\n",
    "\n",
    "ca.explained_inertia_"
   ]
  },
  {
   "cell_type": "code",
   "execution_count": 180,
   "id": "46652cb0-f026-410a-a1f8-25ead2ba112a",
   "metadata": {},
   "outputs": [
    {
     "data": {
      "text/plain": [
       "Concordo Parcialmente         0.229111\n",
       "Concordo Totalmente           0.107333\n",
       "Discordo Parcialmente         0.222667\n",
       "Discordo Totalmente           0.110889\n",
       "Nem Concordo, Nem Discordo    0.330000\n",
       "dtype: float64"
      ]
     },
     "execution_count": 180,
     "metadata": {},
     "output_type": "execute_result"
    }
   ],
   "source": [
    "#%% Massas em linhas\n",
    "\n",
    "ca.row_masses_\n"
   ]
  },
  {
   "cell_type": "code",
   "execution_count": 181,
   "id": "f8cf6c36-2ff4-4ed1-9679-d443a23cbde4",
   "metadata": {},
   "outputs": [
    {
     "data": {
      "text/plain": [
       "20X1    0.333333\n",
       "20X2    0.333333\n",
       "20X3    0.333333\n",
       "dtype: float64"
      ]
     },
     "execution_count": 181,
     "metadata": {},
     "output_type": "execute_result"
    }
   ],
   "source": [
    "#%% Massas em colunas\n",
    "\n",
    "ca.col_masses_"
   ]
  },
  {
   "cell_type": "code",
   "execution_count": 182,
   "id": "fe729977-1f29-4042-b22c-334721d9625c",
   "metadata": {},
   "outputs": [
    {
     "data": {
      "image/png": "[encoded data removed]",
      "text/plain": [
       "<Figure size 1000x1000 with 1 Axes>"
      ]
     },
     "metadata": {},
     "output_type": "display_data"
    }
   ],
   "source": [
    "ax = ca.plot_coordinates(X=tabela_contingencia,\n",
    "                         ax=None,\n",
    "                         figsize=(10,10),\n",
    "                         x_component=0,\n",
    "                         y_component=1,\n",
    "                         show_row_labels=True,\n",
    "                         show_col_labels=True)\n"
   ]
  },
  {
   "cell_type": "markdown",
   "id": "fddf5a15-9550-4a63-8126-57f69092a275",
   "metadata": {},
   "source": [
    "# Exemplo 5: Adaptaçao de estudantes (Anacor Múlticpla / MCA)"
   ]
  },
  {
   "cell_type": "markdown",
   "id": "3c987f0f-b6bd-4cb3-a8cd-7481317644a4",
   "metadata": {
    "tags": [],
    "toc-hr-collapsed": true
   },
   "source": [
    "## 5.1. Base de dados"
   ]
  },
  {
   "cell_type": "code",
   "execution_count": 196,
   "id": "41c44b5a-1602-4f63-96e8-e4e3258cfef3",
   "metadata": {},
   "outputs": [],
   "source": [
    "df = pd.read_csv(\"datasets/estudantes_adapta.csv\")"
   ]
  },
  {
   "cell_type": "code",
   "execution_count": 197,
   "id": "0e01c36d-b804-4ef1-b3a8-6e3a35c90a54",
   "metadata": {},
   "outputs": [
    {
     "data": {
      "text/html": [
       "<div>\n",
       "<style scoped>\n",
       "    .dataframe tbody tr th:only-of-type {\n",
       "        vertical-align: middle;\n",
       "    }\n",
       "\n",
       "    .dataframe tbody tr th {\n",
       "        vertical-align: top;\n",
       "    }\n",
       "\n",
       "    .dataframe thead th {\n",
       "        text-align: right;\n",
       "    }\n",
       "</style>\n",
       "<table border=\"1\" class=\"dataframe\">\n",
       "  <thead>\n",
       "    <tr style=\"text-align: right;\">\n",
       "      <th></th>\n",
       "      <th>Education</th>\n",
       "      <th>Institution</th>\n",
       "      <th>Financial</th>\n",
       "      <th>Internet</th>\n",
       "      <th>Adaptivity</th>\n",
       "    </tr>\n",
       "  </thead>\n",
       "  <tbody>\n",
       "    <tr>\n",
       "      <th>0</th>\n",
       "      <td>University</td>\n",
       "      <td>Non Government</td>\n",
       "      <td>Mid</td>\n",
       "      <td>Wifi</td>\n",
       "      <td>Moderate</td>\n",
       "    </tr>\n",
       "    <tr>\n",
       "      <th>1</th>\n",
       "      <td>University</td>\n",
       "      <td>Non Government</td>\n",
       "      <td>Mid</td>\n",
       "      <td>Mobile Data</td>\n",
       "      <td>Moderate</td>\n",
       "    </tr>\n",
       "    <tr>\n",
       "      <th>2</th>\n",
       "      <td>College</td>\n",
       "      <td>Government</td>\n",
       "      <td>Mid</td>\n",
       "      <td>Wifi</td>\n",
       "      <td>Moderate</td>\n",
       "    </tr>\n",
       "    <tr>\n",
       "      <th>3</th>\n",
       "      <td>School</td>\n",
       "      <td>Non Government</td>\n",
       "      <td>Mid</td>\n",
       "      <td>Mobile Data</td>\n",
       "      <td>Moderate</td>\n",
       "    </tr>\n",
       "    <tr>\n",
       "      <th>4</th>\n",
       "      <td>School</td>\n",
       "      <td>Non Government</td>\n",
       "      <td>Poor</td>\n",
       "      <td>Mobile Data</td>\n",
       "      <td>Low</td>\n",
       "    </tr>\n",
       "  </tbody>\n",
       "</table>\n",
       "</div>"
      ],
      "text/plain": [
       "    Education     Institution Financial     Internet Adaptivity\n",
       "0  University  Non Government       Mid         Wifi   Moderate\n",
       "1  University  Non Government       Mid  Mobile Data   Moderate\n",
       "2     College      Government       Mid         Wifi   Moderate\n",
       "3      School  Non Government       Mid  Mobile Data   Moderate\n",
       "4      School  Non Government      Poor  Mobile Data        Low"
      ]
     },
     "execution_count": 197,
     "metadata": {},
     "output_type": "execute_result"
    }
   ],
   "source": [
    "#%% Visualizando os dados e cada uma das variáveis\n",
    "\n",
    "df.head(5)\n"
   ]
  },
  {
   "cell_type": "code",
   "execution_count": 198,
   "id": "a766a76e-8a1b-4639-b04f-fb9d57163bcd",
   "metadata": {},
   "outputs": [
    {
     "name": "stdout",
     "output_type": "stream",
     "text": [
      "<class 'pandas.core.frame.DataFrame'>\n",
      "RangeIndex: 1205 entries, 0 to 1204\n",
      "Data columns (total 5 columns):\n",
      " #   Column       Non-Null Count  Dtype \n",
      "---  ------       --------------  ----- \n",
      " 0   Education    1205 non-null   object\n",
      " 1   Institution  1205 non-null   object\n",
      " 2   Financial    1205 non-null   object\n",
      " 3   Internet     1205 non-null   object\n",
      " 4   Adaptivity   1205 non-null   object\n",
      "dtypes: object(5)\n",
      "memory usage: 47.2+ KB\n"
     ]
    }
   ],
   "source": [
    "df.info()"
   ]
  },
  {
   "cell_type": "code",
   "execution_count": 199,
   "id": "5ed10865-7235-4dd9-8603-9dbed9cd6b09",
   "metadata": {},
   "outputs": [
    {
     "data": {
      "text/html": [
       "<div>\n",
       "<style scoped>\n",
       "    .dataframe tbody tr th:only-of-type {\n",
       "        vertical-align: middle;\n",
       "    }\n",
       "\n",
       "    .dataframe tbody tr th {\n",
       "        vertical-align: top;\n",
       "    }\n",
       "\n",
       "    .dataframe thead th {\n",
       "        text-align: right;\n",
       "    }\n",
       "</style>\n",
       "<table border=\"1\" class=\"dataframe\">\n",
       "  <thead>\n",
       "    <tr style=\"text-align: right;\">\n",
       "      <th></th>\n",
       "      <th>Education</th>\n",
       "      <th>Institution</th>\n",
       "      <th>Financial</th>\n",
       "      <th>Internet</th>\n",
       "      <th>Adaptivity</th>\n",
       "    </tr>\n",
       "  </thead>\n",
       "  <tbody>\n",
       "    <tr>\n",
       "      <th>count</th>\n",
       "      <td>1205</td>\n",
       "      <td>1205</td>\n",
       "      <td>1205</td>\n",
       "      <td>1205</td>\n",
       "      <td>1205</td>\n",
       "    </tr>\n",
       "    <tr>\n",
       "      <th>unique</th>\n",
       "      <td>3</td>\n",
       "      <td>2</td>\n",
       "      <td>3</td>\n",
       "      <td>2</td>\n",
       "      <td>3</td>\n",
       "    </tr>\n",
       "    <tr>\n",
       "      <th>top</th>\n",
       "      <td>School</td>\n",
       "      <td>Non Government</td>\n",
       "      <td>Mid</td>\n",
       "      <td>Mobile Data</td>\n",
       "      <td>Moderate</td>\n",
       "    </tr>\n",
       "    <tr>\n",
       "      <th>freq</th>\n",
       "      <td>530</td>\n",
       "      <td>823</td>\n",
       "      <td>878</td>\n",
       "      <td>695</td>\n",
       "      <td>625</td>\n",
       "    </tr>\n",
       "  </tbody>\n",
       "</table>\n",
       "</div>"
      ],
      "text/plain": [
       "       Education     Institution Financial     Internet Adaptivity\n",
       "count       1205            1205      1205         1205       1205\n",
       "unique         3               2         3            2          3\n",
       "top       School  Non Government       Mid  Mobile Data   Moderate\n",
       "freq         530             823       878          695        625"
      ]
     },
     "execution_count": 199,
     "metadata": {},
     "output_type": "execute_result"
    }
   ],
   "source": [
    "# Estatísticas descritivas\n",
    "summary = df.describe(include = 'all')\n",
    "summary\n"
   ]
  },
  {
   "cell_type": "markdown",
   "id": "9825e6e8-aedd-468b-b28f-d33c6f29e850",
   "metadata": {},
   "source": [
    "## 5.2. Anacor Múltipla"
   ]
  },
  {
   "cell_type": "markdown",
   "id": "296ddae2-17da-4ffa-ab77-69d3054fca0f",
   "metadata": {},
   "source": [
    "### - Análises Preliminares"
   ]
  },
  {
   "cell_type": "code",
   "execution_count": 200,
   "id": "2bba37e3-acc4-4bb4-a2d4-767f2b6d5e93",
   "metadata": {},
   "outputs": [
    {
     "data": {
      "text/html": [
       "<div>\n",
       "<style scoped>\n",
       "    .dataframe tbody tr th:only-of-type {\n",
       "        vertical-align: middle;\n",
       "    }\n",
       "\n",
       "    .dataframe tbody tr th {\n",
       "        vertical-align: top;\n",
       "    }\n",
       "\n",
       "    .dataframe thead th {\n",
       "        text-align: right;\n",
       "    }\n",
       "</style>\n",
       "<table border=\"1\" class=\"dataframe\">\n",
       "  <thead>\n",
       "    <tr style=\"text-align: right;\">\n",
       "      <th>Education</th>\n",
       "      <th>College</th>\n",
       "      <th>School</th>\n",
       "      <th>University</th>\n",
       "    </tr>\n",
       "    <tr>\n",
       "      <th>Adaptivity</th>\n",
       "      <th></th>\n",
       "      <th></th>\n",
       "      <th></th>\n",
       "    </tr>\n",
       "  </thead>\n",
       "  <tbody>\n",
       "    <tr>\n",
       "      <th>High</th>\n",
       "      <td>3</td>\n",
       "      <td>47</td>\n",
       "      <td>50</td>\n",
       "    </tr>\n",
       "    <tr>\n",
       "      <th>Low</th>\n",
       "      <td>120</td>\n",
       "      <td>182</td>\n",
       "      <td>178</td>\n",
       "    </tr>\n",
       "    <tr>\n",
       "      <th>Moderate</th>\n",
       "      <td>96</td>\n",
       "      <td>301</td>\n",
       "      <td>228</td>\n",
       "    </tr>\n",
       "  </tbody>\n",
       "</table>\n",
       "</div>"
      ],
      "text/plain": [
       "Education   College  School  University\n",
       "Adaptivity                             \n",
       "High              3      47          50\n",
       "Low             120     182         178\n",
       "Moderate         96     301         228"
      ]
     },
     "execution_count": 200,
     "metadata": {},
     "output_type": "execute_result"
    }
   ],
   "source": [
    "# Tabelas de contingência (todas apresentam associação com alguma variável?)\n",
    "tabela_contingencia = pd.crosstab(index=df['Adaptivity'], columns=df['Education'])\n",
    "tabela_contingencia"
   ]
  },
  {
   "cell_type": "code",
   "execution_count": 201,
   "id": "f48eeaad-2f95-4f74-901e-6b7afdf0eab3",
   "metadata": {},
   "outputs": [
    {
     "data": {
      "text/html": [
       "<div>\n",
       "<style scoped>\n",
       "    .dataframe tbody tr th:only-of-type {\n",
       "        vertical-align: middle;\n",
       "    }\n",
       "\n",
       "    .dataframe tbody tr th {\n",
       "        vertical-align: top;\n",
       "    }\n",
       "\n",
       "    .dataframe thead th {\n",
       "        text-align: right;\n",
       "    }\n",
       "</style>\n",
       "<table border=\"1\" class=\"dataframe\">\n",
       "  <thead>\n",
       "    <tr style=\"text-align: right;\">\n",
       "      <th>Institution</th>\n",
       "      <th>Government</th>\n",
       "      <th>Non Government</th>\n",
       "    </tr>\n",
       "    <tr>\n",
       "      <th>Adaptivity</th>\n",
       "      <th></th>\n",
       "      <th></th>\n",
       "    </tr>\n",
       "  </thead>\n",
       "  <tbody>\n",
       "    <tr>\n",
       "      <th>High</th>\n",
       "      <td>20</td>\n",
       "      <td>80</td>\n",
       "    </tr>\n",
       "    <tr>\n",
       "      <th>Low</th>\n",
       "      <td>234</td>\n",
       "      <td>246</td>\n",
       "    </tr>\n",
       "    <tr>\n",
       "      <th>Moderate</th>\n",
       "      <td>128</td>\n",
       "      <td>497</td>\n",
       "    </tr>\n",
       "  </tbody>\n",
       "</table>\n",
       "</div>"
      ],
      "text/plain": [
       "Institution  Government  Non Government\n",
       "Adaptivity                             \n",
       "High                 20              80\n",
       "Low                 234             246\n",
       "Moderate            128             497"
      ]
     },
     "execution_count": 201,
     "metadata": {},
     "output_type": "execute_result"
    }
   ],
   "source": [
    "tabela_contingencia = pd.crosstab(index=df['Adaptivity'], columns=df['Institution'])\n",
    "tabela_contingencia"
   ]
  },
  {
   "cell_type": "code",
   "execution_count": 202,
   "id": "86b6dfd0-a216-49aa-80c2-69b9661aa6c7",
   "metadata": {},
   "outputs": [
    {
     "data": {
      "text/html": [
       "<div>\n",
       "<style scoped>\n",
       "    .dataframe tbody tr th:only-of-type {\n",
       "        vertical-align: middle;\n",
       "    }\n",
       "\n",
       "    .dataframe tbody tr th {\n",
       "        vertical-align: top;\n",
       "    }\n",
       "\n",
       "    .dataframe thead th {\n",
       "        text-align: right;\n",
       "    }\n",
       "</style>\n",
       "<table border=\"1\" class=\"dataframe\">\n",
       "  <thead>\n",
       "    <tr style=\"text-align: right;\">\n",
       "      <th>Financial</th>\n",
       "      <th>Mid</th>\n",
       "      <th>Poor</th>\n",
       "      <th>Rich</th>\n",
       "    </tr>\n",
       "    <tr>\n",
       "      <th>Adaptivity</th>\n",
       "      <th></th>\n",
       "      <th></th>\n",
       "      <th></th>\n",
       "    </tr>\n",
       "  </thead>\n",
       "  <tbody>\n",
       "    <tr>\n",
       "      <th>High</th>\n",
       "      <td>36</td>\n",
       "      <td>22</td>\n",
       "      <td>42</td>\n",
       "    </tr>\n",
       "    <tr>\n",
       "      <th>Low</th>\n",
       "      <td>341</td>\n",
       "      <td>129</td>\n",
       "      <td>10</td>\n",
       "    </tr>\n",
       "    <tr>\n",
       "      <th>Moderate</th>\n",
       "      <td>501</td>\n",
       "      <td>91</td>\n",
       "      <td>33</td>\n",
       "    </tr>\n",
       "  </tbody>\n",
       "</table>\n",
       "</div>"
      ],
      "text/plain": [
       "Financial   Mid  Poor  Rich\n",
       "Adaptivity                 \n",
       "High         36    22    42\n",
       "Low         341   129    10\n",
       "Moderate    501    91    33"
      ]
     },
     "execution_count": 202,
     "metadata": {},
     "output_type": "execute_result"
    }
   ],
   "source": [
    "tabela_contingencia = pd.crosstab(index=df['Adaptivity'], columns=df['Financial'])\n",
    "tabela_contingencia"
   ]
  },
  {
   "cell_type": "code",
   "execution_count": 203,
   "id": "14789f75-66cd-4086-a9ed-54e290c751ea",
   "metadata": {},
   "outputs": [
    {
     "data": {
      "text/html": [
       "<div>\n",
       "<style scoped>\n",
       "    .dataframe tbody tr th:only-of-type {\n",
       "        vertical-align: middle;\n",
       "    }\n",
       "\n",
       "    .dataframe tbody tr th {\n",
       "        vertical-align: top;\n",
       "    }\n",
       "\n",
       "    .dataframe thead th {\n",
       "        text-align: right;\n",
       "    }\n",
       "</style>\n",
       "<table border=\"1\" class=\"dataframe\">\n",
       "  <thead>\n",
       "    <tr style=\"text-align: right;\">\n",
       "      <th>Internet</th>\n",
       "      <th>Mobile Data</th>\n",
       "      <th>Wifi</th>\n",
       "    </tr>\n",
       "    <tr>\n",
       "      <th>Adaptivity</th>\n",
       "      <th></th>\n",
       "      <th></th>\n",
       "    </tr>\n",
       "  </thead>\n",
       "  <tbody>\n",
       "    <tr>\n",
       "      <th>High</th>\n",
       "      <td>36</td>\n",
       "      <td>64</td>\n",
       "    </tr>\n",
       "    <tr>\n",
       "      <th>Low</th>\n",
       "      <td>288</td>\n",
       "      <td>192</td>\n",
       "    </tr>\n",
       "    <tr>\n",
       "      <th>Moderate</th>\n",
       "      <td>371</td>\n",
       "      <td>254</td>\n",
       "    </tr>\n",
       "  </tbody>\n",
       "</table>\n",
       "</div>"
      ],
      "text/plain": [
       "Internet    Mobile Data  Wifi\n",
       "Adaptivity                   \n",
       "High                 36    64\n",
       "Low                 288   192\n",
       "Moderate            371   254"
      ]
     },
     "execution_count": 203,
     "metadata": {},
     "output_type": "execute_result"
    }
   ],
   "source": [
    "tabela_contingencia = pd.crosstab(index=df['Adaptivity'], columns=df['Internet'])\n",
    "tabela_contingencia"
   ]
  },
  {
   "cell_type": "markdown",
   "id": "b828c24c-daaf-4669-a6b8-e9679f58ca72",
   "metadata": {},
   "source": [
    "### - Processo pelo Prince"
   ]
  },
  {
   "cell_type": "code",
   "execution_count": 204,
   "id": "13d188ee-6e27-417f-9177-b01d5994111e",
   "metadata": {},
   "outputs": [],
   "source": [
    "#%% Elaborando a MCA \n",
    "\n",
    "## Utiliza o método da matriz de Burt\n",
    "\n",
    "mca = prince.MCA()\n",
    "mca = mca.fit(df)"
   ]
  },
  {
   "cell_type": "code",
   "execution_count": 205,
   "id": "d404f787-ad43-4dc1-b703-984ace952e71",
   "metadata": {},
   "outputs": [
    {
     "data": {
      "text/html": [
       "<div>\n",
       "<style scoped>\n",
       "    .dataframe tbody tr th:only-of-type {\n",
       "        vertical-align: middle;\n",
       "    }\n",
       "\n",
       "    .dataframe tbody tr th {\n",
       "        vertical-align: top;\n",
       "    }\n",
       "\n",
       "    .dataframe thead th {\n",
       "        text-align: right;\n",
       "    }\n",
       "</style>\n",
       "<table border=\"1\" class=\"dataframe\">\n",
       "  <thead>\n",
       "    <tr style=\"text-align: right;\">\n",
       "      <th></th>\n",
       "      <th>0</th>\n",
       "      <th>1</th>\n",
       "    </tr>\n",
       "  </thead>\n",
       "  <tbody>\n",
       "    <tr>\n",
       "      <th>Education_College</th>\n",
       "      <td>-1.266116</td>\n",
       "      <td>0.559165</td>\n",
       "    </tr>\n",
       "    <tr>\n",
       "      <th>Education_School</th>\n",
       "      <td>0.476726</td>\n",
       "      <td>-0.675321</td>\n",
       "    </tr>\n",
       "    <tr>\n",
       "      <th>Education_University</th>\n",
       "      <td>0.053979</td>\n",
       "      <td>0.516366</td>\n",
       "    </tr>\n",
       "    <tr>\n",
       "      <th>Institution_Government</th>\n",
       "      <td>-0.846907</td>\n",
       "      <td>0.380226</td>\n",
       "    </tr>\n",
       "    <tr>\n",
       "      <th>Institution_Non Government</th>\n",
       "      <td>0.393097</td>\n",
       "      <td>-0.176484</td>\n",
       "    </tr>\n",
       "    <tr>\n",
       "      <th>Financial_Mid</th>\n",
       "      <td>-0.262792</td>\n",
       "      <td>0.125889</td>\n",
       "    </tr>\n",
       "    <tr>\n",
       "      <th>Financial_Poor</th>\n",
       "      <td>0.245959</td>\n",
       "      <td>-1.023834</td>\n",
       "    </tr>\n",
       "    <tr>\n",
       "      <th>Financial_Rich</th>\n",
       "      <td>2.014228</td>\n",
       "      <td>1.614552</td>\n",
       "    </tr>\n",
       "    <tr>\n",
       "      <th>Internet_Mobile Data</th>\n",
       "      <td>-0.057200</td>\n",
       "      <td>-0.631284</td>\n",
       "    </tr>\n",
       "    <tr>\n",
       "      <th>Internet_Wifi</th>\n",
       "      <td>0.077949</td>\n",
       "      <td>0.860279</td>\n",
       "    </tr>\n",
       "    <tr>\n",
       "      <th>Adaptivity_High</th>\n",
       "      <td>1.972304</td>\n",
       "      <td>1.324840</td>\n",
       "    </tr>\n",
       "    <tr>\n",
       "      <th>Adaptivity_Low</th>\n",
       "      <td>-0.676083</td>\n",
       "      <td>-0.030830</td>\n",
       "    </tr>\n",
       "    <tr>\n",
       "      <th>Adaptivity_Moderate</th>\n",
       "      <td>0.203663</td>\n",
       "      <td>-0.188297</td>\n",
       "    </tr>\n",
       "  </tbody>\n",
       "</table>\n",
       "</div>"
      ],
      "text/plain": [
       "                                   0         1\n",
       "Education_College          -1.266116  0.559165\n",
       "Education_School            0.476726 -0.675321\n",
       "Education_University        0.053979  0.516366\n",
       "Institution_Government     -0.846907  0.380226\n",
       "Institution_Non Government  0.393097 -0.176484\n",
       "Financial_Mid              -0.262792  0.125889\n",
       "Financial_Poor              0.245959 -1.023834\n",
       "Financial_Rich              2.014228  1.614552\n",
       "Internet_Mobile Data       -0.057200 -0.631284\n",
       "Internet_Wifi               0.077949  0.860279\n",
       "Adaptivity_High             1.972304  1.324840\n",
       "Adaptivity_Low             -0.676083 -0.030830\n",
       "Adaptivity_Moderate         0.203663 -0.188297"
      ]
     },
     "execution_count": 205,
     "metadata": {},
     "output_type": "execute_result"
    }
   ],
   "source": [
    "#%% Obtendo as coordenadas nas duas dimensões do mapa\n",
    "\n",
    "mca.column_coordinates(df)"
   ]
  },
  {
   "cell_type": "code",
   "execution_count": 206,
   "id": "f0b74e5e-2db4-4442-9dfa-14017509128c",
   "metadata": {},
   "outputs": [
    {
     "data": {
      "text/html": [
       "<div>\n",
       "<style scoped>\n",
       "    .dataframe tbody tr th:only-of-type {\n",
       "        vertical-align: middle;\n",
       "    }\n",
       "\n",
       "    .dataframe tbody tr th {\n",
       "        vertical-align: top;\n",
       "    }\n",
       "\n",
       "    .dataframe thead th {\n",
       "        text-align: right;\n",
       "    }\n",
       "</style>\n",
       "<table border=\"1\" class=\"dataframe\">\n",
       "  <thead>\n",
       "    <tr style=\"text-align: right;\">\n",
       "      <th></th>\n",
       "      <th>0</th>\n",
       "      <th>1</th>\n",
       "    </tr>\n",
       "  </thead>\n",
       "  <tbody>\n",
       "    <tr>\n",
       "      <th>0</th>\n",
       "      <td>0.164470</td>\n",
       "      <td>0.410168</td>\n",
       "    </tr>\n",
       "    <tr>\n",
       "      <th>1</th>\n",
       "      <td>0.116760</td>\n",
       "      <td>-0.127551</td>\n",
       "    </tr>\n",
       "    <tr>\n",
       "      <th>2</th>\n",
       "      <td>-0.739294</td>\n",
       "      <td>0.626296</td>\n",
       "    </tr>\n",
       "    <tr>\n",
       "      <th>3</th>\n",
       "      <td>0.265998</td>\n",
       "      <td>-0.557162</td>\n",
       "    </tr>\n",
       "    <tr>\n",
       "      <th>4</th>\n",
       "      <td>0.135029</td>\n",
       "      <td>-0.914878</td>\n",
       "    </tr>\n",
       "    <tr>\n",
       "      <th>...</th>\n",
       "      <td>...</td>\n",
       "      <td>...</td>\n",
       "    </tr>\n",
       "    <tr>\n",
       "      <th>1200</th>\n",
       "      <td>-0.612116</td>\n",
       "      <td>0.482365</td>\n",
       "    </tr>\n",
       "    <tr>\n",
       "      <th>1201</th>\n",
       "      <td>-0.301548</td>\n",
       "      <td>0.425598</td>\n",
       "    </tr>\n",
       "    <tr>\n",
       "      <th>1202</th>\n",
       "      <td>0.265998</td>\n",
       "      <td>-0.557162</td>\n",
       "    </tr>\n",
       "    <tr>\n",
       "      <th>1203</th>\n",
       "      <td>-0.612116</td>\n",
       "      <td>0.482365</td>\n",
       "    </tr>\n",
       "    <tr>\n",
       "      <th>1204</th>\n",
       "      <td>0.445596</td>\n",
       "      <td>-0.971645</td>\n",
       "    </tr>\n",
       "  </tbody>\n",
       "</table>\n",
       "<p>1205 rows × 2 columns</p>\n",
       "</div>"
      ],
      "text/plain": [
       "             0         1\n",
       "0     0.164470  0.410168\n",
       "1     0.116760 -0.127551\n",
       "2    -0.739294  0.626296\n",
       "3     0.265998 -0.557162\n",
       "4     0.135029 -0.914878\n",
       "...        ...       ...\n",
       "1200 -0.612116  0.482365\n",
       "1201 -0.301548  0.425598\n",
       "1202  0.265998 -0.557162\n",
       "1203 -0.612116  0.482365\n",
       "1204  0.445596 -0.971645\n",
       "\n",
       "[1205 rows x 2 columns]"
      ]
     },
     "execution_count": 206,
     "metadata": {},
     "output_type": "execute_result"
    }
   ],
   "source": [
    "#%% Obtendo as coordenadas de cada um das observações\n",
    "\n",
    "mca.row_coordinates(df)\n",
    "\n",
    "\n"
   ]
  },
  {
   "cell_type": "code",
   "execution_count": 207,
   "id": "80657e0c-ea7d-46db-bb7e-11f438bb71cd",
   "metadata": {},
   "outputs": [
    {
     "data": {
      "text/plain": [
       "[0.3209691914742566, 0.30777456178624046]"
      ]
     },
     "execution_count": 207,
     "metadata": {},
     "output_type": "execute_result"
    }
   ],
   "source": [
    "#%% Obtendo os eigenvalues\n",
    "\n",
    "mca.eigenvalues_\n",
    "\n"
   ]
  },
  {
   "cell_type": "code",
   "execution_count": 208,
   "id": "80c42bfb-baba-406e-b372-287ea4af362d",
   "metadata": {},
   "outputs": [
    {
     "data": {
      "text/plain": [
       "1.6"
      ]
     },
     "execution_count": 208,
     "metadata": {},
     "output_type": "execute_result"
    }
   ],
   "source": [
    "#%% Inércia principal total\n",
    "\n",
    "mca.total_inertia_\n",
    "\n"
   ]
  },
  {
   "cell_type": "code",
   "execution_count": 209,
   "id": "daf8d3e2-96e2-4ee4-9e7c-5f34f53d3202",
   "metadata": {},
   "outputs": [
    {
     "data": {
      "text/plain": [
       "[0.20060574467141037, 0.19235910111640028]"
      ]
     },
     "execution_count": 209,
     "metadata": {},
     "output_type": "execute_result"
    }
   ],
   "source": [
    "#%% Obtendo a variância\n",
    "\n",
    "mca.explained_inertia_"
   ]
  },
  {
   "cell_type": "code",
   "execution_count": 210,
   "id": "3dbc6e35-477e-41e1-b366-f696e3db144b",
   "metadata": {},
   "outputs": [
    {
     "data": {
      "image/png": "[encoded data removed]",
      "text/plain": [
       "<Figure size 1200x1200 with 1 Axes>"
      ]
     },
     "metadata": {},
     "output_type": "display_data"
    }
   ],
   "source": [
    "#%% Plotando o mapa perceptual\n",
    "\n",
    "mp_mca = mca.plot_coordinates(\n",
    "             X = df,\n",
    "             figsize=(12,12),\n",
    "             show_row_points = True,\n",
    "             show_column_points = True,\n",
    "             show_row_labels=False,\n",
    "             column_points_size = 100,\n",
    "             show_column_labels = True,\n",
    "             legend_n_cols = 2)"
   ]
  },
  {
   "cell_type": "markdown",
   "id": "81106bf1-d6bc-42e3-bf97-8b340cd40af9",
   "metadata": {},
   "source": [
    "# Exemplo 6: Classificação cursos (Anacor Simples / CA)"
   ]
  },
  {
   "cell_type": "markdown",
   "id": "d28826b5-6612-45fd-b91d-84deabcc1ef0",
   "metadata": {
    "tags": [],
    "toc-hr-collapsed": true
   },
   "source": [
    "## 6.1. Base de dados"
   ]
  },
  {
   "cell_type": "code",
   "execution_count": 212,
   "id": "e835011f-bf82-49dc-95dd-4c788b7c7584",
   "metadata": {},
   "outputs": [],
   "source": [
    "df1 = pd.read_excel('conceito_enade_2016.xlsx') \n",
    "df2 = pd.read_excel('conceito_enade_2021.xlsx') "
   ]
  },
  {
   "cell_type": "code",
   "execution_count": 213,
   "id": "a7d15eb0-e7ad-4c81-bc4e-c0684849bd64",
   "metadata": {},
   "outputs": [
    {
     "data": {
      "text/html": [
       "<div>\n",
       "<style scoped>\n",
       "    .dataframe tbody tr th:only-of-type {\n",
       "        vertical-align: middle;\n",
       "    }\n",
       "\n",
       "    .dataframe tbody tr th {\n",
       "        vertical-align: top;\n",
       "    }\n",
       "\n",
       "    .dataframe thead th {\n",
       "        text-align: right;\n",
       "    }\n",
       "</style>\n",
       "<table border=\"1\" class=\"dataframe\">\n",
       "  <thead>\n",
       "    <tr style=\"text-align: right;\">\n",
       "      <th></th>\n",
       "      <th>Ano</th>\n",
       "      <th>Id_Curso</th>\n",
       "      <th>Categoria_Adm</th>\n",
       "      <th>Conceito_Enade</th>\n",
       "    </tr>\n",
       "  </thead>\n",
       "  <tbody>\n",
       "    <tr>\n",
       "      <th>0</th>\n",
       "      <td>2016</td>\n",
       "      <td>1</td>\n",
       "      <td>Pública Federal</td>\n",
       "      <td>4</td>\n",
       "    </tr>\n",
       "    <tr>\n",
       "      <th>1</th>\n",
       "      <td>2016</td>\n",
       "      <td>2</td>\n",
       "      <td>Pública Federal</td>\n",
       "      <td>4</td>\n",
       "    </tr>\n",
       "    <tr>\n",
       "      <th>2</th>\n",
       "      <td>2016</td>\n",
       "      <td>3</td>\n",
       "      <td>Pública Federal</td>\n",
       "      <td>3</td>\n",
       "    </tr>\n",
       "    <tr>\n",
       "      <th>3</th>\n",
       "      <td>2016</td>\n",
       "      <td>4</td>\n",
       "      <td>Pública Federal</td>\n",
       "      <td>4</td>\n",
       "    </tr>\n",
       "    <tr>\n",
       "      <th>4</th>\n",
       "      <td>2016</td>\n",
       "      <td>5</td>\n",
       "      <td>Pública Federal</td>\n",
       "      <td>4</td>\n",
       "    </tr>\n",
       "  </tbody>\n",
       "</table>\n",
       "</div>"
      ],
      "text/plain": [
       "    Ano  Id_Curso    Categoria_Adm  Conceito_Enade\n",
       "0  2016         1  Pública Federal               4\n",
       "1  2016         2  Pública Federal               4\n",
       "2  2016         3  Pública Federal               3\n",
       "3  2016         4  Pública Federal               4\n",
       "4  2016         5  Pública Federal               4"
      ]
     },
     "execution_count": 213,
     "metadata": {},
     "output_type": "execute_result"
    }
   ],
   "source": [
    "#%% Visualizando os dados e cada uma das variáveis\n",
    "\n",
    "df1.head(5)\n"
   ]
  },
  {
   "cell_type": "code",
   "execution_count": 214,
   "id": "3b2c4e0d-46db-4088-a10b-e339c3aeb710",
   "metadata": {},
   "outputs": [
    {
     "data": {
      "text/html": [
       "<div>\n",
       "<style scoped>\n",
       "    .dataframe tbody tr th:only-of-type {\n",
       "        vertical-align: middle;\n",
       "    }\n",
       "\n",
       "    .dataframe tbody tr th {\n",
       "        vertical-align: top;\n",
       "    }\n",
       "\n",
       "    .dataframe thead th {\n",
       "        text-align: right;\n",
       "    }\n",
       "</style>\n",
       "<table border=\"1\" class=\"dataframe\">\n",
       "  <thead>\n",
       "    <tr style=\"text-align: right;\">\n",
       "      <th></th>\n",
       "      <th>Ano</th>\n",
       "      <th>Id_Curso</th>\n",
       "      <th>Categoria_Adm</th>\n",
       "      <th>Conceito_Enade</th>\n",
       "    </tr>\n",
       "  </thead>\n",
       "  <tbody>\n",
       "    <tr>\n",
       "      <th>0</th>\n",
       "      <td>2021</td>\n",
       "      <td>1</td>\n",
       "      <td>Pública Federal</td>\n",
       "      <td>4</td>\n",
       "    </tr>\n",
       "    <tr>\n",
       "      <th>1</th>\n",
       "      <td>2021</td>\n",
       "      <td>2</td>\n",
       "      <td>Pública Federal</td>\n",
       "      <td>3</td>\n",
       "    </tr>\n",
       "    <tr>\n",
       "      <th>2</th>\n",
       "      <td>2021</td>\n",
       "      <td>3</td>\n",
       "      <td>Pública Federal</td>\n",
       "      <td>3</td>\n",
       "    </tr>\n",
       "    <tr>\n",
       "      <th>3</th>\n",
       "      <td>2021</td>\n",
       "      <td>4</td>\n",
       "      <td>Pública Federal</td>\n",
       "      <td>4</td>\n",
       "    </tr>\n",
       "    <tr>\n",
       "      <th>4</th>\n",
       "      <td>2021</td>\n",
       "      <td>5</td>\n",
       "      <td>Pública Federal</td>\n",
       "      <td>1</td>\n",
       "    </tr>\n",
       "  </tbody>\n",
       "</table>\n",
       "</div>"
      ],
      "text/plain": [
       "    Ano  Id_Curso    Categoria_Adm  Conceito_Enade\n",
       "0  2021         1  Pública Federal               4\n",
       "1  2021         2  Pública Federal               3\n",
       "2  2021         3  Pública Federal               3\n",
       "3  2021         4  Pública Federal               4\n",
       "4  2021         5  Pública Federal               1"
      ]
     },
     "execution_count": 214,
     "metadata": {},
     "output_type": "execute_result"
    }
   ],
   "source": [
    "#%% Visualizando os dados e cada uma das variáveis\n",
    "\n",
    "df2.head(5)\n"
   ]
  },
  {
   "cell_type": "code",
   "execution_count": 215,
   "id": "175c3c45-2918-4aa1-9526-f2fd6ab9e636",
   "metadata": {},
   "outputs": [
    {
     "name": "stdout",
     "output_type": "stream",
     "text": [
      "<class 'pandas.core.frame.DataFrame'>\n",
      "RangeIndex: 4200 entries, 0 to 4199\n",
      "Data columns (total 4 columns):\n",
      " #   Column          Non-Null Count  Dtype \n",
      "---  ------          --------------  ----- \n",
      " 0   Ano             4200 non-null   int64 \n",
      " 1   Id_Curso        4200 non-null   int64 \n",
      " 2   Categoria_Adm   4200 non-null   object\n",
      " 3   Conceito_Enade  4200 non-null   int64 \n",
      "dtypes: int64(3), object(1)\n",
      "memory usage: 131.4+ KB\n"
     ]
    }
   ],
   "source": [
    "df1.info()"
   ]
  },
  {
   "cell_type": "code",
   "execution_count": 216,
   "id": "d7bd69f8-b0bf-4a5c-853e-f1d430ae6608",
   "metadata": {},
   "outputs": [
    {
     "name": "stdout",
     "output_type": "stream",
     "text": [
      "<class 'pandas.core.frame.DataFrame'>\n",
      "RangeIndex: 7497 entries, 0 to 7496\n",
      "Data columns (total 4 columns):\n",
      " #   Column          Non-Null Count  Dtype \n",
      "---  ------          --------------  ----- \n",
      " 0   Ano             7497 non-null   int64 \n",
      " 1   Id_Curso        7497 non-null   int64 \n",
      " 2   Categoria_Adm   7497 non-null   object\n",
      " 3   Conceito_Enade  7497 non-null   int64 \n",
      "dtypes: int64(3), object(1)\n",
      "memory usage: 234.4+ KB\n"
     ]
    }
   ],
   "source": [
    "df2.info()"
   ]
  },
  {
   "cell_type": "code",
   "execution_count": 217,
   "id": "741486ed-fccf-4563-9c0a-77b74b655d57",
   "metadata": {},
   "outputs": [
    {
     "data": {
      "text/html": [
       "<div>\n",
       "<style scoped>\n",
       "    .dataframe tbody tr th:only-of-type {\n",
       "        vertical-align: middle;\n",
       "    }\n",
       "\n",
       "    .dataframe tbody tr th {\n",
       "        vertical-align: top;\n",
       "    }\n",
       "\n",
       "    .dataframe thead th {\n",
       "        text-align: right;\n",
       "    }\n",
       "</style>\n",
       "<table border=\"1\" class=\"dataframe\">\n",
       "  <thead>\n",
       "    <tr style=\"text-align: right;\">\n",
       "      <th></th>\n",
       "      <th>Ano</th>\n",
       "      <th>Id_Curso</th>\n",
       "      <th>Categoria_Adm</th>\n",
       "      <th>Conceito_Enade</th>\n",
       "    </tr>\n",
       "  </thead>\n",
       "  <tbody>\n",
       "    <tr>\n",
       "      <th>count</th>\n",
       "      <td>4200.0</td>\n",
       "      <td>4200.000000</td>\n",
       "      <td>4200</td>\n",
       "      <td>4200.000000</td>\n",
       "    </tr>\n",
       "    <tr>\n",
       "      <th>unique</th>\n",
       "      <td>NaN</td>\n",
       "      <td>NaN</td>\n",
       "      <td>5</td>\n",
       "      <td>NaN</td>\n",
       "    </tr>\n",
       "    <tr>\n",
       "      <th>top</th>\n",
       "      <td>NaN</td>\n",
       "      <td>NaN</td>\n",
       "      <td>Privada sem fins lucrativos</td>\n",
       "      <td>NaN</td>\n",
       "    </tr>\n",
       "    <tr>\n",
       "      <th>freq</th>\n",
       "      <td>NaN</td>\n",
       "      <td>NaN</td>\n",
       "      <td>1750</td>\n",
       "      <td>NaN</td>\n",
       "    </tr>\n",
       "    <tr>\n",
       "      <th>mean</th>\n",
       "      <td>2016.0</td>\n",
       "      <td>2100.500000</td>\n",
       "      <td>NaN</td>\n",
       "      <td>3.057857</td>\n",
       "    </tr>\n",
       "    <tr>\n",
       "      <th>std</th>\n",
       "      <td>0.0</td>\n",
       "      <td>1212.579894</td>\n",
       "      <td>NaN</td>\n",
       "      <td>0.950669</td>\n",
       "    </tr>\n",
       "    <tr>\n",
       "      <th>min</th>\n",
       "      <td>2016.0</td>\n",
       "      <td>1.000000</td>\n",
       "      <td>NaN</td>\n",
       "      <td>1.000000</td>\n",
       "    </tr>\n",
       "    <tr>\n",
       "      <th>25%</th>\n",
       "      <td>2016.0</td>\n",
       "      <td>1050.750000</td>\n",
       "      <td>NaN</td>\n",
       "      <td>2.000000</td>\n",
       "    </tr>\n",
       "    <tr>\n",
       "      <th>50%</th>\n",
       "      <td>2016.0</td>\n",
       "      <td>2100.500000</td>\n",
       "      <td>NaN</td>\n",
       "      <td>3.000000</td>\n",
       "    </tr>\n",
       "    <tr>\n",
       "      <th>75%</th>\n",
       "      <td>2016.0</td>\n",
       "      <td>3150.250000</td>\n",
       "      <td>NaN</td>\n",
       "      <td>4.000000</td>\n",
       "    </tr>\n",
       "    <tr>\n",
       "      <th>max</th>\n",
       "      <td>2016.0</td>\n",
       "      <td>4200.000000</td>\n",
       "      <td>NaN</td>\n",
       "      <td>5.000000</td>\n",
       "    </tr>\n",
       "  </tbody>\n",
       "</table>\n",
       "</div>"
      ],
      "text/plain": [
       "           Ano     Id_Curso                Categoria_Adm  Conceito_Enade\n",
       "count   4200.0  4200.000000                         4200     4200.000000\n",
       "unique     NaN          NaN                            5             NaN\n",
       "top        NaN          NaN  Privada sem fins lucrativos             NaN\n",
       "freq       NaN          NaN                         1750             NaN\n",
       "mean    2016.0  2100.500000                          NaN        3.057857\n",
       "std        0.0  1212.579894                          NaN        0.950669\n",
       "min     2016.0     1.000000                          NaN        1.000000\n",
       "25%     2016.0  1050.750000                          NaN        2.000000\n",
       "50%     2016.0  2100.500000                          NaN        3.000000\n",
       "75%     2016.0  3150.250000                          NaN        4.000000\n",
       "max     2016.0  4200.000000                          NaN        5.000000"
      ]
     },
     "execution_count": 217,
     "metadata": {},
     "output_type": "execute_result"
    }
   ],
   "source": [
    "# Estatísticas descritivas\n",
    "summary = df1.describe(include = 'all')\n",
    "summary\n"
   ]
  },
  {
   "cell_type": "code",
   "execution_count": 218,
   "id": "832b6e2a-56fc-4472-998d-1977b7291bce",
   "metadata": {},
   "outputs": [
    {
     "data": {
      "text/html": [
       "<div>\n",
       "<style scoped>\n",
       "    .dataframe tbody tr th:only-of-type {\n",
       "        vertical-align: middle;\n",
       "    }\n",
       "\n",
       "    .dataframe tbody tr th {\n",
       "        vertical-align: top;\n",
       "    }\n",
       "\n",
       "    .dataframe thead th {\n",
       "        text-align: right;\n",
       "    }\n",
       "</style>\n",
       "<table border=\"1\" class=\"dataframe\">\n",
       "  <thead>\n",
       "    <tr style=\"text-align: right;\">\n",
       "      <th></th>\n",
       "      <th>Ano</th>\n",
       "      <th>Id_Curso</th>\n",
       "      <th>Categoria_Adm</th>\n",
       "      <th>Conceito_Enade</th>\n",
       "    </tr>\n",
       "  </thead>\n",
       "  <tbody>\n",
       "    <tr>\n",
       "      <th>count</th>\n",
       "      <td>7497.0</td>\n",
       "      <td>7497.000000</td>\n",
       "      <td>7497</td>\n",
       "      <td>7497.000000</td>\n",
       "    </tr>\n",
       "    <tr>\n",
       "      <th>unique</th>\n",
       "      <td>NaN</td>\n",
       "      <td>NaN</td>\n",
       "      <td>5</td>\n",
       "      <td>NaN</td>\n",
       "    </tr>\n",
       "    <tr>\n",
       "      <th>top</th>\n",
       "      <td>NaN</td>\n",
       "      <td>NaN</td>\n",
       "      <td>Privada com fins lucrativos</td>\n",
       "      <td>NaN</td>\n",
       "    </tr>\n",
       "    <tr>\n",
       "      <th>freq</th>\n",
       "      <td>NaN</td>\n",
       "      <td>NaN</td>\n",
       "      <td>2252</td>\n",
       "      <td>NaN</td>\n",
       "    </tr>\n",
       "    <tr>\n",
       "      <th>mean</th>\n",
       "      <td>2021.0</td>\n",
       "      <td>3749.000000</td>\n",
       "      <td>NaN</td>\n",
       "      <td>2.958250</td>\n",
       "    </tr>\n",
       "    <tr>\n",
       "      <th>std</th>\n",
       "      <td>0.0</td>\n",
       "      <td>2164.341817</td>\n",
       "      <td>NaN</td>\n",
       "      <td>0.947525</td>\n",
       "    </tr>\n",
       "    <tr>\n",
       "      <th>min</th>\n",
       "      <td>2021.0</td>\n",
       "      <td>1.000000</td>\n",
       "      <td>NaN</td>\n",
       "      <td>1.000000</td>\n",
       "    </tr>\n",
       "    <tr>\n",
       "      <th>25%</th>\n",
       "      <td>2021.0</td>\n",
       "      <td>1875.000000</td>\n",
       "      <td>NaN</td>\n",
       "      <td>2.000000</td>\n",
       "    </tr>\n",
       "    <tr>\n",
       "      <th>50%</th>\n",
       "      <td>2021.0</td>\n",
       "      <td>3749.000000</td>\n",
       "      <td>NaN</td>\n",
       "      <td>3.000000</td>\n",
       "    </tr>\n",
       "    <tr>\n",
       "      <th>75%</th>\n",
       "      <td>2021.0</td>\n",
       "      <td>5623.000000</td>\n",
       "      <td>NaN</td>\n",
       "      <td>4.000000</td>\n",
       "    </tr>\n",
       "    <tr>\n",
       "      <th>max</th>\n",
       "      <td>2021.0</td>\n",
       "      <td>7497.000000</td>\n",
       "      <td>NaN</td>\n",
       "      <td>5.000000</td>\n",
       "    </tr>\n",
       "  </tbody>\n",
       "</table>\n",
       "</div>"
      ],
      "text/plain": [
       "           Ano     Id_Curso                Categoria_Adm  Conceito_Enade\n",
       "count   7497.0  7497.000000                         7497     7497.000000\n",
       "unique     NaN          NaN                            5             NaN\n",
       "top        NaN          NaN  Privada com fins lucrativos             NaN\n",
       "freq       NaN          NaN                         2252             NaN\n",
       "mean    2021.0  3749.000000                          NaN        2.958250\n",
       "std        0.0  2164.341817                          NaN        0.947525\n",
       "min     2021.0     1.000000                          NaN        1.000000\n",
       "25%     2021.0  1875.000000                          NaN        2.000000\n",
       "50%     2021.0  3749.000000                          NaN        3.000000\n",
       "75%     2021.0  5623.000000                          NaN        4.000000\n",
       "max     2021.0  7497.000000                          NaN        5.000000"
      ]
     },
     "execution_count": 218,
     "metadata": {},
     "output_type": "execute_result"
    }
   ],
   "source": [
    "# Estatísticas descritivas\n",
    "summary = df2.describe(include = 'all')\n",
    "summary\n"
   ]
  },
  {
   "cell_type": "markdown",
   "id": "a5200045-85aa-43ae-97f6-0ffa2c2dc056",
   "metadata": {
    "tags": []
   },
   "source": [
    "## 6.2. Anacor Simples"
   ]
  },
  {
   "cell_type": "markdown",
   "id": "f9731f11-a508-4ab4-b7ec-a8d61a24b538",
   "metadata": {},
   "source": [
    "### - Análises Preliminares"
   ]
  },
  {
   "cell_type": "code",
   "execution_count": 221,
   "id": "3dd3697f-ec15-49a5-8914-fb2d838e02c5",
   "metadata": {},
   "outputs": [
    {
     "data": {
      "text/html": [
       "<div>\n",
       "<style scoped>\n",
       "    .dataframe tbody tr th:only-of-type {\n",
       "        vertical-align: middle;\n",
       "    }\n",
       "\n",
       "    .dataframe tbody tr th {\n",
       "        vertical-align: top;\n",
       "    }\n",
       "\n",
       "    .dataframe thead th {\n",
       "        text-align: right;\n",
       "    }\n",
       "</style>\n",
       "<table border=\"1\" class=\"dataframe\">\n",
       "  <thead>\n",
       "    <tr style=\"text-align: right;\">\n",
       "      <th>Conceito_Enade</th>\n",
       "      <th>1</th>\n",
       "      <th>2</th>\n",
       "      <th>3</th>\n",
       "      <th>4</th>\n",
       "      <th>5</th>\n",
       "    </tr>\n",
       "    <tr>\n",
       "      <th>Categoria_Adm</th>\n",
       "      <th></th>\n",
       "      <th></th>\n",
       "      <th></th>\n",
       "      <th></th>\n",
       "      <th></th>\n",
       "    </tr>\n",
       "  </thead>\n",
       "  <tbody>\n",
       "    <tr>\n",
       "      <th>Privada com fins lucrativos</th>\n",
       "      <td>64</td>\n",
       "      <td>485</td>\n",
       "      <td>661</td>\n",
       "      <td>188</td>\n",
       "      <td>25</td>\n",
       "    </tr>\n",
       "    <tr>\n",
       "      <th>Privada sem fins lucrativos</th>\n",
       "      <td>74</td>\n",
       "      <td>409</td>\n",
       "      <td>771</td>\n",
       "      <td>420</td>\n",
       "      <td>76</td>\n",
       "    </tr>\n",
       "    <tr>\n",
       "      <th>Pública Estadual</th>\n",
       "      <td>11</td>\n",
       "      <td>33</td>\n",
       "      <td>71</td>\n",
       "      <td>123</td>\n",
       "      <td>36</td>\n",
       "    </tr>\n",
       "    <tr>\n",
       "      <th>Pública Federal</th>\n",
       "      <td>9</td>\n",
       "      <td>45</td>\n",
       "      <td>157</td>\n",
       "      <td>313</td>\n",
       "      <td>125</td>\n",
       "    </tr>\n",
       "    <tr>\n",
       "      <th>Pública Municipal</th>\n",
       "      <td>12</td>\n",
       "      <td>35</td>\n",
       "      <td>39</td>\n",
       "      <td>14</td>\n",
       "      <td>4</td>\n",
       "    </tr>\n",
       "  </tbody>\n",
       "</table>\n",
       "</div>"
      ],
      "text/plain": [
       "Conceito_Enade                1    2    3    4    5\n",
       "Categoria_Adm                                      \n",
       "Privada com fins lucrativos  64  485  661  188   25\n",
       "Privada sem fins lucrativos  74  409  771  420   76\n",
       "Pública Estadual             11   33   71  123   36\n",
       "Pública Federal               9   45  157  313  125\n",
       "Pública Municipal            12   35   39   14    4"
      ]
     },
     "execution_count": 221,
     "metadata": {},
     "output_type": "execute_result"
    }
   ],
   "source": [
    "# Tabelas de frequência das variáveis\n",
    "tabela_contingencia1 = pd.crosstab(index=df1['Categoria_Adm'], columns=df1['Conceito_Enade'])\n",
    "tabela_contingencia1"
   ]
  },
  {
   "cell_type": "code",
   "execution_count": 222,
   "id": "4c045f21-10a8-4359-9e25-a85256da1bf3",
   "metadata": {},
   "outputs": [
    {
     "data": {
      "text/html": [
       "<div>\n",
       "<style scoped>\n",
       "    .dataframe tbody tr th:only-of-type {\n",
       "        vertical-align: middle;\n",
       "    }\n",
       "\n",
       "    .dataframe tbody tr th {\n",
       "        vertical-align: top;\n",
       "    }\n",
       "\n",
       "    .dataframe thead th {\n",
       "        text-align: right;\n",
       "    }\n",
       "</style>\n",
       "<table border=\"1\" class=\"dataframe\">\n",
       "  <thead>\n",
       "    <tr style=\"text-align: right;\">\n",
       "      <th>Conceito_Enade</th>\n",
       "      <th>1</th>\n",
       "      <th>2</th>\n",
       "      <th>3</th>\n",
       "      <th>4</th>\n",
       "      <th>5</th>\n",
       "    </tr>\n",
       "    <tr>\n",
       "      <th>Categoria_Adm</th>\n",
       "      <th></th>\n",
       "      <th></th>\n",
       "      <th></th>\n",
       "      <th></th>\n",
       "      <th></th>\n",
       "    </tr>\n",
       "  </thead>\n",
       "  <tbody>\n",
       "    <tr>\n",
       "      <th>Privada com fins lucrativos</th>\n",
       "      <td>139</td>\n",
       "      <td>818</td>\n",
       "      <td>989</td>\n",
       "      <td>272</td>\n",
       "      <td>34</td>\n",
       "    </tr>\n",
       "    <tr>\n",
       "      <th>Privada sem fins lucrativos</th>\n",
       "      <td>54</td>\n",
       "      <td>501</td>\n",
       "      <td>724</td>\n",
       "      <td>387</td>\n",
       "      <td>86</td>\n",
       "    </tr>\n",
       "    <tr>\n",
       "      <th>Pública Estadual</th>\n",
       "      <td>50</td>\n",
       "      <td>353</td>\n",
       "      <td>469</td>\n",
       "      <td>278</td>\n",
       "      <td>59</td>\n",
       "    </tr>\n",
       "    <tr>\n",
       "      <th>Pública Federal</th>\n",
       "      <td>53</td>\n",
       "      <td>418</td>\n",
       "      <td>752</td>\n",
       "      <td>664</td>\n",
       "      <td>243</td>\n",
       "    </tr>\n",
       "    <tr>\n",
       "      <th>Pública Municipal</th>\n",
       "      <td>19</td>\n",
       "      <td>67</td>\n",
       "      <td>43</td>\n",
       "      <td>21</td>\n",
       "      <td>4</td>\n",
       "    </tr>\n",
       "  </tbody>\n",
       "</table>\n",
       "</div>"
      ],
      "text/plain": [
       "Conceito_Enade                 1    2    3    4    5\n",
       "Categoria_Adm                                       \n",
       "Privada com fins lucrativos  139  818  989  272   34\n",
       "Privada sem fins lucrativos   54  501  724  387   86\n",
       "Pública Estadual              50  353  469  278   59\n",
       "Pública Federal               53  418  752  664  243\n",
       "Pública Municipal             19   67   43   21    4"
      ]
     },
     "execution_count": 222,
     "metadata": {},
     "output_type": "execute_result"
    }
   ],
   "source": [
    "# Tabelas de frequência das variáveis\n",
    "tabela_contingencia2 = pd.crosstab(index=df2['Categoria_Adm'], columns=df2['Conceito_Enade'])\n",
    "tabela_contingencia2"
   ]
  },
  {
   "cell_type": "code",
   "execution_count": 224,
   "id": "afe12727-e916-4665-befa-607b2e0dc855",
   "metadata": {},
   "outputs": [
    {
     "name": "stdout",
     "output_type": "stream",
     "text": [
      "estatística qui²: 778.6900483155465\n",
      "p-valor da estatística: 2.2252295453838292e-155\n",
      "graus de liberdade: 16\n"
     ]
    }
   ],
   "source": [
    "#%% Analisando a significância estatística da associação (teste qui²)\n",
    "# Se o p valor é menor que 0.05 então se rejeita  hipótese nula, isto é, que as variáveis não \n",
    "# tem associação estatisticamente relevantes.\n",
    "\n",
    "chi2, pvalor, dgf, freq_esp = chi2_contingency(tabela_contingencia1)\n",
    "\n",
    "print(f\"estatística qui²: {chi2}\") # estatística qui²\n",
    "print(f\"p-valor da estatística: {pvalor}\") # p-valor da estatística\n",
    "print(f\"graus de liberdade: {dgf}\") # graus de liberdade"
   ]
  },
  {
   "cell_type": "code",
   "execution_count": 225,
   "id": "5521d42a-af0f-49e3-b7be-a9cec823f336",
   "metadata": {},
   "outputs": [
    {
     "name": "stdout",
     "output_type": "stream",
     "text": [
      "estatística qui²: 598.8297902833862\n",
      "p-valor da estatística: 4.0502806750767916e-117\n",
      "graus de liberdade: 16\n"
     ]
    }
   ],
   "source": [
    "#%% Analisando a significância estatística da associação (teste qui²)\n",
    "# Se o p valor é menor que 0.05 então se rejeita  hipótese nula, isto é, que as variáveis não \n",
    "# tem associação estatisticamente relevantes.\n",
    "\n",
    "chi2, pvalor, dgf, freq_esp = chi2_contingency(tabela_contingencia2)\n",
    "\n",
    "print(f\"estatística qui²: {chi2}\") # estatística qui²\n",
    "print(f\"p-valor da estatística: {pvalor}\") # p-valor da estatística\n",
    "print(f\"graus de liberdade: {dgf}\") # graus de liberdade"
   ]
  },
  {
   "cell_type": "markdown",
   "id": "382b555a-099a-4014-9b0e-cbf30c5c4c60",
   "metadata": {},
   "source": [
    "### - Processo pelo Prince"
   ]
  },
  {
   "cell_type": "markdown",
   "id": "cdd8d847-0f82-409a-b585-ded133c76057",
   "metadata": {},
   "source": [
    "#### 2016"
   ]
  },
  {
   "cell_type": "code",
   "execution_count": 226,
   "id": "7706e90c-6d01-415c-81df-fbeb03a34c49",
   "metadata": {},
   "outputs": [],
   "source": [
    "#%% Elaborando a ANACOR\n",
    "\n",
    "# Inicializando a instância da Anacor\n",
    "ca = prince.CA()"
   ]
  },
  {
   "cell_type": "code",
   "execution_count": 227,
   "id": "ee1f6ef7-7f9c-4d77-a3b4-d3ca32df0d80",
   "metadata": {},
   "outputs": [],
   "source": [
    "#%% Fit do modelo\n",
    "\n",
    "# Note que o input é a tabela de contingência criada antes\n",
    "\n",
    "ca = ca.fit(tabela_contingencia1)\n"
   ]
  },
  {
   "cell_type": "code",
   "execution_count": 228,
   "id": "dc0c88bc-fbfd-487e-8814-39b43db79234",
   "metadata": {},
   "outputs": [
    {
     "data": {
      "text/html": [
       "<div>\n",
       "<style scoped>\n",
       "    .dataframe tbody tr th:only-of-type {\n",
       "        vertical-align: middle;\n",
       "    }\n",
       "\n",
       "    .dataframe tbody tr th {\n",
       "        vertical-align: top;\n",
       "    }\n",
       "\n",
       "    .dataframe thead th {\n",
       "        text-align: right;\n",
       "    }\n",
       "</style>\n",
       "<table border=\"1\" class=\"dataframe\">\n",
       "  <thead>\n",
       "    <tr style=\"text-align: right;\">\n",
       "      <th></th>\n",
       "      <th>0</th>\n",
       "      <th>1</th>\n",
       "    </tr>\n",
       "  </thead>\n",
       "  <tbody>\n",
       "    <tr>\n",
       "      <th>Privada com fins lucrativos</th>\n",
       "      <td>-0.371938</td>\n",
       "      <td>0.029163</td>\n",
       "    </tr>\n",
       "    <tr>\n",
       "      <th>Privada sem fins lucrativos</th>\n",
       "      <td>-0.072318</td>\n",
       "      <td>-0.058256</td>\n",
       "    </tr>\n",
       "    <tr>\n",
       "      <th>Pública Estadual</th>\n",
       "      <td>0.569708</td>\n",
       "      <td>0.040295</td>\n",
       "    </tr>\n",
       "    <tr>\n",
       "      <th>Pública Federal</th>\n",
       "      <td>0.821212</td>\n",
       "      <td>0.023723</td>\n",
       "    </tr>\n",
       "    <tr>\n",
       "      <th>Pública Municipal</th>\n",
       "      <td>-0.319626</td>\n",
       "      <td>0.327040</td>\n",
       "    </tr>\n",
       "  </tbody>\n",
       "</table>\n",
       "</div>"
      ],
      "text/plain": [
       "                                    0         1\n",
       "Privada com fins lucrativos -0.371938  0.029163\n",
       "Privada sem fins lucrativos -0.072318 -0.058256\n",
       "Pública Estadual             0.569708  0.040295\n",
       "Pública Federal              0.821212  0.023723\n",
       "Pública Municipal           -0.319626  0.327040"
      ]
     },
     "execution_count": 228,
     "metadata": {},
     "output_type": "execute_result"
    }
   ],
   "source": [
    "#%% Obtendo as coordenadas em linha \n",
    "ca.row_coordinates(tabela_contingencia1)"
   ]
  },
  {
   "cell_type": "code",
   "execution_count": 229,
   "id": "91459bb0-4e0c-444f-a353-e605aa75842b",
   "metadata": {},
   "outputs": [
    {
     "data": {
      "text/html": [
       "<div>\n",
       "<style scoped>\n",
       "    .dataframe tbody tr th:only-of-type {\n",
       "        vertical-align: middle;\n",
       "    }\n",
       "\n",
       "    .dataframe tbody tr th {\n",
       "        vertical-align: top;\n",
       "    }\n",
       "\n",
       "    .dataframe thead th {\n",
       "        text-align: right;\n",
       "    }\n",
       "</style>\n",
       "<table border=\"1\" class=\"dataframe\">\n",
       "  <thead>\n",
       "    <tr style=\"text-align: right;\">\n",
       "      <th></th>\n",
       "      <th>0</th>\n",
       "      <th>1</th>\n",
       "    </tr>\n",
       "  </thead>\n",
       "  <tbody>\n",
       "    <tr>\n",
       "      <th>1</th>\n",
       "      <td>-0.270346</td>\n",
       "      <td>0.186467</td>\n",
       "    </tr>\n",
       "    <tr>\n",
       "      <th>2</th>\n",
       "      <td>-0.390451</td>\n",
       "      <td>0.061302</td>\n",
       "    </tr>\n",
       "    <tr>\n",
       "      <th>3</th>\n",
       "      <td>-0.202450</td>\n",
       "      <td>-0.055000</td>\n",
       "    </tr>\n",
       "    <tr>\n",
       "      <th>4</th>\n",
       "      <td>0.499565</td>\n",
       "      <td>-0.028392</td>\n",
       "    </tr>\n",
       "    <tr>\n",
       "      <th>5</th>\n",
       "      <td>0.957013</td>\n",
       "      <td>0.112982</td>\n",
       "    </tr>\n",
       "  </tbody>\n",
       "</table>\n",
       "</div>"
      ],
      "text/plain": [
       "          0         1\n",
       "1 -0.270346  0.186467\n",
       "2 -0.390451  0.061302\n",
       "3 -0.202450 -0.055000\n",
       "4  0.499565 -0.028392\n",
       "5  0.957013  0.112982"
      ]
     },
     "execution_count": 229,
     "metadata": {},
     "output_type": "execute_result"
    }
   ],
   "source": [
    "#%% Obtendo as coordenadas em coluna\n",
    "\n",
    "ca.column_coordinates(tabela_contingencia1)"
   ]
  },
  {
   "cell_type": "code",
   "execution_count": 230,
   "id": "3146ff27-34e7-488d-b455-c2a761b6c7f9",
   "metadata": {},
   "outputs": [
    {
     "data": {
      "text/plain": [
       "[0.17696242892420685, 0.004543521778812156]"
      ]
     },
     "execution_count": 230,
     "metadata": {},
     "output_type": "execute_result"
    }
   ],
   "source": [
    "#%% Obtendo os eigenvalues\n",
    "\n",
    "ca.eigenvalues_\n"
   ]
  },
  {
   "cell_type": "code",
   "execution_count": 231,
   "id": "5ac9f6f0-eb39-4317-8014-1d69f5b3124f",
   "metadata": {},
   "outputs": [
    {
     "data": {
      "text/plain": [
       "0.18540239245608245"
      ]
     },
     "execution_count": 231,
     "metadata": {},
     "output_type": "execute_result"
    }
   ],
   "source": [
    "#%% Obtendo a inércia principal total\n",
    "\n",
    "# É a soma dos eigenvalues (também é a divisão: estat. qui² / N)\n",
    "# Quanto maior a inércia principal total, maior é a associação entre categorias\n",
    "\n",
    "ca.total_inertia_"
   ]
  },
  {
   "cell_type": "code",
   "execution_count": 232,
   "id": "0652af60-468e-4018-8d33-49c0b5653a1b",
   "metadata": {},
   "outputs": [
    {
     "data": {
      "text/plain": [
       "[0.9544775910382342, 0.024506273725072948]"
      ]
     },
     "execution_count": 232,
     "metadata": {},
     "output_type": "execute_result"
    }
   ],
   "source": [
    "#%% Inércia explicada por dimensão\n",
    "\n",
    "# Indica o percentual da a inércia principal total explicado por cada dimensão\n",
    "\n",
    "ca.explained_inertia_"
   ]
  },
  {
   "cell_type": "code",
   "execution_count": 233,
   "id": "d04dab37-2f0d-4391-b8fb-c3cb5d3b2a7e",
   "metadata": {},
   "outputs": [
    {
     "data": {
      "text/plain": [
       "Privada com fins lucrativos    0.338810\n",
       "Privada sem fins lucrativos    0.416667\n",
       "Pública Estadual               0.065238\n",
       "Pública Federal                0.154524\n",
       "Pública Municipal              0.024762\n",
       "dtype: float64"
      ]
     },
     "execution_count": 233,
     "metadata": {},
     "output_type": "execute_result"
    }
   ],
   "source": [
    "#%% Massas em linhas\n",
    "\n",
    "ca.row_masses_\n"
   ]
  },
  {
   "cell_type": "code",
   "execution_count": 234,
   "id": "2e9b6212-c94c-4e21-8eb0-7cd5f0cd125c",
   "metadata": {},
   "outputs": [
    {
     "data": {
      "text/plain": [
       "1    0.040476\n",
       "2    0.239762\n",
       "3    0.404524\n",
       "4    0.251905\n",
       "5    0.063333\n",
       "dtype: float64"
      ]
     },
     "execution_count": 234,
     "metadata": {},
     "output_type": "execute_result"
    }
   ],
   "source": [
    "#%% Massas em colunas\n",
    "\n",
    "ca.col_masses_"
   ]
  },
  {
   "cell_type": "code",
   "execution_count": 235,
   "id": "3a580362-51e8-4a7f-9756-be993eb417ce",
   "metadata": {},
   "outputs": [
    {
     "data": {
      "image/png": "[encoded data removed]",
      "text/plain": [
       "<Figure size 1000x1000 with 1 Axes>"
      ]
     },
     "metadata": {},
     "output_type": "display_data"
    }
   ],
   "source": [
    "ax = ca.plot_coordinates(X=tabela_contingencia1,\n",
    "                         ax=None,\n",
    "                         figsize=(10,10),\n",
    "                         x_component=0,\n",
    "                         y_component=1,\n",
    "                         show_row_labels=True,\n",
    "                         show_col_labels=True)\n"
   ]
  },
  {
   "cell_type": "markdown",
   "id": "bdb72a68-bc15-4790-89cc-2ec4d7b5846d",
   "metadata": {},
   "source": [
    "#### 2021"
   ]
  },
  {
   "cell_type": "code",
   "execution_count": 236,
   "id": "bbf924e6-5813-4d37-a6ac-1e7a5aa55136",
   "metadata": {},
   "outputs": [],
   "source": [
    "#%% Elaborando a ANACOR\n",
    "\n",
    "# Inicializando a instância da Anacor\n",
    "ca = prince.CA()"
   ]
  },
  {
   "cell_type": "code",
   "execution_count": 237,
   "id": "42c3f717-b00c-4659-8983-0ea1599bddad",
   "metadata": {},
   "outputs": [],
   "source": [
    "#%% Fit do modelo\n",
    "\n",
    "# Note que o input é a tabela de contingência criada antes\n",
    "\n",
    "ca = ca.fit(tabela_contingencia2)\n"
   ]
  },
  {
   "cell_type": "code",
   "execution_count": 238,
   "id": "90d86659-774d-4184-a857-cc53c3859b66",
   "metadata": {},
   "outputs": [
    {
     "data": {
      "text/html": [
       "<div>\n",
       "<style scoped>\n",
       "    .dataframe tbody tr th:only-of-type {\n",
       "        vertical-align: middle;\n",
       "    }\n",
       "\n",
       "    .dataframe tbody tr th {\n",
       "        vertical-align: top;\n",
       "    }\n",
       "\n",
       "    .dataframe thead th {\n",
       "        text-align: right;\n",
       "    }\n",
       "</style>\n",
       "<table border=\"1\" class=\"dataframe\">\n",
       "  <thead>\n",
       "    <tr style=\"text-align: right;\">\n",
       "      <th></th>\n",
       "      <th>0</th>\n",
       "      <th>1</th>\n",
       "    </tr>\n",
       "  </thead>\n",
       "  <tbody>\n",
       "    <tr>\n",
       "      <th>Privada com fins lucrativos</th>\n",
       "      <td>-0.325008</td>\n",
       "      <td>-0.002001</td>\n",
       "    </tr>\n",
       "    <tr>\n",
       "      <th>Privada sem fins lucrativos</th>\n",
       "      <td>-0.000468</td>\n",
       "      <td>-0.065418</td>\n",
       "    </tr>\n",
       "    <tr>\n",
       "      <th>Pública Estadual</th>\n",
       "      <td>-0.003054</td>\n",
       "      <td>-0.002425</td>\n",
       "    </tr>\n",
       "    <tr>\n",
       "      <th>Pública Federal</th>\n",
       "      <td>0.373504</td>\n",
       "      <td>0.028100</td>\n",
       "    </tr>\n",
       "    <tr>\n",
       "      <th>Pública Municipal</th>\n",
       "      <td>-0.383985</td>\n",
       "      <td>0.403869</td>\n",
       "    </tr>\n",
       "  </tbody>\n",
       "</table>\n",
       "</div>"
      ],
      "text/plain": [
       "                                    0         1\n",
       "Privada com fins lucrativos -0.325008 -0.002001\n",
       "Privada sem fins lucrativos -0.000468 -0.065418\n",
       "Pública Estadual            -0.003054 -0.002425\n",
       "Pública Federal              0.373504  0.028100\n",
       "Pública Municipal           -0.383985  0.403869"
      ]
     },
     "execution_count": 238,
     "metadata": {},
     "output_type": "execute_result"
    }
   ],
   "source": [
    "#%% Obtendo as coordenadas em linha \n",
    "ca.row_coordinates(tabela_contingencia2)"
   ]
  },
  {
   "cell_type": "code",
   "execution_count": 239,
   "id": "836bf46e-d7cf-42f9-8074-cda00da4c89a",
   "metadata": {},
   "outputs": [
    {
     "data": {
      "text/html": [
       "<div>\n",
       "<style scoped>\n",
       "    .dataframe tbody tr th:only-of-type {\n",
       "        vertical-align: middle;\n",
       "    }\n",
       "\n",
       "    .dataframe tbody tr th {\n",
       "        vertical-align: top;\n",
       "    }\n",
       "\n",
       "    .dataframe thead th {\n",
       "        text-align: right;\n",
       "    }\n",
       "</style>\n",
       "<table border=\"1\" class=\"dataframe\">\n",
       "  <thead>\n",
       "    <tr style=\"text-align: right;\">\n",
       "      <th></th>\n",
       "      <th>0</th>\n",
       "      <th>1</th>\n",
       "    </tr>\n",
       "  </thead>\n",
       "  <tbody>\n",
       "    <tr>\n",
       "      <th>1</th>\n",
       "      <td>-0.382389</td>\n",
       "      <td>0.245455</td>\n",
       "    </tr>\n",
       "    <tr>\n",
       "      <th>2</th>\n",
       "      <td>-0.232472</td>\n",
       "      <td>0.024246</td>\n",
       "    </tr>\n",
       "    <tr>\n",
       "      <th>3</th>\n",
       "      <td>-0.072464</td>\n",
       "      <td>-0.059485</td>\n",
       "    </tr>\n",
       "    <tr>\n",
       "      <th>4</th>\n",
       "      <td>0.340207</td>\n",
       "      <td>0.005511</td>\n",
       "    </tr>\n",
       "    <tr>\n",
       "      <th>5</th>\n",
       "      <td>0.670903</td>\n",
       "      <td>0.090448</td>\n",
       "    </tr>\n",
       "  </tbody>\n",
       "</table>\n",
       "</div>"
      ],
      "text/plain": [
       "          0         1\n",
       "1 -0.382389  0.245455\n",
       "2 -0.232472  0.024246\n",
       "3 -0.072464 -0.059485\n",
       "4  0.340207  0.005511\n",
       "5  0.670903  0.090448"
      ]
     },
     "execution_count": 239,
     "metadata": {},
     "output_type": "execute_result"
    }
   ],
   "source": [
    "#%% Obtendo as coordenadas em coluna\n",
    "\n",
    "ca.column_coordinates(tabela_contingencia2)"
   ]
  },
  {
   "cell_type": "code",
   "execution_count": 240,
   "id": "77882e5a-6d26-4479-8861-3a1cee9448ae",
   "metadata": {},
   "outputs": [
    {
     "data": {
      "text/plain": [
       "[0.07439543633887546, 0.004577108927794154]"
      ]
     },
     "execution_count": 240,
     "metadata": {},
     "output_type": "execute_result"
    }
   ],
   "source": [
    "#%% Obtendo os eigenvalues\n",
    "\n",
    "ca.eigenvalues_\n"
   ]
  },
  {
   "cell_type": "code",
   "execution_count": 241,
   "id": "7fae36e5-4488-4fb5-847d-9541dc6bfbf6",
   "metadata": {},
   "outputs": [
    {
     "data": {
      "text/plain": [
       "0.07987592240674754"
      ]
     },
     "execution_count": 241,
     "metadata": {},
     "output_type": "execute_result"
    }
   ],
   "source": [
    "#%% Obtendo a inércia principal total\n",
    "\n",
    "# É a soma dos eigenvalues (também é a divisão: estat. qui² / N)\n",
    "# Quanto maior a inércia principal total, maior é a associação entre categorias\n",
    "\n",
    "ca.total_inertia_"
   ]
  },
  {
   "cell_type": "code",
   "execution_count": 242,
   "id": "882e641e-14b2-4455-9c74-0119aea89b8f",
   "metadata": {},
   "outputs": [
    {
     "data": {
      "text/plain": [
       "[0.9313875082410428, 0.05730273641769552]"
      ]
     },
     "execution_count": 242,
     "metadata": {},
     "output_type": "execute_result"
    }
   ],
   "source": [
    "#%% Inércia explicada por dimensão\n",
    "\n",
    "# Indica o percentual da a inércia principal total explicado por cada dimensão\n",
    "\n",
    "ca.explained_inertia_"
   ]
  },
  {
   "cell_type": "code",
   "execution_count": 243,
   "id": "25274963-d2e0-486e-9ca6-646446e467a9",
   "metadata": {},
   "outputs": [
    {
     "data": {
      "text/plain": [
       "Privada com fins lucrativos    0.300387\n",
       "Privada sem fins lucrativos    0.233693\n",
       "Pública Estadual               0.161265\n",
       "Pública Federal                0.284114\n",
       "Pública Municipal              0.020542\n",
       "dtype: float64"
      ]
     },
     "execution_count": 243,
     "metadata": {},
     "output_type": "execute_result"
    }
   ],
   "source": [
    "#%% Massas em linhas\n",
    "\n",
    "ca.row_masses_\n"
   ]
  },
  {
   "cell_type": "code",
   "execution_count": 244,
   "id": "05f8f1a6-eb5c-4d04-844d-a4c9cd007b88",
   "metadata": {},
   "outputs": [
    {
     "data": {
      "text/plain": [
       "1    0.042017\n",
       "2    0.287715\n",
       "3    0.397092\n",
       "4    0.216353\n",
       "5    0.056823\n",
       "dtype: float64"
      ]
     },
     "execution_count": 244,
     "metadata": {},
     "output_type": "execute_result"
    }
   ],
   "source": [
    "#%% Massas em colunas\n",
    "\n",
    "ca.col_masses_"
   ]
  },
  {
   "cell_type": "code",
   "execution_count": 245,
   "id": "b764131b-73e5-4f40-b613-890671dc75ee",
   "metadata": {},
   "outputs": [
    {
     "data": {
      "image/png": "[encoded data removed]",
      "text/plain": [
       "<Figure size 1000x1000 with 1 Axes>"
      ]
     },
     "metadata": {},
     "output_type": "display_data"
    }
   ],
   "source": [
    "ax = ca.plot_coordinates(X=tabela_contingencia2,\n",
    "                         ax=None,\n",
    "                         figsize=(10,10),\n",
    "                         x_component=0,\n",
    "                         y_component=1,\n",
    "                         show_row_labels=True,\n",
    "                         show_col_labels=True)\n"
   ]
  }
 ],
 "metadata": {
  "kernelspec": {
   "display_name": "Python 3 (ipykernel)",
   "language": "python",
   "name": "python3"
  },
  "language_info": {
   "codemirror_mode": {
    "name": "ipython",
    "version": 3
   },
   "file_extension": ".py",
   "mimetype": "text/x-python",
   "name": "python",
   "nbconvert_exporter": "python",
   "pygments_lexer": "ipython3",
   "version": "3.9.13"
  }
 },
 "nbformat": 4,
 "nbformat_minor": 5
}
