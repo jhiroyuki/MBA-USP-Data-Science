{
 "cells": [
  {
   "cell_type": "markdown",
   "id": "8d8094c4-e8bb-45f8-9807-b53590f4e2fe",
   "metadata": {},
   "source": [
    "# 1. Aspectos gerais do Spark"
   ]
  },
  {
   "cell_type": "code",
   "execution_count": 1,
   "id": "c72b3d69-a51b-4875-acfb-2acc9e716a22",
   "metadata": {},
   "outputs": [],
   "source": [
    "# Importação de pacotes\n",
    "import pandas as pd\n",
    "from pyspark.sql import SparkSession\n",
    "\n",
    "# Esta parte do código serve para que não dê erro no Jupyter Notebook\n",
    "import os\n",
    "import sys\n",
    "os.environ['PYSPARK_PYTHON'] = sys.executable\n",
    "os.environ['PYSPARK_DRIVER_PYTHON'] = sys.executable"
   ]
  },
  {
   "cell_type": "code",
   "execution_count": null,
   "id": "ca93c87c-340b-4988-9de2-5f8b226b9118",
   "metadata": {},
   "outputs": [],
   "source": [
    "# Conectar ao cluster Spark local\n",
    "spark = SparkSession.builder \\\n",
    "    .appName(\"MyApp\") \\\n",
    "    .master(\"local\") \\\n",
    "    .getOrCreate()"
   ]
  },
  {
   "cell_type": "markdown",
   "id": "cca2b9a1-f315-440f-bc59-fdf6413d830f",
   "metadata": {},
   "source": [
    "## 1.1. Leitura dos dados"
   ]
  },
  {
   "cell_type": "code",
   "execution_count": null,
   "id": "ffecd225-bfbf-4636-a164-72148bead91f",
   "metadata": {},
   "outputs": [],
   "source": [
    "# =================================================================================================================\n",
    "# UTILIZANDO O SPARK PARA LER UM ARQUIVO COM GRANDE VOLUME DE DADOS\n",
    "# =================================================================================================================\n",
    "\n",
    "# CONHECENDO NOSSOS DADOS\n",
    "# fonte: https://www.kaggle.com/datasets/yuanyuwendymu/airline-delay-and-cancellation-data-2009-2018?resource=download&select=2017.csv\n",
    "# Airline Delay and Cancellation Data, 2009 - 2018\n",
    "# pasta datasets -> dois arquivos -> 1 de aproximadamente 700MB e outro de aproximadamente 476MB\n",
    "\n",
    "# Carregando o primeiro dataset da base de dados de voos de avioes\n",
    "df_2017 = spark.read.csv(\"datasets/voos-avioes/2017.csv\", header=True, inferSchema=True)"
   ]
  },
  {
   "cell_type": "markdown",
   "id": "c9bc35ca-c349-4144-8b88-be2f02473395",
   "metadata": {},
   "source": [
    "## 1.2.Visualização dos dados"
   ]
  },
  {
   "cell_type": "code",
   "execution_count": null,
   "id": "776a1a6f-9104-4215-96ac-82141a1c93f6",
   "metadata": {},
   "outputs": [],
   "source": [
    "# Dando uma olhada nos dados no DataFrame\n",
    "# Com vertical = False os dados ficam ruim para ler e não é direto a representação como um Pandas Dataframe\n",
    "df_2017.show(2, vertical = True)"
   ]
  },
  {
   "cell_type": "code",
   "execution_count": null,
   "id": "ddf0c56b-448e-4c08-b9c5-53fea3d2a933",
   "metadata": {},
   "outputs": [],
   "source": [
    "# Desta forma podemos dar uma olhada nos dados vomo um Dataframe no Pandas\n",
    "pd.set_option('display.max_columns', None) # mostrar todas as colunas\n",
    "pd.set_option('display.max_rows', None) # mostrar todas as linhas\n",
    "df_2017.limit(10).toPandas()"
   ]
  },
  {
   "cell_type": "markdown",
   "id": "b6729dcd-aa83-42b5-baa6-7625540098ca",
   "metadata": {},
   "source": [
    "## 1.3. Contagem de linhas"
   ]
  },
  {
   "cell_type": "code",
   "execution_count": null,
   "id": "ff640422-40b7-425b-96d2-560096d0b61e",
   "metadata": {},
   "outputs": [],
   "source": [
    "# Contagem do número de linhas do Dataframe no Spark\n",
    "row_count = df_2017.count()\n",
    "print(\"Number of rows:\", row_count)"
   ]
  },
  {
   "cell_type": "markdown",
   "id": "e4f3fa54-1aaf-48ef-9a85-cafff8e8e01e",
   "metadata": {},
   "source": [
    "## 1.4. Filtragem de dados"
   ]
  },
  {
   "cell_type": "code",
   "execution_count": null,
   "id": "6fb13ece-ad18-4d3f-92ea-85dd8b8d0832",
   "metadata": {},
   "outputs": [],
   "source": [
    "# Quando um dataset é lido pelo spark, ele é carregado de forma distribuída na memória\n",
    "# elas ainda não foram entregues para o driver (Jupyter), essas são as operações de\n",
    "# de transformações de dados\n",
    "\n",
    "# Filtrar dados por uma determianda condição\n",
    "cancelados_2017 = df_2017.filter(df_2017['CANCELLED'] ==1 )  \n",
    "\n",
    "# As operaçoes de manipulações são feitas distruídas e com execução realizada quando uma ação é chamada\n",
    "# ação: mostrar os dados\n",
    "\n",
    "cancelados_2017.limit(10).toPandas()\n"
   ]
  },
  {
   "cell_type": "code",
   "execution_count": null,
   "id": "c4bd2dc2-7961-42c6-83db-c6757f56d288",
   "metadata": {},
   "outputs": [],
   "source": [
    "# Transformação de dados:\n",
    "# leitura\n",
    "# seleção\n",
    "# agrupamento\n",
    "# filtros\n",
    "# ordenação\n",
    "# joins\n",
    "\n",
    "# Ações:\n",
    "# trazer os dados para o Jupyter\n",
    "# contagem\n",
    "# salvar\n",
    "# mostrar os dados\n",
    "\n",
    "# Podemos fazer a filtragem usando a função where\n",
    "cancelados_2017 = df_2017.where(df_2017['CANCELLED'] ==1 )\n",
    "cancelados_2017.limit(10).toPandas()"
   ]
  },
  {
   "cell_type": "markdown",
   "id": "f5316441-c4d4-4156-b73e-6a74cd3f9a87",
   "metadata": {},
   "source": [
    "## 1.5. Operações sobre dados"
   ]
  },
  {
   "cell_type": "code",
   "execution_count": null,
   "id": "2f91aeab-c880-4d3b-9293-fcd99c3c48c0",
   "metadata": {},
   "outputs": [],
   "source": [
    "# Queremos criar uma variável que sinaliza que o voo esta atrasado quando \n",
    "# o tempo de atraso na chegada for maior que 15 minutos\n",
    "\n",
    "# withColumn é usada para adicionar ou substituir uma coluna em um DataFrame.\n",
    "# Ela permite criar um novo DataFrame adicionando uma nova coluna com base em uma coluna existente \n",
    "#ou em um valor calculado.\n",
    "from pyspark.sql.functions import isnan, when\n",
    "import math\n",
    "df_2017 = df_2017.withColumn('ATRASADO', when(df_2017['ARR_DELAY'] >= 15, 1)\n",
    "                  .when(df_2017['ARR_DELAY'] < 15, 0)\n",
    "                  .otherwise(float('nan')))\n",
    "\n",
    "df_2017.limit(10).toPandas()"
   ]
  },
  {
   "cell_type": "code",
   "execution_count": null,
   "id": "6e368f29-2492-4c26-a781-22d9279fa21a",
   "metadata": {},
   "outputs": [],
   "source": [
    "# Façamos agora um exemplo de uma operação de transformação e guardar os dados em uma variável.\n",
    "# Queremos fazer uma contagem da quantidade de voos atrasados, não atrasados e cancelados, \n",
    "# com suas respectivas proporçõs\n",
    "\n",
    "# A classe Window define uma janela de análise que especifica quais linhas do DataFrame devem \n",
    "# ser incluídas em um cálculo de função de janela.\n",
    "# No código abaixo, a função sum('QUANTIDADE').over(Window.partitionBy()) é usada\n",
    "# para calcular a soma da coluna 'QUANTIDADE' em todas as linhas do DataFrame, sem particionar\n",
    "# em grupos. Isso significa que a soma total de 'QUANTIDADE' é calculada para todas as linhas do DataFrame.\n",
    "\n",
    "from pyspark.sql.functions import col, count, sum\n",
    "from pyspark.sql.window import Window\n",
    "group_atrasados_2017 = df_2017 \\\n",
    "    .groupBy('ATRASADO') \\\n",
    "    .agg(count('*').alias('QUANTIDADE')) \\\n",
    "    .withColumn('PORCENTAGEM', col('QUANTIDADE') / sum('QUANTIDADE').over(Window.partitionBy()) * 100)\n",
    "\n",
    "\n",
    "\n",
    "group_atrasados_2017.toPandas()"
   ]
  },
  {
   "cell_type": "markdown",
   "id": "817a9a1b-b2e0-4305-8dff-ef80acab4269",
   "metadata": {},
   "source": [
    "## 1.6. Spark para Python"
   ]
  },
  {
   "cell_type": "code",
   "execution_count": null,
   "id": "68b70be6-4b9a-480d-b1cc-298b12aaef99",
   "metadata": {},
   "outputs": [],
   "source": [
    "# O dataframe spark pode ser transferido da memória do python e transformado em um dataframe do python em forma de array com \n",
    "# a função collect nessa operação, os dados distribuídos vão todos para o driver na aplicação \n",
    "# e faz a transformação\n",
    "group_atrasados_2017_py =group_atrasados_2017.collect()\n",
    "group_atrasados_2017_pd = pd.DataFrame(group_atrasados_2017_py, columns = group_atrasados_2017.columns)\n",
    "group_atrasados_2017_pd"
   ]
  },
  {
   "cell_type": "code",
   "execution_count": null,
   "id": "b2302ce0-9a92-48d4-9f2b-0dba01c1c343",
   "metadata": {},
   "outputs": [],
   "source": [
    "# Verificando diferença entre quantidade de voos atrasados e voos não atrasados de 2017\n",
    "\n",
    "import matplotlib.pyplot as plt\n",
    "\n",
    "fig, ax = plt.subplots()\n",
    "\n",
    "group_atrasados_2017_pd['ATRASADO'] = group_atrasados_2017_pd['ATRASADO'].astype(str)\n",
    "xtick_labels = group_atrasados_2017_pd['ATRASADO']\n",
    "# Create the bar plot\n",
    "ax.bar(group_atrasados_2017_pd['ATRASADO'], group_atrasados_2017_pd['QUANTIDADE'], color='steelblue', tick_label=xtick_labels)\n",
    "\n",
    "# Adding labels to the bars\n",
    "for i in range(len(xtick_labels)):\n",
    "    plt.text(xtick_labels[i], group_atrasados_2017_pd['QUANTIDADE'][i], str(group_atrasados_2017_pd['QUANTIDADE'][i]), ha='center', va='bottom')\n",
    "\n",
    "\n",
    "# Set the x and y axis labels\n",
    "ax.set_xlabel('Voos atrasados')\n",
    "ax.set_ylabel('Quantidade')\n",
    "\n",
    "# Set the plot title\n",
    "ax.set_title('Quantidade de voos atrasados em 2017')\n",
    "\n",
    "# Remove spines and ticks\n",
    "ax.spines['top'].set_visible(False)\n",
    "ax.spines['right'].set_visible(False)\n",
    "ax.spines['left'].set_visible(False)\n",
    "ax.spines['bottom'].set_visible(False)\n",
    "ax.tick_params(axis='both', length=0)\n",
    "\n",
    "\n",
    "# Show the plot\n",
    "plt.show()"
   ]
  },
  {
   "cell_type": "code",
   "execution_count": null,
   "id": "2a256793-2fa2-478c-bd70-fc83cd70a737",
   "metadata": {},
   "outputs": [],
   "source": [
    "# Verificando os missing values\n",
    "df_nan = df_2017.filter(df_2017['ATRASADO'] == float('nan'))\n",
    "df_nan.limit(10).toPandas()"
   ]
  },
  {
   "cell_type": "markdown",
   "id": "b1cf4879-eb97-4be9-9166-ddb2cde3522a",
   "metadata": {},
   "source": [
    "## 1.7. Python para Spark"
   ]
  },
  {
   "cell_type": "code",
   "execution_count": null,
   "id": "ae33e6e6-9cfc-4f12-b08d-7587f24e0add",
   "metadata": {},
   "outputs": [],
   "source": [
    "# Levando o dataframe python para o cluster spark\n",
    "schema =  group_atrasados_2017.columns\n",
    "group_atrasados_2017_spark = spark.createDataFrame(group_atrasados_2017_py, schema)\n",
    "\n",
    "group_atrasados_2017_spark.toPandas()"
   ]
  },
  {
   "cell_type": "code",
   "execution_count": null,
   "id": "52b3589e-a27b-427d-a3e3-06d18592fa3f",
   "metadata": {},
   "outputs": [],
   "source": [
    "# Agora vamos fazer as mesmas coisas que fizemos anteriormente para a base de dados de 2018\n",
    "df_2018 = spark.read.csv(\"datasets/voos-avioes/2018.csv\", header=True, inferSchema=True)"
   ]
  },
  {
   "cell_type": "code",
   "execution_count": null,
   "id": "90ee3a28-4945-4b03-b72f-08c448fb259a",
   "metadata": {},
   "outputs": [],
   "source": [
    "cancelados_2018 = df_2018.filter(df_2018['CANCELLED'] ==1 )  \n",
    "df_2018 = df_2018.withColumn('ATRASADO', when(df_2018['ARR_DELAY'] >= 15, 1)\n",
    "                  .when(df_2018['ARR_DELAY'] < 15, 0)\n",
    "                  .otherwise(float('nan')))\n",
    "\n"
   ]
  },
  {
   "cell_type": "code",
   "execution_count": null,
   "id": "d6c917e4-48b0-41d1-b38d-6f54f76e3e88",
   "metadata": {},
   "outputs": [],
   "source": [
    "group_atradados_2018 = df_2018 \\\n",
    "    .groupBy('ATRASADO') \\\n",
    "    .agg(count('*').alias('QUANTIDADE')) \\\n",
    "    .withColumn('PORCENTAGEM', col('QUANTIDADE') / sum('QUANTIDADE').over(Window.partitionBy()) * 100)\n",
    "\n",
    "\n",
    "group_atradados_2018.toPandas()"
   ]
  },
  {
   "cell_type": "code",
   "execution_count": null,
   "id": "d30065f3-f833-4bf6-850f-936e40f26cdf",
   "metadata": {},
   "outputs": [],
   "source": [
    "group_atradados_2018_py =group_atradados_2018.collect()\n",
    "group_atradados_2018_pd = pd.DataFrame(group_atradados_2018_py, columns = group_atradados_2018.columns)\n",
    "group_atradados_2018_pd"
   ]
  },
  {
   "cell_type": "code",
   "execution_count": null,
   "id": "1ddce58d-9617-4c61-8bf4-f5faced773ad",
   "metadata": {},
   "outputs": [],
   "source": [
    "import matplotlib.pyplot as plt\n",
    "\n",
    "fig, ax = plt.subplots()\n",
    "\n",
    "group_atradados_2018_pd['ATRASADO'] = group_atradados_2018_pd['ATRASADO'].astype(str)\n",
    "xtick_labels = group_atradados_2018_pd['ATRASADO']\n",
    "# Create the bar plot\n",
    "ax.bar(group_atradados_2018_pd['ATRASADO'], group_atradados_2018_pd['QUANTIDADE'], color='steelblue', tick_label=xtick_labels)\n",
    "\n",
    "# Adding labels to the bars\n",
    "for i in range(len(xtick_labels)):\n",
    "    plt.text(xtick_labels[i], group_atradados_2018_pd['QUANTIDADE'][i], str(group_atradados_2018_pd['QUANTIDADE'][i]), ha='center', va='bottom')\n",
    "\n",
    "\n",
    "# Set the x and y axis labels\n",
    "ax.set_xlabel('Voos atrasados')\n",
    "ax.set_ylabel('Quantidade')\n",
    "\n",
    "# Set the plot title\n",
    "ax.set_title('Quantidade de voos atrasados em 2018')\n",
    "\n",
    "# Remove spines and ticks\n",
    "ax.spines['top'].set_visible(False)\n",
    "ax.spines['right'].set_visible(False)\n",
    "ax.spines['left'].set_visible(False)\n",
    "ax.spines['bottom'].set_visible(False)\n",
    "ax.tick_params(axis='both', length=0)\n",
    "\n",
    "\n",
    "# Show the plot\n",
    "plt.show()"
   ]
  },
  {
   "cell_type": "code",
   "execution_count": null,
   "id": "0e52c324-e293-4503-a281-b17be180d12b",
   "metadata": {},
   "outputs": [],
   "source": [
    "# Juntando os dataframes\n",
    "df_all = df_2017.unionAll(df_2018)\n",
    "df_all.limit(10).toPandas()"
   ]
  },
  {
   "cell_type": "code",
   "execution_count": null,
   "id": "cd0d3d82-b914-4e53-9487-594151d09de6",
   "metadata": {},
   "outputs": [],
   "source": [
    "# Número total de linhas\n",
    "row_count = df_all.count()\n",
    "print(\"Number of rows:\", row_count)"
   ]
  },
  {
   "cell_type": "code",
   "execution_count": null,
   "id": "9e8e3eed-ae70-4b5e-9c8f-3da68fecf49e",
   "metadata": {},
   "outputs": [],
   "source": [
    "# Estrategia para calcular quantidade de linhas em dataset gigantescos\n",
    "# criar um objeto de fração com valor bem pequeno (Ex. 1% dos dados)\n",
    "fracao_contagem = 0.01\n",
    "# Coleta uma pequena amostra do dataset completo\n",
    "pequena_amostra = df_all.sample(withReplacement=True, fraction=fracao_contagem, seed=42)\n",
    "# Contagem de linhas do dataset\n",
    "row_count = pequena_amostra.count()\n",
    "print(\"Number of rows:\", row_count)"
   ]
  },
  {
   "cell_type": "code",
   "execution_count": null,
   "id": "4c9e96ea-96be-4f95-824d-11ccff61d784",
   "metadata": {},
   "outputs": [],
   "source": [
    "# Aproximacao contagem\n",
    "row_count/fracao_contagem"
   ]
  },
  {
   "cell_type": "markdown",
   "id": "e0149add-ba0d-42c9-9209-816ae5ca809f",
   "metadata": {},
   "source": [
    "## 1.8. Parquet"
   ]
  },
  {
   "cell_type": "code",
   "execution_count": null,
   "id": "5d0c4ae7-cfe6-4b4b-b36c-62dda91fab50",
   "metadata": {},
   "outputs": [],
   "source": [
    "\n",
    "\n",
    "df_all.write.mode(\"overwrite\").parquet(\"datasets/voos-avioes.parquet\")"
   ]
  },
  {
   "cell_type": "code",
   "execution_count": null,
   "id": "e6006169-1f97-4be8-8344-a76a7baaa172",
   "metadata": {},
   "outputs": [],
   "source": [
    "\n",
    "\n",
    "df_all_parquet = spark.read.parquet(\"datasets/voos-avioes.parquet\")\n",
    "df_all_parquet.limit(10).toPandas()"
   ]
  },
  {
   "cell_type": "code",
   "execution_count": null,
   "id": "a5fb4f63-346f-4e09-9cf7-1e0970669a11",
   "metadata": {},
   "outputs": [],
   "source": [
    "# Número total de linhas\n",
    "row_count = df_all_parquet.count()\n",
    "print(\"Number of rows:\", row_count)"
   ]
  },
  {
   "cell_type": "code",
   "execution_count": null,
   "id": "c40410a2-d87a-4264-be08-5e5c430c7e0c",
   "metadata": {},
   "outputs": [],
   "source": [
    "from pyspark.sql.functions import year, col\n",
    "\n",
    "df_all_parquet = df_all_parquet.withColumn(\"ANO\", year(col(\"FL_DATE\")).cast(\"string\"))\n",
    "\n",
    "df_all_parquet.limit(10).toPandas()\n"
   ]
  },
  {
   "cell_type": "code",
   "execution_count": null,
   "id": "8883044a-8dad-4771-81f5-e32f54c943f5",
   "metadata": {},
   "outputs": [],
   "source": [
    "\n",
    "df_all_parquet.write.partitionBy(\"ANO\").parquet(\"datasets/voos-avioes-ano.parquet\", mode=\"overwrite\")\n",
    "\n"
   ]
  },
  {
   "cell_type": "code",
   "execution_count": null,
   "id": "66bb1709-d549-4b7c-8c80-f4f213068754",
   "metadata": {},
   "outputs": [],
   "source": [
    "from pyspark.sql.functions import month\n",
    "\n",
    "df_all_parquet = df_all_parquet.withColumn(\"MES\", month(\"FL_DATE\").cast(\"string\"))"
   ]
  },
  {
   "cell_type": "code",
   "execution_count": null,
   "id": "aec819e2-5f40-4f09-97ba-83ae30bfe127",
   "metadata": {},
   "outputs": [],
   "source": [
    "\n",
    "df_all_parquet.write.partitionBy([\"ANO\", \"MES\"]).parquet(\"datasets/voos-avioes-ano-mes.parquet\", mode=\"overwrite\")\n",
    "\n"
   ]
  },
  {
   "cell_type": "markdown",
   "id": "ec0768e0-d554-47db-8bd2-5faff45fc065",
   "metadata": {},
   "source": [
    "# 2. Regressão Linear"
   ]
  },
  {
   "cell_type": "markdown",
   "id": "b4c2ff89-1d47-4ec2-b294-6b0f8fcb283d",
   "metadata": {},
   "source": [
    "## 2.1. Selecionar dados"
   ]
  },
  {
   "cell_type": "code",
   "execution_count": null,
   "id": "68d31036-ec87-483f-9f5b-ab6b834fd0a1",
   "metadata": {},
   "outputs": [],
   "source": [
    "# Modelos de regressao linear\n",
    "\n",
    "# Objetivo 1: \n",
    "# Desenvolver um modelo para calcular tempo decorrido real em relacao a distancia percorrida\n",
    "# o mais simples possivel\n",
    "\n",
    "# Selecionando apenas as colunas que sao importantes para o modelo\n",
    "dados_selecionados = df_all.select(\"ACTUAL_ELAPSED_TIME\", \"DISTANCE\")\n",
    "\n",
    "# Retirar missing values do dataset caso existam\n",
    "dados_selecionados = dados_selecionados.na.drop()\n"
   ]
  },
  {
   "cell_type": "markdown",
   "id": "63c65900-5d9b-47fc-abca-a384e1d7d00c",
   "metadata": {},
   "source": [
    "## 2.2. Análise de correlação"
   ]
  },
  {
   "cell_type": "code",
   "execution_count": null,
   "id": "5fea57e7-43e4-4750-bb04-bc0c32942a66",
   "metadata": {},
   "outputs": [],
   "source": [
    "# Análise de correlação\n",
    "\n",
    "# O VectorAssembler é uma classe no PySpark usada para transformar um conjunto de colunas em uma\n",
    "# única coluna vetorizada. Ele é frequentemente usado para preparar dados antes de alimentá-los em \n",
    "# algoritmos de aprendizado de máquina que esperam vetores de recursos como entrada.\n",
    "# A função principal do VectorAssembler é combinar várias colunas em um único vetor, onde cada coluna\n",
    "# é tratada como uma dimensão do vetor resultante. Ele cria uma nova coluna que contém o vetor resultante.\n",
    "# Isso é útil quando você tem várias colunas de recursos independentes e deseja concatená-las em um único \n",
    "# vetor para usar em algoritmos de machine learning.\n",
    "\n",
    "from pyspark.ml.stat import Correlation\n",
    "from pyspark.ml.feature import VectorAssembler\n",
    "\n",
    "# Selecionar as colunas para a análise de correlação\n",
    "selected_columns = [\"ACTUAL_ELAPSED_TIME\", \"DISTANCE\"]\n",
    "\n",
    "# Criar Vector Assembler\n",
    "assembler = VectorAssembler(inputCols=selected_columns, outputCol=\"features\")\n",
    "data = assembler.transform(dados_selecionados).select(\"features\")\n",
    "\n",
    "# Calcular a matriz de correlação\n",
    "corr_matrix = Correlation.corr(data, \"features\", method=\"pearson\").head()\n",
    "\n",
    "# Extract the correlation matrix as a 2D array\n",
    "corr_array = corr_matrix[0].toArray()"
   ]
  },
  {
   "cell_type": "code",
   "execution_count": null,
   "id": "7edb8492-ce90-4631-bfde-a1bf1b75c634",
   "metadata": {},
   "outputs": [],
   "source": [
    "corr_array"
   ]
  },
  {
   "cell_type": "markdown",
   "id": "4bac4398-a2a7-4f61-9cea-3968d70d7ce3",
   "metadata": {},
   "source": [
    "## 2.3. Visualização dos dados"
   ]
  },
  {
   "cell_type": "code",
   "execution_count": null,
   "id": "1972f77c-78c4-4856-af6d-f97eb6d089fe",
   "metadata": {},
   "outputs": [],
   "source": [
    "# Criar um objeto de fração com valor bem pequeno (Ex. 1% dos dados)\n",
    "fracao_contagem = 0.01\n",
    "# Coleta uma pequena amostra do dataset completo\n",
    "pequena_amostra = dados_selecionados.sample(withReplacement=True, fraction=fracao_contagem, seed=42)\n",
    "pequena_amostra_pd = pequena_amostra.toPandas()\n",
    "import matplotlib.pyplot as plt\n",
    "import seaborn as sns\n",
    "\n",
    "# Verificando a correlacao das duas variaveis no grafico de dispersao\n",
    "sns.set_style(\"whitegrid\")\n",
    "sns.scatterplot(x=\"DISTANCE\", y=\"ACTUAL_ELAPSED_TIME\", data=pequena_amostra_pd, alpha=0.1)\n",
    "sns.regplot(x=\"DISTANCE\", y=\"ACTUAL_ELAPSED_TIME\", data=pequena_amostra_pd, color=\"red\", scatter=False)\n",
    "\n",
    "plt.xlabel(\"Distancia percorrida\")\n",
    "plt.ylabel(\"Tempo total decorrido\")\n",
    "\n",
    "plt.show()"
   ]
  },
  {
   "cell_type": "markdown",
   "id": "4ceda39f-0635-4483-a036-12dd6f80603e",
   "metadata": {},
   "source": [
    "## 2.4. Modelo"
   ]
  },
  {
   "cell_type": "code",
   "execution_count": null,
   "id": "73bac72d-d65e-4062-a8e9-1d96fa3b3211",
   "metadata": {},
   "outputs": [],
   "source": [
    "# Realizando o fit do modelo\n",
    "from pyspark.ml.regression import GeneralizedLinearRegression\n",
    "\n",
    "# Criar Vector Assembler\n",
    "assembler = VectorAssembler(inputCols=[\"DISTANCE\"], outputCol=\"features\")\n",
    "data = assembler.transform(dados_selecionados)\n",
    "\n",
    "# Definindo o modelo \n",
    "model = GeneralizedLinearRegression(labelCol=\"ACTUAL_ELAPSED_TIME\", featuresCol=\"features\")\n",
    "\n",
    "# Fit do modelo\n",
    "modelo_linear = model.fit(data)"
   ]
  },
  {
   "cell_type": "code",
   "execution_count": null,
   "id": "251f3dbe-526e-4a32-ab1c-3a3aeab89763",
   "metadata": {},
   "outputs": [],
   "source": [
    "summary = modelo_linear.summary\n",
    "summary"
   ]
  },
  {
   "cell_type": "code",
   "execution_count": null,
   "id": "b2eaaba2-5c37-43e8-acc0-b43bbe3d11ea",
   "metadata": {},
   "outputs": [],
   "source": [
    "# Print the coefficients and other model statistics\n",
    "print(\"Intercept: \" + str(modelo_linear.intercept))\n",
    "print(\"Coefficients: \" + str(modelo_linear.coefficients))\n",
    "print(\"Coefficient Standard Errors: \" + str(summary.coefficientStandardErrors))\n",
    "print(\"T Values: \" + str(summary.tValues))\n",
    "print(\"P Values: \" + str(summary.pValues))\n",
    "print(\"Dispersion: \" + str(summary.dispersion))\n",
    "print(\"Null Deviance: \" + str(summary.nullDeviance))\n",
    "print(\"Residual Degree of Freedom Null: \" + str(summary.residualDegreeOfFreedomNull))\n",
    "print(\"Deviance: \" + str(summary.deviance))\n",
    "print(\"Residual Degree of Freedom: \" + str(summary.residualDegreeOfFreedom))\n",
    "print(\"AIC: \" + str(summary.aic))\n",
    "print(\"Deviance Residuals: \")\n",
    "summary.residuals().show()"
   ]
  },
  {
   "cell_type": "code",
   "execution_count": null,
   "id": "405efd0b-0f70-440b-8b01-17a5ead6d853",
   "metadata": {},
   "outputs": [],
   "source": [
    "# Usando o a funcao LinearRegression conseguimos tirar o r2\n",
    "\n",
    "from pyspark.ml.regression import LinearRegression\n",
    "\n",
    "# Criar Vector Assembler\n",
    "assembler = VectorAssembler(inputCols=[\"DISTANCE\"], outputCol=\"features\")\n",
    "data = assembler.transform(dados_selecionados)\n",
    "\n",
    "# Definindo o modelo\n",
    "model_ = LinearRegression(labelCol=\"ACTUAL_ELAPSED_TIME\", featuresCol=\"features\")\n",
    "\n",
    "# Fit do modelo\n",
    "modelo_linear_ = model_.fit(data)"
   ]
  },
  {
   "cell_type": "code",
   "execution_count": null,
   "id": "77a646a3-fc4a-42af-a1d1-99d626fa6e00",
   "metadata": {},
   "outputs": [],
   "source": [
    "summary_ = modelo_linear_.summary\n",
    "summary_ # Esta função não possui aquela tabela bonita."
   ]
  },
  {
   "cell_type": "code",
   "execution_count": null,
   "id": "6a26e416-1fc6-46f6-830a-eb399cf290bd",
   "metadata": {},
   "outputs": [],
   "source": [
    "summary_.r2"
   ]
  },
  {
   "cell_type": "markdown",
   "id": "a6e4e358-5de9-45d9-aa37-f134c9e8e630",
   "metadata": {},
   "source": [
    "## 2.5. Predições"
   ]
  },
  {
   "cell_type": "markdown",
   "id": "dfe9e2ca-6a28-4bb0-8f7f-ba30a0f1cc91",
   "metadata": {},
   "source": [
    "### Dados existentes"
   ]
  },
  {
   "cell_type": "code",
   "execution_count": null,
   "id": "82512d1c-f3f2-478d-88c5-47e815ee3f15",
   "metadata": {},
   "outputs": [],
   "source": [
    "# Fazendo predições usando o último modelo\n",
    "\n",
    "predictions = summary.predictions\n",
    "# Ou também\n",
    "# predictions = modelo_linear.transform(data)\n",
    "predictions.show()"
   ]
  },
  {
   "cell_type": "markdown",
   "id": "0ebcbbae-f641-46b6-9a38-bdc9b608e992",
   "metadata": {},
   "source": [
    "### Dados novos"
   ]
  },
  {
   "cell_type": "code",
   "execution_count": null,
   "id": "02ba35a5-1707-4c21-97c1-16a673e63d1c",
   "metadata": {},
   "outputs": [],
   "source": [
    "# Realizando um predict no modelo distribuído no spark\n",
    "\n",
    "# Criando um dataframe no pandas\n",
    "dados_novos = pd.DataFrame({'DISTANCE': [2000]})\n",
    "\n",
    "# Transformando o dataframe em pandas em um dataframe Spark\n",
    "dados_novos_spark = spark.createDataFrame(dados_novos)\n",
    "\n",
    "# Exibir o DataFrame\n",
    "dados_novos_spark.show()"
   ]
  },
  {
   "cell_type": "code",
   "execution_count": null,
   "id": "c1731696-abcb-484f-9e25-ee6a66be92fd",
   "metadata": {},
   "outputs": [],
   "source": [
    "# Selecionar as colunas para a predição\n",
    "selected_columns = [\"DISTANCE\"]\n",
    "\n",
    "# Criando Vector Assembler\n",
    "assembler = VectorAssembler(inputCols=selected_columns, outputCol=\"features\")\n",
    "dados_novos_spark_features = assembler.transform(dados_novos_spark).select(\"features\")\n",
    "\n",
    "# Qual o tempo total de viagem quando a distância é igual a 2000 km?\n",
    "resultado = modelo_linear.transform(dados_novos_spark_features)\n",
    "resultado.show()"
   ]
  },
  {
   "cell_type": "code",
   "execution_count": null,
   "id": "055843f3-940c-4731-89ca-0e6ebdad5509",
   "metadata": {},
   "outputs": [],
   "source": [
    "# Análise de correlação\n",
    "\n",
    "from pyspark.ml.stat import Correlation\n",
    "from pyspark.ml.feature import VectorAssembler\n",
    "\n",
    "# Selecionar as colunas para a análise de correlação\n",
    "selected_columns = [\"ACTUAL_ELAPSED_TIME\", \"prediction\"]\n",
    "\n",
    "# Criando Vector Assembler\n",
    "assembler = VectorAssembler(inputCols=selected_columns, outputCol=\"features_corr\")\n",
    "data = assembler.transform(predictions).select(\"features_corr\")\n",
    "\n",
    "# Calculando a matriz de correlação\n",
    "corr_matrix = Correlation.corr(data, \"features_corr\", method=\"pearson\").head()\n",
    "\n",
    "# Extraindo a matriz de correlação como um array 2d\n",
    "corr_array = corr_matrix[0].toArray()"
   ]
  },
  {
   "cell_type": "code",
   "execution_count": null,
   "id": "b2b992bd-6358-4dfc-91f7-dada342c4938",
   "metadata": {},
   "outputs": [],
   "source": [
    "corr_array**2 # Os elementos fora da diagonal tem que ser iguais a R^2"
   ]
  },
  {
   "cell_type": "markdown",
   "id": "8374929f-ec28-4cec-a78e-dcadbe6ed420",
   "metadata": {},
   "source": [
    "## 2.6. Análise dos resíduos"
   ]
  },
  {
   "cell_type": "code",
   "execution_count": null,
   "id": "78a3669b-6b48-4ba3-ae9e-1d627b4ec730",
   "metadata": {},
   "outputs": [],
   "source": [
    "# Coletando os resíduos\n",
    "residuos = summary.residuals()\n",
    "\n",
    "# Pequena amostra para verificar a distribuição dos resíduos\n",
    "fracao_contagem = 0.01\n",
    "amostra_residuos = residuos.sample(withReplacement=True, fraction=fracao_contagem, seed=42)\n",
    "amostra_residuos_pd = amostra_residuos.toPandas()"
   ]
  },
  {
   "cell_type": "code",
   "execution_count": null,
   "id": "117a446c-f3e4-403f-b21c-4979460c6c5d",
   "metadata": {},
   "outputs": [],
   "source": [
    "amostra_residuos.limit(10).show()"
   ]
  },
  {
   "cell_type": "code",
   "execution_count": null,
   "id": "332b2770-59f5-4774-9a00-69dbd2c62d29",
   "metadata": {},
   "outputs": [],
   "source": [
    "\n",
    "import matplotlib.pyplot as plt\n",
    "\n",
    "# Plot do histograma dos resíduos\n",
    "plt.hist(amostra_residuos_pd[\"devianceResiduals\"], density=True, bins=range(-100, 101, 5), edgecolor='black', alpha = 0.7)\n",
    "plt.xlabel(\"Residuos\")\n",
    "plt.ylabel(\"Frequencia\")\n",
    "plt.title(\"Histograma dos Residuos\")\n",
    "plt.grid(True)\n",
    "#plt.show()\n",
    "\n",
    "# Plot da densidade dos resíduos\n",
    "#plt.figure()\n",
    "sns.kdeplot(amostra_residuos_pd[\"devianceResiduals\"], shade=True, lw = 2, color = 'black')\n",
    "#plt.xlabel(\"Residuos\")\n",
    "#plt.ylabel(\"Densidade\")\n",
    "#plt.title(\"Densidade dos Residuos\")\n",
    "#plt.grid(True)\n",
    "plt.show()"
   ]
  },
  {
   "cell_type": "markdown",
   "id": "e38160af-e537-4af0-a310-5fbed4f2f83c",
   "metadata": {},
   "source": [
    "# 3. Regressão Logística"
   ]
  },
  {
   "cell_type": "code",
   "execution_count": null,
   "id": "7f555a23-bcfd-48bc-91ad-4259d323d82b",
   "metadata": {},
   "outputs": [],
   "source": [
    "# Objetivo 2: \n",
    "# Desenvolver um modelo para calcular se o voo vai atrasar para chegar ou não baseado \n",
    "# nas variáveis do banco de dados\n",
    "# variável dependente: ATRASADO\n",
    "# Proposta de modelo: Regressão Logística\n",
    "\n",
    "\n",
    "\n",
    "\n",
    "# Revisitando nosso dataset completo\n",
    "df_all.limit(10).toPandas()"
   ]
  },
  {
   "cell_type": "code",
   "execution_count": null,
   "id": "2a1bcfa5-e0a6-410d-8383-97337fd2f254",
   "metadata": {},
   "outputs": [],
   "source": [
    "# Adicionando variáveis de tempo para verificar as interferências dessas variáveis nos atrasos dos voos\n",
    "from pyspark.sql.functions import col, month, dayofweek\n",
    "# Criar as colunas ATRASO_PARTIDA e ATRASO_CHEGADA convertendo DEP_DELAY e ARR_DELAY para numérico\n",
    "df_all_tratado = df_all.withColumn('ATRASO_PARTIDA', col('DEP_DELAY').cast('float'))\n",
    "df_all_tratado = df_all_tratado.withColumn('ATRASO_CHEGADA', col('ARR_DELAY').cast('float'))\n",
    "\n",
    "# Criar a coluna MES com o mês da data\n",
    "df_all_tratado = df_all_tratado.withColumn('MES', month('FL_DATE').cast('string'))\n",
    "\n",
    "# Criar a coluna DIA_DA_SEMANA com o dia da semana da data\n",
    "df_all_tratado = df_all_tratado.withColumn('DIA_DA_SEMANA', dayofweek('FL_DATE').cast('string'))\n",
    "\n",
    "# Exibir o DataFrame tratado\n",
    "df_all_tratado.limit(10).toPandas()"
   ]
  },
  {
   "cell_type": "markdown",
   "id": "4f6bbd41-b69c-440f-b8ea-024eed821e2f",
   "metadata": {},
   "source": [
    "## 3.1. Visualização dos dados"
   ]
  },
  {
   "cell_type": "code",
   "execution_count": null,
   "id": "90f5e70a-6f98-4282-8db2-e9a755c1984a",
   "metadata": {},
   "outputs": [],
   "source": [
    "# Coletando uma pequena amostra para verificar essas variáveis graficamente\n",
    "# Agrupar os dados por DIA_DA_SEMANA e calcular a média de ATRASO_CHEGADA\n",
    "from pyspark.sql.functions import col, mean\n",
    "\n",
    "grouped_all_tratado = df_all_tratado \\\n",
    "    .groupBy('DIA_DA_SEMANA') \\\n",
    "    .agg(mean(col('ATRASO_CHEGADA')).alias('media_atraso_chegada'))\n",
    "\n",
    "\n",
    "grouped_all_tratado_py = grouped_all_tratado.collect()"
   ]
  },
  {
   "cell_type": "code",
   "execution_count": null,
   "id": "ec5a7708-a7bd-4357-bcd3-74a0c236541c",
   "metadata": {},
   "outputs": [],
   "source": [
    "grouped_all_tratado_pd = pd.DataFrame(grouped_all_tratado_py, columns = grouped_all_tratado.columns)\n",
    "grouped_all_tratado_pd"
   ]
  },
  {
   "cell_type": "code",
   "execution_count": null,
   "id": "f03570ca-df39-4835-9030-93b39cb99197",
   "metadata": {},
   "outputs": [],
   "source": [
    "import matplotlib.pyplot as plt\n",
    "\n",
    "# Extrair os dados do DataFrame\n",
    "x = grouped_all_tratado_pd['DIA_DA_SEMANA'].astype(str)\n",
    "y = grouped_all_tratado_pd['media_atraso_chegada'].round(2)\n",
    "\n",
    "# Criar o gráfico de barras\n",
    "plt.bar(x, y, color='steelblue')\n",
    "\n",
    "# Configurar os rótulos dos eixos e o título do gráfico\n",
    "plt.xlabel('Dia da semana')\n",
    "plt.ylabel('Média de atraso dos voos')\n",
    "plt.title('Média de atraso dos voos por dia da semana')\n",
    "\n",
    "# Exibir o gráfico\n",
    "plt.show()\n"
   ]
  },
  {
   "cell_type": "code",
   "execution_count": null,
   "id": "4e39d527-5b26-45fb-9f34-65cef8932ba1",
   "metadata": {},
   "outputs": [],
   "source": [
    "# Coletando uma pequena amostra para verificar essas variacoes graficamente agora nos meses\n",
    "# Coletando uma pequena amostra para verificar essas variáveis graficamente\n",
    "# Agrupar os dados por DIA_DA_SEMANA e calcular a média de ATRASO_CHEGADA\n",
    "from pyspark.sql.functions import col, mean\n",
    "\n",
    "grouped_all_tratado_ = df_all_tratado \\\n",
    "    .groupBy('MES') \\\n",
    "    .agg(mean(col('ATRASO_CHEGADA')).alias('media_atraso_chegada'))\n",
    "\n",
    "\n",
    "grouped_all_tratado_py_ = grouped_all_tratado_.collect()"
   ]
  },
  {
   "cell_type": "code",
   "execution_count": null,
   "id": "77b25fb8-d59f-471a-a0be-3bd190dbded6",
   "metadata": {},
   "outputs": [],
   "source": [
    "grouped_all_tratado_pd_ = pd.DataFrame(grouped_all_tratado_py_, columns = grouped_all_tratado_.columns)\n",
    "grouped_all_tratado_pd_"
   ]
  },
  {
   "cell_type": "code",
   "execution_count": null,
   "id": "758486fd-c223-4dbb-90c9-531779d9004e",
   "metadata": {},
   "outputs": [],
   "source": [
    "import matplotlib.pyplot as plt\n",
    "\n",
    "# Extrair os dados do DataFrame\n",
    "x = grouped_all_tratado_pd_['MES'].astype(str)\n",
    "y = grouped_all_tratado_pd_['media_atraso_chegada'].round(2)\n",
    "\n",
    "# Criar o gráfico de barras\n",
    "plt.bar(x, y, color='steelblue')\n",
    "\n",
    "# Configurar os rótulos dos eixos e o título do gráfico\n",
    "plt.xlabel('Dia da semana')\n",
    "plt.ylabel('Média de atraso dos voos')\n",
    "plt.title('Media de atraso dos voos por mes')\n",
    "\n",
    "# Exibir o gráfico\n",
    "plt.show()\n"
   ]
  },
  {
   "cell_type": "markdown",
   "id": "5d8a747f-1958-4c24-84df-1e255ebf516b",
   "metadata": {},
   "source": [
    "## 3.2. Selecionar dados"
   ]
  },
  {
   "cell_type": "code",
   "execution_count": null,
   "id": "218ddf7b-13fb-4800-bc43-679976f5b40a",
   "metadata": {},
   "outputs": [],
   "source": [
    "# Selecionando as variáveis da modelagem\n",
    "dados_selecionados = df_all_tratado.select( \"ATRASADO\", \"CRS_DEP_TIME\", \"MES\", \"DIA_DA_SEMANA\", \"DISTANCE\")\n",
    "\n",
    "# Verificando minhas variáveis de entrada do modelo\n",
    "dados_selecionados.limit(10).toPandas()"
   ]
  },
  {
   "cell_type": "code",
   "execution_count": null,
   "id": "942bf338-fde1-4059-8cdb-ebf0c70b1d75",
   "metadata": {},
   "outputs": [],
   "source": [
    "# A função Bucketizer no PySpark é usada para converter uma coluna numérica contínua em uma coluna com \n",
    "# valores discretos (buckets) com base em intervalos específicos. É útil para criar recursos categóricos \n",
    "# a partir de dados numéricos contínuos.\n",
    "\n",
    "# A função Bucketizer requer a definição dos pontos de corte (splits) que serão usados para dividir os \n",
    "# valores contínuos em intervalos discretos. Por exemplo, se definirmos os splits como [0, 10, 20, 30],\n",
    "# a função irá dividir os valores em quatro intervalos: valores menores que 0, valores entre 0 e 10, \n",
    "# valores entre 10 e 20, e valores entre 20 e 30.\n",
    "\n",
    "from pyspark.ml.feature import Bucketizer\n",
    "\n",
    "# Definir os limites dos intervalos\n",
    "splits = [float(x) for x in range(0, 2401, 400)]\n",
    "\n",
    "# Criar o Bucketizer\n",
    "bucketizer = Bucketizer(inputCol=\"CRS_DEP_TIME\", outputCol=\"HORAS\", splits=splits)\n",
    "\n",
    "# Aplicar o Bucketizer aos dados\n",
    "dados_selecionados = bucketizer.transform(dados_selecionados)\n",
    "\n",
    "# Exibir o resultado\n",
    "dados_selecionados.limit(10).toPandas()"
   ]
  },
  {
   "cell_type": "code",
   "execution_count": null,
   "id": "f3ab49b2-b3ea-43f2-a79c-9693482e2936",
   "metadata": {},
   "outputs": [],
   "source": [
    "# Retirar missing values do dataset caso existam\n",
    "dados_selecionados = dados_selecionados.na.drop()\n",
    "dados_selecionados.printSchema()"
   ]
  },
  {
   "cell_type": "markdown",
   "id": "482d9861-fad6-4be8-a66c-14531890abc6",
   "metadata": {},
   "source": [
    "## 3.3. Dummyzação"
   ]
  },
  {
   "cell_type": "code",
   "execution_count": null,
   "id": "978d901a-a798-46c6-adb5-6f39478cc646",
   "metadata": {},
   "outputs": [],
   "source": [
    "from pyspark.ml.feature import VectorAssembler\n",
    "from pyspark.ml.feature import OneHotEncoder, StringIndexer\n",
    "from pyspark.ml import Pipeline\n",
    "\n",
    "# A função StringIndexer no PySpark é usada para converter uma coluna de strings em uma coluna de índices \n",
    "# numéricos. Ela atribui um índice único para cada valor distinto na coluna de entrada, em ordem de frequência \n",
    "# de ocorrência. Isso pode ser útil para preparar dados de texto ou dados categóricos para algoritmos de \n",
    "# aprendizado de máquina que exigem entradas numéricas.\n",
    "\n",
    "\n",
    "# A classe Pipeline no PySpark é uma ferramenta para facilitar o fluxo de trabalho de construção e implantação \n",
    "# de pipelines de transformação e modelagem de dados. O pipeline permite que você organize e encadeie várias \n",
    "# etapas de processamento de dados de maneira sequencial.\n",
    "\n",
    "# Um pipeline consiste em uma sequência ordenada de etapas, onde cada etapa é uma transformação de dados ou um\n",
    "# estimador de modelo. As transformações de dados são responsáveis por pré-processar os dados, enquanto os estimadores\n",
    "# são usados para ajustar modelos aos dados. Cada etapa do pipeline é especificada como uma tupla contendo um nome \n",
    "# para a etapa e um objeto transformador ou estimador.\n",
    "indexers = [StringIndexer(inputCol=col, outputCol=col + \"_index\", stringOrderType=\"alphabetAsc\") for col in [\"DIA_DA_SEMANA\", \"MES\"]]\n",
    "indexer_pipeline = Pipeline(stages=indexers)\n",
    "indexers_model = indexer_pipeline.fit(dados_selecionados)\n",
    "\n",
    "df_indexed = indexers_model.transform(dados_selecionados)\n",
    "\n",
    "df_indexed.limit(10).toPandas()"
   ]
  },
  {
   "cell_type": "code",
   "execution_count": null,
   "id": "ee656fd0-b4fc-4641-944b-680eb4baffa2",
   "metadata": {},
   "outputs": [],
   "source": [
    "\n",
    "# A função OneHotEncoder no PySpark é uma transformação que converte variáveis categóricas em representações \n",
    "# numéricas binárias. Ela mapeia cada valor distinto de uma variável categórica em um vetor binário, onde cada\n",
    "# posição do vetor representa uma categoria possível e é preenchida com 1 ou 0, indicando a presença ou ausência \n",
    "# da categoria.\n",
    "\n",
    "# É efetivamente a dummyzação.\n",
    "\n",
    "dummy_cols = [\"DIA_DA_SEMANA_index\", \"MES_index\"]\n",
    "encoder = OneHotEncoder(inputCols=dummy_cols, outputCols=[col+\"_encoded\" for col in dummy_cols])\n",
    "encoder_pipeline = Pipeline(stages=[encoder])\n",
    "encoder_model = encoder_pipeline.fit(df_indexed)\n",
    "df_encoded = encoder_model.transform(df_indexed)\n",
    "\n",
    "df_encoded.limit(10).toPandas()"
   ]
  },
  {
   "cell_type": "markdown",
   "id": "2f557572-b5df-4d1a-a1a5-185b91dd39a7",
   "metadata": {},
   "source": [
    "## 3.4. Modelo"
   ]
  },
  {
   "cell_type": "code",
   "execution_count": null,
   "id": "27386f68-ba26-4656-a577-3e5fa17e1bcf",
   "metadata": {},
   "outputs": [],
   "source": [
    "from pyspark.ml.classification import LogisticRegression\n",
    "\n",
    "# Criar Vector Assembler\n",
    "assembler = VectorAssembler(inputCols=[\"DIA_DA_SEMANA_index_encoded\", \"HORAS\", \"MES_index_encoded\", \"DISTANCE\"], outputCol=\"features\")\n",
    "data = assembler.transform(df_encoded)\n",
    "\n",
    "# Criar o modelo de regressão logística\n",
    "model = LogisticRegression(labelCol=\"ATRASADO\", featuresCol=\"features\", family=\"binomial\")\n",
    "\n",
    "# Treinar o modelo\n",
    "modelo_logistico = model.fit(data)\n"
   ]
  },
  {
   "cell_type": "code",
   "execution_count": null,
   "id": "efdad5e8-95b5-4b8a-a2e4-d6e7f0fca3ee",
   "metadata": {},
   "outputs": [],
   "source": [
    "summary = modelo_logistico.summary\n",
    "summary"
   ]
  },
  {
   "cell_type": "code",
   "execution_count": null,
   "id": "04fe1f69-1c2e-4fcb-afb4-233e14153e1c",
   "metadata": {},
   "outputs": [],
   "source": [
    "from pyspark.ml.regression import GeneralizedLinearRegression\n",
    "\n",
    "# Criar Vector Assembler\n",
    "assembler = VectorAssembler(inputCols=[\"DIA_DA_SEMANA_index_encoded\", \"HORAS\", \"MES_index_encoded\", \"DISTANCE\"], outputCol=\"features\")\n",
    "data = assembler.transform(df_encoded)\n",
    "\n",
    "# Modelo\n",
    "model = GeneralizedLinearRegression(family=\"binomial\", link=\"logit\", labelCol=\"ATRASADO\")\n",
    "modelo_logistico = model.fit(data)"
   ]
  },
  {
   "cell_type": "code",
   "execution_count": null,
   "id": "5677b3e2-bdd4-4db5-841d-04bf601514ac",
   "metadata": {},
   "outputs": [],
   "source": [
    "summary = modelo_logistico.summary\n",
    "summary"
   ]
  },
  {
   "cell_type": "markdown",
   "id": "d0b25c19-4e15-41bb-8e10-cd04b1e4fd46",
   "metadata": {},
   "source": [
    "## 3.5. Matriz de confusão"
   ]
  },
  {
   "cell_type": "markdown",
   "id": "4faa3abe-92bf-4c56-8206-cf8f84dad1f5",
   "metadata": {},
   "source": [
    "### Dados existentes"
   ]
  },
  {
   "cell_type": "code",
   "execution_count": null,
   "id": "c500d9ff-f15b-46a0-8835-c8a6167d1e9e",
   "metadata": {},
   "outputs": [],
   "source": [
    "# Fazer as previsões usando o modelo\n",
    "predictions = modelo_logistico.transform(data)\n",
    "\n",
    "predictions.limit(10).toPandas()\n"
   ]
  },
  {
   "cell_type": "markdown",
   "id": "62fe4b14-7d3a-4abc-bcd1-5f7d7d8bd11b",
   "metadata": {},
   "source": [
    "### Dados novos"
   ]
  },
  {
   "cell_type": "code",
   "execution_count": null,
   "id": "ef571b40-5bd2-4990-ba26-8fb7f882cacb",
   "metadata": {},
   "outputs": [],
   "source": [
    "# Realizando um predict no modelo distribuído no spark\n",
    "\n",
    "# Criando um dataframe no pandas\n",
    "dados_novos = pd.DataFrame({'DIA_DA_SEMANA': [1,2,3,4,5,6,7,1,2,3,4, 5], \"HORAS\": [2,2,2,2,2,2,2,2,2,2,2,2], \"MES\": [1,2,3,4,5,6,7,8,9,10,11, 12], \"DISTANCE\": [2000,2000,2000,2000,2000,2000,2000,2000,2000,2000,2000,2000]})\n",
    "\n",
    "# Transformando o dataframe em pandas em um dataframe Spark\n",
    "dados_novos_spark = spark.createDataFrame(dados_novos)\n",
    "\n",
    "# Registrar o DataFrame como uma tabela temporária\n",
    "#dados_novos_spark.createOrReplaceTempView(\"dados_novos_spark\")\n",
    "\n",
    "# Exibir o DataFrame\n",
    "dados_novos_spark.show()"
   ]
  },
  {
   "cell_type": "code",
   "execution_count": null,
   "id": "1ebc384e-7f3b-4256-b082-767b36d64e29",
   "metadata": {},
   "outputs": [],
   "source": [
    "dados_novos_indexed = indexers_model.transform(dados_novos_spark)\n",
    "dados_novos_indexed.show()"
   ]
  },
  {
   "cell_type": "code",
   "execution_count": null,
   "id": "56cbadeb-10fe-480d-8655-793301dabd77",
   "metadata": {},
   "outputs": [],
   "source": [
    "dados_novos_encoded = encoder_model.transform(dados_novos_indexed)\n",
    "dados_novos_encoded.toPandas()"
   ]
  },
  {
   "cell_type": "code",
   "execution_count": null,
   "id": "0b4ec7e1-e13c-4495-846d-9475fd9132d5",
   "metadata": {},
   "outputs": [],
   "source": [
    "# Selecionar as colunas para a predição\n",
    "selected_columns = [\"DIA_DA_SEMANA_index_encoded\", \"HORAS\", \"MES_index_encoded\", \"DISTANCE\"]\n",
    "\n",
    "# Assemble the selected columns into a feature vector\n",
    "assembler = VectorAssembler(inputCols=selected_columns, outputCol=\"features\")\n",
    "dados_novos_encoded_features = assembler.transform(dados_novos_encoded).select(\"features\")\n",
    "\n",
    "\n",
    "\n",
    "# Qual o tempo total de viagem quando a distância é igual a 2000 km?\n",
    "resultado = logistic_model.transform(dados_novos_encoded_features)\n",
    "resultado.toPandas()"
   ]
  },
  {
   "cell_type": "markdown",
   "id": "396bdb15-61d6-4b9a-acdb-19a86b1f82b8",
   "metadata": {},
   "source": [
    "## 3.6. Matriz de confusão"
   ]
  },
  {
   "cell_type": "code",
   "execution_count": null,
   "id": "0e6d51ec-41b4-4cb8-a9b1-9c4784478c46",
   "metadata": {},
   "outputs": [],
   "source": [
    "from pyspark.sql.functions import when\n",
    "\n",
    "# Adicionar a coluna \"y_hat\" ao DataFrame com base no threshold de 0.5\n",
    "predictions = predictions.withColumn(\"y_hat\", when(predictions[\"prediction\"] >= 0.5, 1).otherwise(0))\n",
    "\n",
    "# Exibir os resultados\n",
    "predictions.limit(5).toPandas()"
   ]
  },
  {
   "cell_type": "code",
   "execution_count": null,
   "id": "b973bf92-8ee0-452e-8e8b-6051b24098b9",
   "metadata": {},
   "outputs": [],
   "source": [
    "from pyspark.sql.functions import col\n",
    "\n",
    "# Converter as colunas para tipo String\n",
    "predictions = predictions.withColumn(\"ATRASADO\", col(\"ATRASADO\").cast(\"string\"))\n",
    "predictions = predictions.withColumn(\"y_hat\", col(\"y_hat\").cast(\"string\"))\n",
    "\n",
    "# Calcular a matriz de confusão\n",
    "confusion_matrix = predictions.groupBy(\"ATRASADO\").pivot(\"y_hat\").count().na.fill(0)\n",
    "\n",
    "# Exibir a matriz de confusão\n",
    "confusion_matrix.show()"
   ]
  },
  {
   "cell_type": "markdown",
   "id": "b56c2336-8da9-4620-a3fb-4763e3737eee",
   "metadata": {},
   "source": [
    "## 3.7. Área curva ROC"
   ]
  },
  {
   "cell_type": "code",
   "execution_count": null,
   "id": "c653aa9f-0040-4989-87fe-19742874364b",
   "metadata": {},
   "outputs": [],
   "source": [
    "from pyspark.ml.evaluation import BinaryClassificationEvaluator\n",
    "\n",
    "predictions = predictions.withColumn(\"ATRASADO\", col(\"ATRASADO\").cast(\"float\"))\n",
    "\n",
    "# Criar o avaliador BinaryClassificationEvaluator\n",
    "evaluator = BinaryClassificationEvaluator(labelCol=\"ATRASADO\", rawPredictionCol=\"prediction\", metricName=\"areaUnderROC\")\n",
    "\n",
    "# Calcular a métrica AUC\n",
    "auc = evaluator.evaluate(predictions)\n",
    "\n",
    "# Exibir o valor da métrica AUC\n",
    "print(\"AUC:\", auc)\n"
   ]
  },
  {
   "cell_type": "code",
   "execution_count": null,
   "id": "654d2c64-0f59-44f1-a89c-b97fc4d5de23",
   "metadata": {},
   "outputs": [],
   "source": [
    "spark.stop()"
   ]
  },
  {
   "cell_type": "markdown",
   "id": "b2ea5990-e7fe-4c11-a3af-dffd741b7d2a",
   "metadata": {},
   "source": [
    "# 4. Deployment de dados com MLflow"
   ]
  },
  {
   "cell_type": "code",
   "execution_count": 2,
   "id": "b42c56b2-697f-4d3d-88ff-c048c4bc1a9d",
   "metadata": {},
   "outputs": [
    {
     "data": {
      "text/html": [
       "<div>\n",
       "<style scoped>\n",
       "    .dataframe tbody tr th:only-of-type {\n",
       "        vertical-align: middle;\n",
       "    }\n",
       "\n",
       "    .dataframe tbody tr th {\n",
       "        vertical-align: top;\n",
       "    }\n",
       "\n",
       "    .dataframe thead th {\n",
       "        text-align: right;\n",
       "    }\n",
       "</style>\n",
       "<table border=\"1\" class=\"dataframe\">\n",
       "  <thead>\n",
       "    <tr style=\"text-align: right;\">\n",
       "      <th></th>\n",
       "      <th>estudante</th>\n",
       "      <th>escola</th>\n",
       "      <th>desempenho</th>\n",
       "      <th>horas</th>\n",
       "      <th>texp</th>\n",
       "    </tr>\n",
       "  </thead>\n",
       "  <tbody>\n",
       "    <tr>\n",
       "      <th>0</th>\n",
       "      <td>1</td>\n",
       "      <td>1</td>\n",
       "      <td>25.0</td>\n",
       "      <td>11</td>\n",
       "      <td>3.6</td>\n",
       "    </tr>\n",
       "    <tr>\n",
       "      <th>1</th>\n",
       "      <td>2</td>\n",
       "      <td>1</td>\n",
       "      <td>52.0</td>\n",
       "      <td>23</td>\n",
       "      <td>3.6</td>\n",
       "    </tr>\n",
       "    <tr>\n",
       "      <th>2</th>\n",
       "      <td>3</td>\n",
       "      <td>1</td>\n",
       "      <td>52.0</td>\n",
       "      <td>25</td>\n",
       "      <td>3.6</td>\n",
       "    </tr>\n",
       "    <tr>\n",
       "      <th>3</th>\n",
       "      <td>4</td>\n",
       "      <td>1</td>\n",
       "      <td>30.0</td>\n",
       "      <td>14</td>\n",
       "      <td>3.6</td>\n",
       "    </tr>\n",
       "    <tr>\n",
       "      <th>4</th>\n",
       "      <td>5</td>\n",
       "      <td>1</td>\n",
       "      <td>51.0</td>\n",
       "      <td>24</td>\n",
       "      <td>3.6</td>\n",
       "    </tr>\n",
       "    <tr>\n",
       "      <th>...</th>\n",
       "      <td>...</td>\n",
       "      <td>...</td>\n",
       "      <td>...</td>\n",
       "      <td>...</td>\n",
       "      <td>...</td>\n",
       "    </tr>\n",
       "    <tr>\n",
       "      <th>353</th>\n",
       "      <td>354</td>\n",
       "      <td>10</td>\n",
       "      <td>46.5</td>\n",
       "      <td>28</td>\n",
       "      <td>3.9</td>\n",
       "    </tr>\n",
       "    <tr>\n",
       "      <th>354</th>\n",
       "      <td>355</td>\n",
       "      <td>10</td>\n",
       "      <td>21.0</td>\n",
       "      <td>9</td>\n",
       "      <td>3.9</td>\n",
       "    </tr>\n",
       "    <tr>\n",
       "      <th>355</th>\n",
       "      <td>356</td>\n",
       "      <td>10</td>\n",
       "      <td>42.0</td>\n",
       "      <td>27</td>\n",
       "      <td>3.9</td>\n",
       "    </tr>\n",
       "    <tr>\n",
       "      <th>356</th>\n",
       "      <td>357</td>\n",
       "      <td>10</td>\n",
       "      <td>14.0</td>\n",
       "      <td>7</td>\n",
       "      <td>3.9</td>\n",
       "    </tr>\n",
       "    <tr>\n",
       "      <th>357</th>\n",
       "      <td>358</td>\n",
       "      <td>10</td>\n",
       "      <td>41.5</td>\n",
       "      <td>24</td>\n",
       "      <td>3.9</td>\n",
       "    </tr>\n",
       "  </tbody>\n",
       "</table>\n",
       "<p>358 rows × 5 columns</p>\n",
       "</div>"
      ],
      "text/plain": [
       "     estudante  escola  desempenho  horas  texp\n",
       "0            1       1        25.0     11   3.6\n",
       "1            2       1        52.0     23   3.6\n",
       "2            3       1        52.0     25   3.6\n",
       "3            4       1        30.0     14   3.6\n",
       "4            5       1        51.0     24   3.6\n",
       "..         ...     ...         ...    ...   ...\n",
       "353        354      10        46.5     28   3.9\n",
       "354        355      10        21.0      9   3.9\n",
       "355        356      10        42.0     27   3.9\n",
       "356        357      10        14.0      7   3.9\n",
       "357        358      10        41.5     24   3.9\n",
       "\n",
       "[358 rows x 5 columns]"
      ]
     },
     "execution_count": 2,
     "metadata": {},
     "output_type": "execute_result"
    }
   ],
   "source": [
    "estudante_escola = pd.read_csv(\"/datasets/estudante_escola.csv\", delimiter=',')\n",
    "estudante_escola"
   ]
  },
  {
   "cell_type": "code",
   "execution_count": 3,
   "id": "cbe791f4-be17-4a15-94a9-a8dbe5df1ede",
   "metadata": {},
   "outputs": [
    {
     "name": "stdout",
     "output_type": "stream",
     "text": [
      "<class 'pandas.core.frame.DataFrame'>\n",
      "RangeIndex: 358 entries, 0 to 357\n",
      "Data columns (total 5 columns):\n",
      " #   Column      Non-Null Count  Dtype  \n",
      "---  ------      --------------  -----  \n",
      " 0   estudante   358 non-null    int64  \n",
      " 1   escola      358 non-null    int64  \n",
      " 2   desempenho  358 non-null    float64\n",
      " 3   horas       358 non-null    int64  \n",
      " 4   texp        358 non-null    float64\n",
      "dtypes: float64(2), int64(3)\n",
      "memory usage: 14.1 KB\n"
     ]
    }
   ],
   "source": [
    "#Características das variáveis do dataset\n",
    "estudante_escola.info()"
   ]
  },
  {
   "cell_type": "code",
   "execution_count": 4,
   "id": "77f29f59-2872-4cb2-b68c-3cb5b880f959",
   "metadata": {},
   "outputs": [
    {
     "name": "stdout",
     "output_type": "stream",
     "text": [
      "<class 'pandas.core.frame.DataFrame'>\n",
      "RangeIndex: 358 entries, 0 to 357\n",
      "Data columns (total 5 columns):\n",
      " #   Column      Non-Null Count  Dtype   \n",
      "---  ------      --------------  -----   \n",
      " 0   estudante   358 non-null    category\n",
      " 1   escola      358 non-null    category\n",
      " 2   desempenho  358 non-null    float64 \n",
      " 3   horas       358 non-null    int64   \n",
      " 4   texp        358 non-null    float64 \n",
      "dtypes: category(2), float64(2), int64(1)\n",
      "memory usage: 20.8 KB\n"
     ]
    }
   ],
   "source": [
    "# Ajustando os tipos das variáveis categóricas\n",
    "estudante_escola['estudante'] = estudante_escola['estudante'].astype('category')\n",
    "estudante_escola['escola'] = estudante_escola['escola'].astype('category')\n",
    "estudante_escola.info()"
   ]
  },
  {
   "cell_type": "code",
   "execution_count": 5,
   "id": "4784b493-50ce-456c-a052-d322c051408c",
   "metadata": {},
   "outputs": [
    {
     "data": {
      "text/html": [
       "<div>\n",
       "<style scoped>\n",
       "    .dataframe tbody tr th:only-of-type {\n",
       "        vertical-align: middle;\n",
       "    }\n",
       "\n",
       "    .dataframe tbody tr th {\n",
       "        vertical-align: top;\n",
       "    }\n",
       "\n",
       "    .dataframe thead th {\n",
       "        text-align: right;\n",
       "    }\n",
       "</style>\n",
       "<table border=\"1\" class=\"dataframe\">\n",
       "  <thead>\n",
       "    <tr style=\"text-align: right;\">\n",
       "      <th></th>\n",
       "      <th>horas</th>\n",
       "      <th>desempenho</th>\n",
       "      <th>texp</th>\n",
       "    </tr>\n",
       "  </thead>\n",
       "  <tbody>\n",
       "    <tr>\n",
       "      <th>horas</th>\n",
       "      <td>1.000000</td>\n",
       "      <td>0.307386</td>\n",
       "      <td>-0.245678</td>\n",
       "    </tr>\n",
       "    <tr>\n",
       "      <th>desempenho</th>\n",
       "      <td>0.307386</td>\n",
       "      <td>1.000000</td>\n",
       "      <td>0.752033</td>\n",
       "    </tr>\n",
       "    <tr>\n",
       "      <th>texp</th>\n",
       "      <td>-0.245678</td>\n",
       "      <td>0.752033</td>\n",
       "      <td>1.000000</td>\n",
       "    </tr>\n",
       "  </tbody>\n",
       "</table>\n",
       "</div>"
      ],
      "text/plain": [
       "               horas  desempenho      texp\n",
       "horas       1.000000    0.307386 -0.245678\n",
       "desempenho  0.307386    1.000000  0.752033\n",
       "texp       -0.245678    0.752033  1.000000"
      ]
     },
     "execution_count": 5,
     "metadata": {},
     "output_type": "execute_result"
    }
   ],
   "source": [
    "# Matriz de correlações\n",
    "\n",
    "corr = estudante_escola[['horas','desempenho', 'texp']].corr()\n",
    "corr\n"
   ]
  },
  {
   "cell_type": "code",
   "execution_count": 6,
   "id": "ab51e5ea-ecd1-496b-806d-bccdce91e88d",
   "metadata": {},
   "outputs": [
    {
     "data": {
      "image/png": "[encoded data removed]",
      "text/plain": [
       "<Figure size 1500x1000 with 2 Axes>"
      ]
     },
     "metadata": {},
     "output_type": "display_data"
    }
   ],
   "source": [
    "import matplotlib.pyplot as plt # biblioteca de visualização de dados\n",
    "import seaborn as sns # biblioteca de visualização de informações estatísticas\n",
    "\n",
    "# Heatmap das correlações\n",
    "plt.figure(figsize=(15,10))\n",
    "sns.heatmap(corr, annot=True, cmap = plt.cm.Reds,\n",
    "            annot_kws={'size':22})\n",
    "plt.show()"
   ]
  },
  {
   "cell_type": "code",
   "execution_count": 7,
   "id": "f7beb4d1-ea56-4059-9dd7-6a3f382c9f0b",
   "metadata": {},
   "outputs": [
    {
     "data": {
      "image/png": "[encoded data removed]",
      "text/plain": [
       "<Figure size 640x480 with 1 Axes>"
      ]
     },
     "metadata": {},
     "output_type": "display_data"
    }
   ],
   "source": [
    "sns.histplot(data=estudante_escola, x='desempenho', kde=True, color='deepskyblue', bins = 30)\n",
    "plt.xlabel('Desempenho')\n",
    "plt.ylabel('Densidade')\n",
    "plt.title('Distribuição do Desempenho')\n",
    "plt.show()\n"
   ]
  },
  {
   "cell_type": "code",
   "execution_count": 8,
   "id": "3763ad6f-c36b-447a-bacf-b6c70e275f51",
   "metadata": {},
   "outputs": [
    {
     "name": "stderr",
     "output_type": "stream",
     "text": [
      "No artists with labels found to put in legend.  Note that artists whose label start with an underscore are ignored when legend() is called with no argument.\n"
     ]
    },
    {
     "data": {
      "image/png": "[encoded data removed]",
      "text/plain": [
       "<Figure size 640x480 with 1 Axes>"
      ]
     },
     "metadata": {},
     "output_type": "display_data"
    }
   ],
   "source": [
    "import seaborn as sns\n",
    "import matplotlib.pyplot as plt\n",
    "\n",
    "sns.kdeplot(data=estudante_escola, x='desempenho', hue='escola', fill=True, alpha=0.3, palette='viridis')\n",
    "plt.xlabel('Desempenho')\n",
    "plt.ylabel('Densidade')\n",
    "plt.title('Distribuição do Desempenho por Escola')\n",
    "plt.legend(title='Escola')\n",
    "plt.show()"
   ]
  },
  {
   "cell_type": "code",
   "execution_count": 9,
   "id": "d3473d23-c96d-4abd-be0a-f3e6edabb060",
   "metadata": {},
   "outputs": [
    {
     "data": {
      "text/plain": [
       "estudante     False\n",
       "escola        False\n",
       "desempenho    False\n",
       "horas         False\n",
       "texp          False\n",
       "dtype: bool"
      ]
     },
     "execution_count": 9,
     "metadata": {},
     "output_type": "execute_result"
    }
   ],
   "source": [
    "# Localizando valores ausentes no dataframe\n",
    "estudante_escola.isnull().any()\n"
   ]
  },
  {
   "cell_type": "code",
   "execution_count": 10,
   "id": "d6d44c55-8c4d-4d02-8333-c11d01d8229b",
   "metadata": {},
   "outputs": [
    {
     "data": {
      "text/plain": [
       "estudante     0\n",
       "escola        0\n",
       "desempenho    0\n",
       "horas         0\n",
       "texp          0\n",
       "dtype: int64"
      ]
     },
     "execution_count": 10,
     "metadata": {},
     "output_type": "execute_result"
    }
   ],
   "source": [
    "# Contando a quantidade de valores ausentes em cada variável\n",
    "estudante_escola.isnull().sum()"
   ]
  },
  {
   "cell_type": "code",
   "execution_count": 17,
   "id": "5c17a685-1ef0-42f6-a624-b30d5ca3d1ea",
   "metadata": {},
   "outputs": [],
   "source": [
    "import mlflow\n",
    "\n",
    "# por algum motivo não consigo acessar o mlflow ui\n",
    "\n"
   ]
  }
 ],
 "metadata": {
  "kernelspec": {
   "display_name": "Python 3 (ipykernel)",
   "language": "python",
   "name": "python3"
  },
  "language_info": {
   "codemirror_mode": {
    "name": "ipython",
    "version": 3
   },
   "file_extension": ".py",
   "mimetype": "text/x-python",
   "name": "python",
   "nbconvert_exporter": "python",
   "pygments_lexer": "ipython3",
   "version": "3.9.13"
  }
 },
 "nbformat": 4,
 "nbformat_minor": 5
}
